{
 "cells": [
  {
   "cell_type": "code",
   "execution_count": 641,
   "id": "2a8c8046",
   "metadata": {},
   "outputs": [],
   "source": [
    "import pandas as pd\n",
    "import numpy as np\n",
    "import statsmodels.formula.api as sm\n",
    "import scipy.stats as stats\n",
    "\n"
   ]
  },
  {
   "cell_type": "code",
   "execution_count": 642,
   "id": "f4fb7219",
   "metadata": {},
   "outputs": [],
   "source": [
    "pd.set_option('display.max_columns', None)\n",
    "pd.set_option('display.max_rows', None) "
   ]
  },
  {
   "cell_type": "code",
   "execution_count": 643,
   "id": "46296f5c",
   "metadata": {},
   "outputs": [
    {
     "data": {
      "text/html": [
       "<div>\n",
       "<style scoped>\n",
       "    .dataframe tbody tr th:only-of-type {\n",
       "        vertical-align: middle;\n",
       "    }\n",
       "\n",
       "    .dataframe tbody tr th {\n",
       "        vertical-align: top;\n",
       "    }\n",
       "\n",
       "    .dataframe thead th {\n",
       "        text-align: right;\n",
       "    }\n",
       "</style>\n",
       "<table border=\"1\" class=\"dataframe\">\n",
       "  <thead>\n",
       "    <tr style=\"text-align: right;\">\n",
       "      <th></th>\n",
       "      <th>Age</th>\n",
       "      <th>Attrition</th>\n",
       "      <th>BusinessTravel</th>\n",
       "      <th>Department</th>\n",
       "      <th>DistanceFromHome</th>\n",
       "      <th>Education</th>\n",
       "      <th>EducationField</th>\n",
       "      <th>EmployeeNumber</th>\n",
       "      <th>EnvironmentSatisfaction</th>\n",
       "      <th>Gender</th>\n",
       "      <th>JobInvolvement</th>\n",
       "      <th>JobLevel</th>\n",
       "      <th>JobRole</th>\n",
       "      <th>JobSatisfaction</th>\n",
       "      <th>MaritalStatus</th>\n",
       "      <th>MonthlyIncome</th>\n",
       "      <th>NumCompaniesWorked</th>\n",
       "      <th>Over18</th>\n",
       "      <th>OverTime</th>\n",
       "      <th>PercentSalaryHike</th>\n",
       "      <th>PerformanceRating</th>\n",
       "      <th>RelationshipSatisfaction</th>\n",
       "      <th>StockOptionLevel</th>\n",
       "      <th>TotalWorkingYears</th>\n",
       "      <th>TrainingTimesLastYear</th>\n",
       "      <th>WorkLifeBalance</th>\n",
       "      <th>YearsAtCompany</th>\n",
       "      <th>YearsInCurrentRole</th>\n",
       "      <th>YearsSinceLastPromotion</th>\n",
       "      <th>YearsWithCurrManager</th>\n",
       "    </tr>\n",
       "  </thead>\n",
       "  <tbody>\n",
       "    <tr>\n",
       "      <th>0</th>\n",
       "      <td>41</td>\n",
       "      <td>Yes</td>\n",
       "      <td>Travel_Rarely</td>\n",
       "      <td>Sales</td>\n",
       "      <td>1</td>\n",
       "      <td>2</td>\n",
       "      <td>Life Sciences</td>\n",
       "      <td>1</td>\n",
       "      <td>2</td>\n",
       "      <td>Female</td>\n",
       "      <td>3</td>\n",
       "      <td>2</td>\n",
       "      <td>Sales Executive</td>\n",
       "      <td>4</td>\n",
       "      <td>Single</td>\n",
       "      <td>5993</td>\n",
       "      <td>8</td>\n",
       "      <td>Y</td>\n",
       "      <td>Yes</td>\n",
       "      <td>11</td>\n",
       "      <td>3</td>\n",
       "      <td>1</td>\n",
       "      <td>0</td>\n",
       "      <td>8</td>\n",
       "      <td>0</td>\n",
       "      <td>1</td>\n",
       "      <td>6</td>\n",
       "      <td>4</td>\n",
       "      <td>0</td>\n",
       "      <td>5</td>\n",
       "    </tr>\n",
       "    <tr>\n",
       "      <th>1</th>\n",
       "      <td>49</td>\n",
       "      <td>No</td>\n",
       "      <td>Travel_Frequently</td>\n",
       "      <td>Research &amp; Development</td>\n",
       "      <td>8</td>\n",
       "      <td>1</td>\n",
       "      <td>Life Sciences</td>\n",
       "      <td>2</td>\n",
       "      <td>3</td>\n",
       "      <td>Male</td>\n",
       "      <td>2</td>\n",
       "      <td>2</td>\n",
       "      <td>Research Scientist</td>\n",
       "      <td>2</td>\n",
       "      <td>Married</td>\n",
       "      <td>5130</td>\n",
       "      <td>1</td>\n",
       "      <td>Y</td>\n",
       "      <td>No</td>\n",
       "      <td>23</td>\n",
       "      <td>4</td>\n",
       "      <td>4</td>\n",
       "      <td>1</td>\n",
       "      <td>10</td>\n",
       "      <td>3</td>\n",
       "      <td>3</td>\n",
       "      <td>10</td>\n",
       "      <td>7</td>\n",
       "      <td>1</td>\n",
       "      <td>7</td>\n",
       "    </tr>\n",
       "    <tr>\n",
       "      <th>2</th>\n",
       "      <td>37</td>\n",
       "      <td>Yes</td>\n",
       "      <td>Travel_Rarely</td>\n",
       "      <td>Research &amp; Development</td>\n",
       "      <td>2</td>\n",
       "      <td>2</td>\n",
       "      <td>Other</td>\n",
       "      <td>4</td>\n",
       "      <td>4</td>\n",
       "      <td>Male</td>\n",
       "      <td>2</td>\n",
       "      <td>1</td>\n",
       "      <td>Laboratory Technician</td>\n",
       "      <td>3</td>\n",
       "      <td>Single</td>\n",
       "      <td>2090</td>\n",
       "      <td>6</td>\n",
       "      <td>Y</td>\n",
       "      <td>Yes</td>\n",
       "      <td>15</td>\n",
       "      <td>3</td>\n",
       "      <td>2</td>\n",
       "      <td>0</td>\n",
       "      <td>7</td>\n",
       "      <td>3</td>\n",
       "      <td>3</td>\n",
       "      <td>0</td>\n",
       "      <td>0</td>\n",
       "      <td>0</td>\n",
       "      <td>0</td>\n",
       "    </tr>\n",
       "    <tr>\n",
       "      <th>3</th>\n",
       "      <td>33</td>\n",
       "      <td>No</td>\n",
       "      <td>Travel_Frequently</td>\n",
       "      <td>Research &amp; Development</td>\n",
       "      <td>3</td>\n",
       "      <td>4</td>\n",
       "      <td>Life Sciences</td>\n",
       "      <td>5</td>\n",
       "      <td>4</td>\n",
       "      <td>Female</td>\n",
       "      <td>3</td>\n",
       "      <td>1</td>\n",
       "      <td>Research Scientist</td>\n",
       "      <td>3</td>\n",
       "      <td>Married</td>\n",
       "      <td>2909</td>\n",
       "      <td>1</td>\n",
       "      <td>Y</td>\n",
       "      <td>Yes</td>\n",
       "      <td>11</td>\n",
       "      <td>3</td>\n",
       "      <td>3</td>\n",
       "      <td>0</td>\n",
       "      <td>8</td>\n",
       "      <td>3</td>\n",
       "      <td>3</td>\n",
       "      <td>8</td>\n",
       "      <td>7</td>\n",
       "      <td>3</td>\n",
       "      <td>0</td>\n",
       "    </tr>\n",
       "    <tr>\n",
       "      <th>4</th>\n",
       "      <td>27</td>\n",
       "      <td>No</td>\n",
       "      <td>Travel_Rarely</td>\n",
       "      <td>Research &amp; Development</td>\n",
       "      <td>2</td>\n",
       "      <td>1</td>\n",
       "      <td>Medical</td>\n",
       "      <td>7</td>\n",
       "      <td>1</td>\n",
       "      <td>Male</td>\n",
       "      <td>3</td>\n",
       "      <td>1</td>\n",
       "      <td>Laboratory Technician</td>\n",
       "      <td>2</td>\n",
       "      <td>Married</td>\n",
       "      <td>3468</td>\n",
       "      <td>9</td>\n",
       "      <td>Y</td>\n",
       "      <td>No</td>\n",
       "      <td>12</td>\n",
       "      <td>3</td>\n",
       "      <td>4</td>\n",
       "      <td>1</td>\n",
       "      <td>6</td>\n",
       "      <td>3</td>\n",
       "      <td>3</td>\n",
       "      <td>2</td>\n",
       "      <td>2</td>\n",
       "      <td>2</td>\n",
       "      <td>2</td>\n",
       "    </tr>\n",
       "  </tbody>\n",
       "</table>\n",
       "</div>"
      ],
      "text/plain": [
       "   Age Attrition     BusinessTravel              Department  DistanceFromHome  \\\n",
       "0   41       Yes      Travel_Rarely                   Sales                 1   \n",
       "1   49        No  Travel_Frequently  Research & Development                 8   \n",
       "2   37       Yes      Travel_Rarely  Research & Development                 2   \n",
       "3   33        No  Travel_Frequently  Research & Development                 3   \n",
       "4   27        No      Travel_Rarely  Research & Development                 2   \n",
       "\n",
       "   Education EducationField  EmployeeNumber  EnvironmentSatisfaction  Gender  \\\n",
       "0          2  Life Sciences               1                        2  Female   \n",
       "1          1  Life Sciences               2                        3    Male   \n",
       "2          2          Other               4                        4    Male   \n",
       "3          4  Life Sciences               5                        4  Female   \n",
       "4          1        Medical               7                        1    Male   \n",
       "\n",
       "   JobInvolvement  JobLevel                JobRole  JobSatisfaction  \\\n",
       "0               3         2        Sales Executive                4   \n",
       "1               2         2     Research Scientist                2   \n",
       "2               2         1  Laboratory Technician                3   \n",
       "3               3         1     Research Scientist                3   \n",
       "4               3         1  Laboratory Technician                2   \n",
       "\n",
       "  MaritalStatus  MonthlyIncome  NumCompaniesWorked Over18 OverTime  \\\n",
       "0        Single           5993                   8      Y      Yes   \n",
       "1       Married           5130                   1      Y       No   \n",
       "2        Single           2090                   6      Y      Yes   \n",
       "3       Married           2909                   1      Y      Yes   \n",
       "4       Married           3468                   9      Y       No   \n",
       "\n",
       "   PercentSalaryHike  PerformanceRating  RelationshipSatisfaction  \\\n",
       "0                 11                  3                         1   \n",
       "1                 23                  4                         4   \n",
       "2                 15                  3                         2   \n",
       "3                 11                  3                         3   \n",
       "4                 12                  3                         4   \n",
       "\n",
       "   StockOptionLevel  TotalWorkingYears  TrainingTimesLastYear  \\\n",
       "0                 0                  8                      0   \n",
       "1                 1                 10                      3   \n",
       "2                 0                  7                      3   \n",
       "3                 0                  8                      3   \n",
       "4                 1                  6                      3   \n",
       "\n",
       "   WorkLifeBalance  YearsAtCompany  YearsInCurrentRole  \\\n",
       "0                1               6                   4   \n",
       "1                3              10                   7   \n",
       "2                3               0                   0   \n",
       "3                3               8                   7   \n",
       "4                3               2                   2   \n",
       "\n",
       "   YearsSinceLastPromotion  YearsWithCurrManager  \n",
       "0                        0                     5  \n",
       "1                        1                     7  \n",
       "2                        0                     0  \n",
       "3                        3                     0  \n",
       "4                        2                     2  "
      ]
     },
     "execution_count": 643,
     "metadata": {},
     "output_type": "execute_result"
    }
   ],
   "source": [
    "ibm = pd.read_excel(\"IBM Employee Attrition.xlsx\")\n",
    "ibm.head()"
   ]
  },
  {
   "cell_type": "code",
   "execution_count": 644,
   "id": "71a15301",
   "metadata": {},
   "outputs": [
    {
     "data": {
      "text/plain": [
       "(1470, 30)"
      ]
     },
     "execution_count": 644,
     "metadata": {},
     "output_type": "execute_result"
    }
   ],
   "source": [
    "ibm.shape"
   ]
  },
  {
   "cell_type": "code",
   "execution_count": 645,
   "id": "ead63683",
   "metadata": {},
   "outputs": [
    {
     "data": {
      "text/html": [
       "<div>\n",
       "<style scoped>\n",
       "    .dataframe tbody tr th:only-of-type {\n",
       "        vertical-align: middle;\n",
       "    }\n",
       "\n",
       "    .dataframe tbody tr th {\n",
       "        vertical-align: top;\n",
       "    }\n",
       "\n",
       "    .dataframe thead th {\n",
       "        text-align: right;\n",
       "    }\n",
       "</style>\n",
       "<table border=\"1\" class=\"dataframe\">\n",
       "  <thead>\n",
       "    <tr style=\"text-align: right;\">\n",
       "      <th></th>\n",
       "      <th>Age</th>\n",
       "      <th>Attrition</th>\n",
       "      <th>BusinessTravel</th>\n",
       "      <th>Department</th>\n",
       "      <th>DistanceFromHome</th>\n",
       "      <th>Education</th>\n",
       "      <th>EducationField</th>\n",
       "      <th>EmployeeNumber</th>\n",
       "      <th>EnvironmentSatisfaction</th>\n",
       "      <th>Gender</th>\n",
       "      <th>JobInvolvement</th>\n",
       "      <th>JobLevel</th>\n",
       "      <th>JobRole</th>\n",
       "      <th>JobSatisfaction</th>\n",
       "      <th>MaritalStatus</th>\n",
       "      <th>MonthlyIncome</th>\n",
       "      <th>NumCompaniesWorked</th>\n",
       "      <th>Over18</th>\n",
       "      <th>OverTime</th>\n",
       "      <th>PercentSalaryHike</th>\n",
       "      <th>PerformanceRating</th>\n",
       "      <th>RelationshipSatisfaction</th>\n",
       "      <th>StockOptionLevel</th>\n",
       "      <th>TotalWorkingYears</th>\n",
       "      <th>TrainingTimesLastYear</th>\n",
       "      <th>WorkLifeBalance</th>\n",
       "      <th>YearsAtCompany</th>\n",
       "      <th>YearsInCurrentRole</th>\n",
       "      <th>YearsSinceLastPromotion</th>\n",
       "      <th>YearsWithCurrManager</th>\n",
       "    </tr>\n",
       "  </thead>\n",
       "  <tbody>\n",
       "    <tr>\n",
       "      <th>0</th>\n",
       "      <td>41</td>\n",
       "      <td>Yes</td>\n",
       "      <td>Travel_Rarely</td>\n",
       "      <td>Sales</td>\n",
       "      <td>1</td>\n",
       "      <td>2</td>\n",
       "      <td>Life Sciences</td>\n",
       "      <td>1</td>\n",
       "      <td>2</td>\n",
       "      <td>Female</td>\n",
       "      <td>3</td>\n",
       "      <td>2</td>\n",
       "      <td>Sales Executive</td>\n",
       "      <td>4</td>\n",
       "      <td>Single</td>\n",
       "      <td>5993</td>\n",
       "      <td>8</td>\n",
       "      <td>Y</td>\n",
       "      <td>Yes</td>\n",
       "      <td>11</td>\n",
       "      <td>3</td>\n",
       "      <td>1</td>\n",
       "      <td>0</td>\n",
       "      <td>8</td>\n",
       "      <td>0</td>\n",
       "      <td>1</td>\n",
       "      <td>6</td>\n",
       "      <td>4</td>\n",
       "      <td>0</td>\n",
       "      <td>5</td>\n",
       "    </tr>\n",
       "    <tr>\n",
       "      <th>1</th>\n",
       "      <td>49</td>\n",
       "      <td>No</td>\n",
       "      <td>Travel_Frequently</td>\n",
       "      <td>Research &amp; Development</td>\n",
       "      <td>8</td>\n",
       "      <td>1</td>\n",
       "      <td>Life Sciences</td>\n",
       "      <td>2</td>\n",
       "      <td>3</td>\n",
       "      <td>Male</td>\n",
       "      <td>2</td>\n",
       "      <td>2</td>\n",
       "      <td>Research Scientist</td>\n",
       "      <td>2</td>\n",
       "      <td>Married</td>\n",
       "      <td>5130</td>\n",
       "      <td>1</td>\n",
       "      <td>Y</td>\n",
       "      <td>No</td>\n",
       "      <td>23</td>\n",
       "      <td>4</td>\n",
       "      <td>4</td>\n",
       "      <td>1</td>\n",
       "      <td>10</td>\n",
       "      <td>3</td>\n",
       "      <td>3</td>\n",
       "      <td>10</td>\n",
       "      <td>7</td>\n",
       "      <td>1</td>\n",
       "      <td>7</td>\n",
       "    </tr>\n",
       "    <tr>\n",
       "      <th>2</th>\n",
       "      <td>37</td>\n",
       "      <td>Yes</td>\n",
       "      <td>Travel_Rarely</td>\n",
       "      <td>Research &amp; Development</td>\n",
       "      <td>2</td>\n",
       "      <td>2</td>\n",
       "      <td>Other</td>\n",
       "      <td>4</td>\n",
       "      <td>4</td>\n",
       "      <td>Male</td>\n",
       "      <td>2</td>\n",
       "      <td>1</td>\n",
       "      <td>Laboratory Technician</td>\n",
       "      <td>3</td>\n",
       "      <td>Single</td>\n",
       "      <td>2090</td>\n",
       "      <td>6</td>\n",
       "      <td>Y</td>\n",
       "      <td>Yes</td>\n",
       "      <td>15</td>\n",
       "      <td>3</td>\n",
       "      <td>2</td>\n",
       "      <td>0</td>\n",
       "      <td>7</td>\n",
       "      <td>3</td>\n",
       "      <td>3</td>\n",
       "      <td>0</td>\n",
       "      <td>0</td>\n",
       "      <td>0</td>\n",
       "      <td>0</td>\n",
       "    </tr>\n",
       "    <tr>\n",
       "      <th>3</th>\n",
       "      <td>33</td>\n",
       "      <td>No</td>\n",
       "      <td>Travel_Frequently</td>\n",
       "      <td>Research &amp; Development</td>\n",
       "      <td>3</td>\n",
       "      <td>4</td>\n",
       "      <td>Life Sciences</td>\n",
       "      <td>5</td>\n",
       "      <td>4</td>\n",
       "      <td>Female</td>\n",
       "      <td>3</td>\n",
       "      <td>1</td>\n",
       "      <td>Research Scientist</td>\n",
       "      <td>3</td>\n",
       "      <td>Married</td>\n",
       "      <td>2909</td>\n",
       "      <td>1</td>\n",
       "      <td>Y</td>\n",
       "      <td>Yes</td>\n",
       "      <td>11</td>\n",
       "      <td>3</td>\n",
       "      <td>3</td>\n",
       "      <td>0</td>\n",
       "      <td>8</td>\n",
       "      <td>3</td>\n",
       "      <td>3</td>\n",
       "      <td>8</td>\n",
       "      <td>7</td>\n",
       "      <td>3</td>\n",
       "      <td>0</td>\n",
       "    </tr>\n",
       "    <tr>\n",
       "      <th>4</th>\n",
       "      <td>27</td>\n",
       "      <td>No</td>\n",
       "      <td>Travel_Rarely</td>\n",
       "      <td>Research &amp; Development</td>\n",
       "      <td>2</td>\n",
       "      <td>1</td>\n",
       "      <td>Medical</td>\n",
       "      <td>7</td>\n",
       "      <td>1</td>\n",
       "      <td>Male</td>\n",
       "      <td>3</td>\n",
       "      <td>1</td>\n",
       "      <td>Laboratory Technician</td>\n",
       "      <td>2</td>\n",
       "      <td>Married</td>\n",
       "      <td>3468</td>\n",
       "      <td>9</td>\n",
       "      <td>Y</td>\n",
       "      <td>No</td>\n",
       "      <td>12</td>\n",
       "      <td>3</td>\n",
       "      <td>4</td>\n",
       "      <td>1</td>\n",
       "      <td>6</td>\n",
       "      <td>3</td>\n",
       "      <td>3</td>\n",
       "      <td>2</td>\n",
       "      <td>2</td>\n",
       "      <td>2</td>\n",
       "      <td>2</td>\n",
       "    </tr>\n",
       "  </tbody>\n",
       "</table>\n",
       "</div>"
      ],
      "text/plain": [
       "   Age Attrition     BusinessTravel              Department  DistanceFromHome  \\\n",
       "0   41       Yes      Travel_Rarely                   Sales                 1   \n",
       "1   49        No  Travel_Frequently  Research & Development                 8   \n",
       "2   37       Yes      Travel_Rarely  Research & Development                 2   \n",
       "3   33        No  Travel_Frequently  Research & Development                 3   \n",
       "4   27        No      Travel_Rarely  Research & Development                 2   \n",
       "\n",
       "   Education EducationField  EmployeeNumber  EnvironmentSatisfaction  Gender  \\\n",
       "0          2  Life Sciences               1                        2  Female   \n",
       "1          1  Life Sciences               2                        3    Male   \n",
       "2          2          Other               4                        4    Male   \n",
       "3          4  Life Sciences               5                        4  Female   \n",
       "4          1        Medical               7                        1    Male   \n",
       "\n",
       "   JobInvolvement  JobLevel                JobRole  JobSatisfaction  \\\n",
       "0               3         2        Sales Executive                4   \n",
       "1               2         2     Research Scientist                2   \n",
       "2               2         1  Laboratory Technician                3   \n",
       "3               3         1     Research Scientist                3   \n",
       "4               3         1  Laboratory Technician                2   \n",
       "\n",
       "  MaritalStatus  MonthlyIncome  NumCompaniesWorked Over18 OverTime  \\\n",
       "0        Single           5993                   8      Y      Yes   \n",
       "1       Married           5130                   1      Y       No   \n",
       "2        Single           2090                   6      Y      Yes   \n",
       "3       Married           2909                   1      Y      Yes   \n",
       "4       Married           3468                   9      Y       No   \n",
       "\n",
       "   PercentSalaryHike  PerformanceRating  RelationshipSatisfaction  \\\n",
       "0                 11                  3                         1   \n",
       "1                 23                  4                         4   \n",
       "2                 15                  3                         2   \n",
       "3                 11                  3                         3   \n",
       "4                 12                  3                         4   \n",
       "\n",
       "   StockOptionLevel  TotalWorkingYears  TrainingTimesLastYear  \\\n",
       "0                 0                  8                      0   \n",
       "1                 1                 10                      3   \n",
       "2                 0                  7                      3   \n",
       "3                 0                  8                      3   \n",
       "4                 1                  6                      3   \n",
       "\n",
       "   WorkLifeBalance  YearsAtCompany  YearsInCurrentRole  \\\n",
       "0                1               6                   4   \n",
       "1                3              10                   7   \n",
       "2                3               0                   0   \n",
       "3                3               8                   7   \n",
       "4                3               2                   2   \n",
       "\n",
       "   YearsSinceLastPromotion  YearsWithCurrManager  \n",
       "0                        0                     5  \n",
       "1                        1                     7  \n",
       "2                        0                     0  \n",
       "3                        3                     0  \n",
       "4                        2                     2  "
      ]
     },
     "execution_count": 645,
     "metadata": {},
     "output_type": "execute_result"
    }
   ],
   "source": [
    "ibm.head(5)"
   ]
  },
  {
   "cell_type": "code",
   "execution_count": 646,
   "id": "e67467d4",
   "metadata": {},
   "outputs": [
    {
     "name": "stdout",
     "output_type": "stream",
     "text": [
      "<class 'pandas.core.frame.DataFrame'>\n",
      "RangeIndex: 1470 entries, 0 to 1469\n",
      "Data columns (total 30 columns):\n",
      " #   Column                    Non-Null Count  Dtype \n",
      "---  ------                    --------------  ----- \n",
      " 0   Age                       1470 non-null   int64 \n",
      " 1   Attrition                 1470 non-null   object\n",
      " 2   BusinessTravel            1470 non-null   object\n",
      " 3   Department                1470 non-null   object\n",
      " 4   DistanceFromHome          1470 non-null   int64 \n",
      " 5   Education                 1470 non-null   int64 \n",
      " 6   EducationField            1470 non-null   object\n",
      " 7   EmployeeNumber            1470 non-null   int64 \n",
      " 8   EnvironmentSatisfaction   1470 non-null   int64 \n",
      " 9   Gender                    1470 non-null   object\n",
      " 10  JobInvolvement            1470 non-null   int64 \n",
      " 11  JobLevel                  1470 non-null   int64 \n",
      " 12  JobRole                   1470 non-null   object\n",
      " 13  JobSatisfaction           1470 non-null   int64 \n",
      " 14  MaritalStatus             1470 non-null   object\n",
      " 15  MonthlyIncome             1470 non-null   int64 \n",
      " 16  NumCompaniesWorked        1470 non-null   int64 \n",
      " 17  Over18                    1470 non-null   object\n",
      " 18  OverTime                  1470 non-null   object\n",
      " 19  PercentSalaryHike         1470 non-null   int64 \n",
      " 20  PerformanceRating         1470 non-null   int64 \n",
      " 21  RelationshipSatisfaction  1470 non-null   int64 \n",
      " 22  StockOptionLevel          1470 non-null   int64 \n",
      " 23  TotalWorkingYears         1470 non-null   int64 \n",
      " 24  TrainingTimesLastYear     1470 non-null   int64 \n",
      " 25  WorkLifeBalance           1470 non-null   int64 \n",
      " 26  YearsAtCompany            1470 non-null   int64 \n",
      " 27  YearsInCurrentRole        1470 non-null   int64 \n",
      " 28  YearsSinceLastPromotion   1470 non-null   int64 \n",
      " 29  YearsWithCurrManager      1470 non-null   int64 \n",
      "dtypes: int64(21), object(9)\n",
      "memory usage: 344.7+ KB\n"
     ]
    }
   ],
   "source": [
    "ibm.info()"
   ]
  },
  {
   "cell_type": "code",
   "execution_count": 647,
   "id": "adaa1bba",
   "metadata": {},
   "outputs": [
    {
     "data": {
      "text/html": [
       "<div>\n",
       "<style scoped>\n",
       "    .dataframe tbody tr th:only-of-type {\n",
       "        vertical-align: middle;\n",
       "    }\n",
       "\n",
       "    .dataframe tbody tr th {\n",
       "        vertical-align: top;\n",
       "    }\n",
       "\n",
       "    .dataframe thead th {\n",
       "        text-align: right;\n",
       "    }\n",
       "</style>\n",
       "<table border=\"1\" class=\"dataframe\">\n",
       "  <thead>\n",
       "    <tr style=\"text-align: right;\">\n",
       "      <th></th>\n",
       "      <th>Age</th>\n",
       "      <th>Attrition</th>\n",
       "      <th>BusinessTravel</th>\n",
       "      <th>Department</th>\n",
       "      <th>Education</th>\n",
       "      <th>EducationField</th>\n",
       "      <th>EmployeeNumber</th>\n",
       "      <th>Gender</th>\n",
       "      <th>JobInvolvement</th>\n",
       "      <th>JobLevel</th>\n",
       "      <th>JobSatisfaction</th>\n",
       "      <th>MaritalStatus</th>\n",
       "      <th>MonthlyIncome</th>\n",
       "      <th>NumCompaniesWorked</th>\n",
       "      <th>OverTime</th>\n",
       "      <th>PercentSalaryHike</th>\n",
       "      <th>StockOptionLevel</th>\n",
       "      <th>TotalWorkingYears</th>\n",
       "      <th>TrainingTimesLastYear</th>\n",
       "      <th>WorkLifeBalance</th>\n",
       "      <th>YearsAtCompany</th>\n",
       "      <th>YearsInCurrentRole</th>\n",
       "      <th>YearsSinceLastPromotion</th>\n",
       "      <th>YearsWithCurrManager</th>\n",
       "      <th>Job Title</th>\n",
       "      <th>MilesFromHome</th>\n",
       "      <th>Satisfisfaction with Coworkers</th>\n",
       "    </tr>\n",
       "  </thead>\n",
       "  <tbody>\n",
       "    <tr>\n",
       "      <th>0</th>\n",
       "      <td>41</td>\n",
       "      <td>Yes</td>\n",
       "      <td>Rarely</td>\n",
       "      <td>Sales</td>\n",
       "      <td>Some College</td>\n",
       "      <td>Life Sciences</td>\n",
       "      <td>1</td>\n",
       "      <td>Female</td>\n",
       "      <td>high</td>\n",
       "      <td>2</td>\n",
       "      <td>very high</td>\n",
       "      <td>Single</td>\n",
       "      <td>5993</td>\n",
       "      <td>8</td>\n",
       "      <td>Yes</td>\n",
       "      <td>11</td>\n",
       "      <td>0</td>\n",
       "      <td>8</td>\n",
       "      <td>0</td>\n",
       "      <td>bad</td>\n",
       "      <td>6</td>\n",
       "      <td>4</td>\n",
       "      <td>0</td>\n",
       "      <td>5</td>\n",
       "      <td>Sales Executive</td>\n",
       "      <td>1</td>\n",
       "      <td>low</td>\n",
       "    </tr>\n",
       "    <tr>\n",
       "      <th>1</th>\n",
       "      <td>49</td>\n",
       "      <td>No</td>\n",
       "      <td>Frequently</td>\n",
       "      <td>Research &amp; Development</td>\n",
       "      <td>No College</td>\n",
       "      <td>Life Sciences</td>\n",
       "      <td>2</td>\n",
       "      <td>Male</td>\n",
       "      <td>medium</td>\n",
       "      <td>2</td>\n",
       "      <td>medium</td>\n",
       "      <td>Married</td>\n",
       "      <td>5130</td>\n",
       "      <td>1</td>\n",
       "      <td>No</td>\n",
       "      <td>23</td>\n",
       "      <td>1</td>\n",
       "      <td>10</td>\n",
       "      <td>3</td>\n",
       "      <td>better</td>\n",
       "      <td>10</td>\n",
       "      <td>7</td>\n",
       "      <td>1</td>\n",
       "      <td>7</td>\n",
       "      <td>Research Scientist</td>\n",
       "      <td>8</td>\n",
       "      <td>very high</td>\n",
       "    </tr>\n",
       "    <tr>\n",
       "      <th>2</th>\n",
       "      <td>37</td>\n",
       "      <td>Yes</td>\n",
       "      <td>Rarely</td>\n",
       "      <td>Research &amp; Development</td>\n",
       "      <td>Some College</td>\n",
       "      <td>Other</td>\n",
       "      <td>4</td>\n",
       "      <td>Male</td>\n",
       "      <td>medium</td>\n",
       "      <td>1</td>\n",
       "      <td>high</td>\n",
       "      <td>Single</td>\n",
       "      <td>2090</td>\n",
       "      <td>6</td>\n",
       "      <td>Yes</td>\n",
       "      <td>15</td>\n",
       "      <td>0</td>\n",
       "      <td>7</td>\n",
       "      <td>3</td>\n",
       "      <td>better</td>\n",
       "      <td>0</td>\n",
       "      <td>0</td>\n",
       "      <td>0</td>\n",
       "      <td>0</td>\n",
       "      <td>Laboratory Technician</td>\n",
       "      <td>2</td>\n",
       "      <td>medium</td>\n",
       "    </tr>\n",
       "    <tr>\n",
       "      <th>3</th>\n",
       "      <td>33</td>\n",
       "      <td>No</td>\n",
       "      <td>Frequently</td>\n",
       "      <td>Research &amp; Development</td>\n",
       "      <td>Masters</td>\n",
       "      <td>Life Sciences</td>\n",
       "      <td>5</td>\n",
       "      <td>Female</td>\n",
       "      <td>high</td>\n",
       "      <td>1</td>\n",
       "      <td>high</td>\n",
       "      <td>Married</td>\n",
       "      <td>2909</td>\n",
       "      <td>1</td>\n",
       "      <td>Yes</td>\n",
       "      <td>11</td>\n",
       "      <td>0</td>\n",
       "      <td>8</td>\n",
       "      <td>3</td>\n",
       "      <td>better</td>\n",
       "      <td>8</td>\n",
       "      <td>7</td>\n",
       "      <td>3</td>\n",
       "      <td>0</td>\n",
       "      <td>Research Scientist</td>\n",
       "      <td>3</td>\n",
       "      <td>high</td>\n",
       "    </tr>\n",
       "    <tr>\n",
       "      <th>4</th>\n",
       "      <td>27</td>\n",
       "      <td>No</td>\n",
       "      <td>Rarely</td>\n",
       "      <td>Research &amp; Development</td>\n",
       "      <td>No College</td>\n",
       "      <td>Medical</td>\n",
       "      <td>7</td>\n",
       "      <td>Male</td>\n",
       "      <td>high</td>\n",
       "      <td>1</td>\n",
       "      <td>medium</td>\n",
       "      <td>Married</td>\n",
       "      <td>3468</td>\n",
       "      <td>9</td>\n",
       "      <td>No</td>\n",
       "      <td>12</td>\n",
       "      <td>1</td>\n",
       "      <td>6</td>\n",
       "      <td>3</td>\n",
       "      <td>better</td>\n",
       "      <td>2</td>\n",
       "      <td>2</td>\n",
       "      <td>2</td>\n",
       "      <td>2</td>\n",
       "      <td>Laboratory Technician</td>\n",
       "      <td>2</td>\n",
       "      <td>very high</td>\n",
       "    </tr>\n",
       "  </tbody>\n",
       "</table>\n",
       "</div>"
      ],
      "text/plain": [
       "   Age Attrition BusinessTravel              Department     Education  \\\n",
       "0   41       Yes         Rarely                   Sales  Some College   \n",
       "1   49        No     Frequently  Research & Development    No College   \n",
       "2   37       Yes         Rarely  Research & Development  Some College   \n",
       "3   33        No     Frequently  Research & Development       Masters   \n",
       "4   27        No         Rarely  Research & Development    No College   \n",
       "\n",
       "  EducationField  EmployeeNumber  Gender JobInvolvement  JobLevel  \\\n",
       "0  Life Sciences               1  Female           high         2   \n",
       "1  Life Sciences               2    Male         medium         2   \n",
       "2          Other               4    Male         medium         1   \n",
       "3  Life Sciences               5  Female           high         1   \n",
       "4        Medical               7    Male           high         1   \n",
       "\n",
       "  JobSatisfaction MaritalStatus  MonthlyIncome  NumCompaniesWorked OverTime  \\\n",
       "0       very high        Single           5993                   8      Yes   \n",
       "1          medium       Married           5130                   1       No   \n",
       "2            high        Single           2090                   6      Yes   \n",
       "3            high       Married           2909                   1      Yes   \n",
       "4          medium       Married           3468                   9       No   \n",
       "\n",
       "   PercentSalaryHike  StockOptionLevel  TotalWorkingYears  \\\n",
       "0                 11                 0                  8   \n",
       "1                 23                 1                 10   \n",
       "2                 15                 0                  7   \n",
       "3                 11                 0                  8   \n",
       "4                 12                 1                  6   \n",
       "\n",
       "   TrainingTimesLastYear WorkLifeBalance  YearsAtCompany  YearsInCurrentRole  \\\n",
       "0                      0             bad               6                   4   \n",
       "1                      3          better              10                   7   \n",
       "2                      3          better               0                   0   \n",
       "3                      3          better               8                   7   \n",
       "4                      3          better               2                   2   \n",
       "\n",
       "   YearsSinceLastPromotion  YearsWithCurrManager              Job Title  \\\n",
       "0                        0                     5        Sales Executive   \n",
       "1                        1                     7     Research Scientist   \n",
       "2                        0                     0  Laboratory Technician   \n",
       "3                        3                     0     Research Scientist   \n",
       "4                        2                     2  Laboratory Technician   \n",
       "\n",
       "   MilesFromHome Satisfisfaction with Coworkers  \n",
       "0              1                            low  \n",
       "1              8                      very high  \n",
       "2              2                         medium  \n",
       "3              3                           high  \n",
       "4              2                      very high  "
      ]
     },
     "execution_count": 647,
     "metadata": {},
     "output_type": "execute_result"
    }
   ],
   "source": [
    "ibm['Job Title'] = ibm['JobRole']\n",
    "ibm['MilesFromHome'] = ibm['DistanceFromHome']\n",
    "ibm['Satisfisfaction with Coworkers'] = ibm['RelationshipSatisfaction']\n",
    "ibm[\"BusinessTravel\"].replace(['Travel_Rarely', 'Travel_Frequently', 'Non-Travel'], [\"Rarely\", \"Frequently\", 'Other'], inplace = True)\n",
    "ibm[\"Satisfisfaction with Coworkers\"].replace([1, 2, 3, 4], [\"low\", \"medium\", \"high\", \"very high\"], inplace = True)\n",
    "ibm[\"WorkLifeBalance\"].replace([1, 2, 3, 4], [\"bad\", \"good\", \"better\", \"best\"], inplace = True)\n",
    "ibm[\"Education\"].replace([1, 2, 3, 4, 5], [\"No College\", \"Some College\", \"Bachelors\", \"Masters\", \"Doctorate\"], inplace = True)\n",
    "ibm[\"JobSatisfaction\"].replace([1, 2, 3, 4], [\"low\", \"medium\", \"high\", \"very high\"], inplace = True)\n",
    "ibm['JobInvolvement'].replace([1, 2, 3, 4], [\"low\", \"medium\", \"high\", \"very high\"], inplace = True)\n",
    "ibm.drop(columns = ['DistanceFromHome', 'EnvironmentSatisfaction', 'JobRole', 'Over18', 'RelationshipSatisfaction', 'PerformanceRating'], inplace = True)\n",
    "\n",
    "ibm.head()"
   ]
  },
  {
   "cell_type": "code",
   "execution_count": 648,
   "id": "e68c0424",
   "metadata": {},
   "outputs": [
    {
     "name": "stdout",
     "output_type": "stream",
     "text": [
      "<class 'pandas.core.frame.DataFrame'>\n",
      "RangeIndex: 1470 entries, 0 to 1469\n",
      "Data columns (total 27 columns):\n",
      " #   Column                          Non-Null Count  Dtype \n",
      "---  ------                          --------------  ----- \n",
      " 0   Age                             1470 non-null   int64 \n",
      " 1   Attrition                       1470 non-null   object\n",
      " 2   BusinessTravel                  1470 non-null   object\n",
      " 3   Department                      1470 non-null   object\n",
      " 4   Education                       1470 non-null   object\n",
      " 5   EducationField                  1470 non-null   object\n",
      " 6   EmployeeNumber                  1470 non-null   int64 \n",
      " 7   Gender                          1470 non-null   object\n",
      " 8   JobInvolvement                  1470 non-null   object\n",
      " 9   JobLevel                        1470 non-null   int64 \n",
      " 10  JobSatisfaction                 1470 non-null   object\n",
      " 11  MaritalStatus                   1470 non-null   object\n",
      " 12  MonthlyIncome                   1470 non-null   int64 \n",
      " 13  NumCompaniesWorked              1470 non-null   int64 \n",
      " 14  OverTime                        1470 non-null   object\n",
      " 15  PercentSalaryHike               1470 non-null   int64 \n",
      " 16  StockOptionLevel                1470 non-null   int64 \n",
      " 17  TotalWorkingYears               1470 non-null   int64 \n",
      " 18  TrainingTimesLastYear           1470 non-null   int64 \n",
      " 19  WorkLifeBalance                 1470 non-null   object\n",
      " 20  YearsAtCompany                  1470 non-null   int64 \n",
      " 21  YearsInCurrentRole              1470 non-null   int64 \n",
      " 22  YearsSinceLastPromotion         1470 non-null   int64 \n",
      " 23  YearsWithCurrManager            1470 non-null   int64 \n",
      " 24  Job Title                       1470 non-null   object\n",
      " 25  MilesFromHome                   1470 non-null   int64 \n",
      " 26  Satisfisfaction with Coworkers  1470 non-null   object\n",
      "dtypes: int64(14), object(13)\n",
      "memory usage: 310.2+ KB\n"
     ]
    }
   ],
   "source": [
    "ibm.info()"
   ]
  },
  {
   "cell_type": "code",
   "execution_count": 649,
   "id": "d6f1d84f",
   "metadata": {},
   "outputs": [
    {
     "name": "stdout",
     "output_type": "stream",
     "text": [
      "(1470, 27)\n"
     ]
    }
   ],
   "source": [
    "ibm2 = ibm.copy()\n",
    "print(ibm2.shape)"
   ]
  },
  {
   "cell_type": "code",
   "execution_count": 650,
   "id": "7cbdc3ae",
   "metadata": {},
   "outputs": [],
   "source": [
    "ibm2[\"zscore_Age\"] = np.abs(stats.zscore(ibm2[\"Age\"]))"
   ]
  },
  {
   "cell_type": "code",
   "execution_count": 651,
   "id": "7c3b95ed",
   "metadata": {},
   "outputs": [
    {
     "name": "stdout",
     "output_type": "stream",
     "text": [
      "Int64Index([], dtype='int64')\n"
     ]
    }
   ],
   "source": [
    "z_outliers = ibm2.loc[ibm2[\"zscore_Age\"] > 3].index\n",
    "\n",
    "print(z_outliers)"
   ]
  },
  {
   "cell_type": "code",
   "execution_count": 652,
   "id": "fae7f82b",
   "metadata": {},
   "outputs": [],
   "source": [
    "ibm2[\"zscore_EmployeeNumber\"] = np.abs(stats.zscore(ibm2[\"EmployeeNumber\"]))"
   ]
  },
  {
   "cell_type": "code",
   "execution_count": 653,
   "id": "30b9e3ab",
   "metadata": {},
   "outputs": [
    {
     "name": "stdout",
     "output_type": "stream",
     "text": [
      "Int64Index([], dtype='int64')\n"
     ]
    }
   ],
   "source": [
    "z_outliers = ibm2.loc[ibm2[\"zscore_EmployeeNumber\"] > 3].index\n",
    "\n",
    "print(z_outliers)"
   ]
  },
  {
   "cell_type": "code",
   "execution_count": 654,
   "id": "eba0afca",
   "metadata": {},
   "outputs": [],
   "source": [
    "ibm2[\"zscore_JobLevel\"] = np.abs(stats.zscore(ibm2[\"JobLevel\"]))"
   ]
  },
  {
   "cell_type": "code",
   "execution_count": 655,
   "id": "0eb90ab4",
   "metadata": {},
   "outputs": [
    {
     "name": "stdout",
     "output_type": "stream",
     "text": [
      "Int64Index([], dtype='int64')\n"
     ]
    }
   ],
   "source": [
    "z_outliers = ibm2.loc[ibm2[\"zscore_JobLevel\"] > 3].index\n",
    "\n",
    "print(z_outliers)"
   ]
  },
  {
   "cell_type": "code",
   "execution_count": 656,
   "id": "be8dece7",
   "metadata": {},
   "outputs": [],
   "source": [
    "ibm2[\"zscore_MonthlyIncome\"] = np.abs(stats.zscore(ibm2[\"MonthlyIncome\"]))"
   ]
  },
  {
   "cell_type": "code",
   "execution_count": 657,
   "id": "e6ceab03",
   "metadata": {},
   "outputs": [
    {
     "name": "stdout",
     "output_type": "stream",
     "text": [
      "Int64Index([], dtype='int64')\n"
     ]
    }
   ],
   "source": [
    "z_outliers = ibm2.loc[ibm2[\"zscore_MonthlyIncome\"] > 3].index\n",
    "\n",
    "print(z_outliers)"
   ]
  },
  {
   "cell_type": "code",
   "execution_count": 658,
   "id": "cfc34ad1",
   "metadata": {},
   "outputs": [],
   "source": [
    "ibm2[\"zscore_NumCompaniesWorked\"] = np.abs(stats.zscore(ibm2[\"NumCompaniesWorked\"]))"
   ]
  },
  {
   "cell_type": "code",
   "execution_count": 659,
   "id": "e5b542ec",
   "metadata": {},
   "outputs": [
    {
     "name": "stdout",
     "output_type": "stream",
     "text": [
      "Int64Index([], dtype='int64')\n"
     ]
    }
   ],
   "source": [
    "z_outliers = ibm2.loc[ibm2[\"zscore_NumCompaniesWorked\"] > 3].index\n",
    "\n",
    "print(z_outliers)"
   ]
  },
  {
   "cell_type": "code",
   "execution_count": 660,
   "id": "f2ea99bf",
   "metadata": {},
   "outputs": [],
   "source": [
    "ibm2[\"zscore_PercentSalaryHike\"] = np.abs(stats.zscore(ibm2[\"PercentSalaryHike\"]))"
   ]
  },
  {
   "cell_type": "code",
   "execution_count": 661,
   "id": "90d00e3c",
   "metadata": {},
   "outputs": [
    {
     "name": "stdout",
     "output_type": "stream",
     "text": [
      "Int64Index([], dtype='int64')\n"
     ]
    }
   ],
   "source": [
    "z_outliers = ibm2.loc[ibm2[\"zscore_PercentSalaryHike\"] > 3].index\n",
    "\n",
    "print(z_outliers)"
   ]
  },
  {
   "cell_type": "code",
   "execution_count": 662,
   "id": "259285cb",
   "metadata": {},
   "outputs": [],
   "source": [
    "ibm2[\"zscore_StockOptionLevel\"] = np.abs(stats.zscore(ibm2[\"StockOptionLevel\"]))"
   ]
  },
  {
   "cell_type": "code",
   "execution_count": 663,
   "id": "05e88d44",
   "metadata": {},
   "outputs": [
    {
     "name": "stdout",
     "output_type": "stream",
     "text": [
      "Int64Index([], dtype='int64')\n"
     ]
    }
   ],
   "source": [
    "z_outliers = ibm2.loc[ibm2[\"zscore_StockOptionLevel\"] > 3].index\n",
    "\n",
    "print(z_outliers)"
   ]
  },
  {
   "cell_type": "code",
   "execution_count": 664,
   "id": "cb9dc64f",
   "metadata": {},
   "outputs": [],
   "source": [
    "ibm2[\"zscore_TotalWorkingYears\"] = np.abs(stats.zscore(ibm2[\"TotalWorkingYears\"]))"
   ]
  },
  {
   "cell_type": "code",
   "execution_count": 665,
   "id": "84bc311d",
   "metadata": {},
   "outputs": [
    {
     "name": "stdout",
     "output_type": "stream",
     "text": [
      "Int64Index([  85,   98,  126,  187,  270,  401,  445,  595,  624,  894,  956,\n",
      "            1043, 1116, 1184, 1301, 1401],\n",
      "           dtype='int64')\n"
     ]
    }
   ],
   "source": [
    "z_outliers = ibm2.loc[ibm2[\"zscore_TotalWorkingYears\"] > 3].index\n",
    "\n",
    "print(z_outliers)"
   ]
  },
  {
   "cell_type": "code",
   "execution_count": 666,
   "id": "6fbd5048",
   "metadata": {},
   "outputs": [
    {
     "name": "stdout",
     "output_type": "stream",
     "text": [
      "(1454, 35)\n"
     ]
    }
   ],
   "source": [
    "ibm2 = ibm2.drop(z_outliers)\n",
    "print(ibm2.shape)"
   ]
  },
  {
   "cell_type": "code",
   "execution_count": 667,
   "id": "f3f6feac",
   "metadata": {},
   "outputs": [],
   "source": [
    "ibm2 = ibm2.reset_index(drop = True)"
   ]
  },
  {
   "cell_type": "code",
   "execution_count": 668,
   "id": "f60524ab",
   "metadata": {},
   "outputs": [],
   "source": [
    "ibm2[\"zscore_TrainingTimesLastYear\"] = np.abs(stats.zscore(ibm2[\"TrainingTimesLastYear\"]))"
   ]
  },
  {
   "cell_type": "code",
   "execution_count": 669,
   "id": "5bcaa0c6",
   "metadata": {},
   "outputs": [
    {
     "name": "stdout",
     "output_type": "stream",
     "text": [
      "Int64Index([], dtype='int64')\n"
     ]
    }
   ],
   "source": [
    "z_outliers = ibm2.loc[ibm2[\"zscore_TrainingTimesLastYear\"] > 3].index\n",
    "\n",
    "print(z_outliers)"
   ]
  },
  {
   "cell_type": "code",
   "execution_count": 670,
   "id": "80775aef",
   "metadata": {},
   "outputs": [],
   "source": [
    "ibm2[\"zscore_YearsAtCompany\"] = np.abs(stats.zscore(ibm2[\"YearsAtCompany\"]))"
   ]
  },
  {
   "cell_type": "code",
   "execution_count": 671,
   "id": "9851e3a2",
   "metadata": {},
   "outputs": [
    {
     "name": "stdout",
     "output_type": "stream",
     "text": [
      "Int64Index([  18,   62,  117,  186,  233,  385,  405,  419,  466,  470,  554,\n",
      "             585,  644,  668,  740,  852,  904,  908,  912,  951, 1074, 1099,\n",
      "            1122, 1125],\n",
      "           dtype='int64')\n"
     ]
    }
   ],
   "source": [
    "z_outliers = ibm2.loc[ibm2[\"zscore_YearsAtCompany\"] > 3].index\n",
    "\n",
    "print(z_outliers)"
   ]
  },
  {
   "cell_type": "code",
   "execution_count": 672,
   "id": "67fe7123",
   "metadata": {},
   "outputs": [
    {
     "name": "stdout",
     "output_type": "stream",
     "text": [
      "(1430, 37)\n"
     ]
    }
   ],
   "source": [
    "ibm2 = ibm2.drop(z_outliers)\n",
    "print(ibm2.shape)"
   ]
  },
  {
   "cell_type": "code",
   "execution_count": 673,
   "id": "c3222b1e",
   "metadata": {},
   "outputs": [],
   "source": [
    "ibm2 = ibm2.reset_index(drop = True)"
   ]
  },
  {
   "cell_type": "code",
   "execution_count": 674,
   "id": "9fe4df6d",
   "metadata": {},
   "outputs": [],
   "source": [
    "ibm2[\"zscore_YearsInCurrentRole\"] = np.abs(stats.zscore(ibm2[\"YearsInCurrentRole\"]))"
   ]
  },
  {
   "cell_type": "code",
   "execution_count": 675,
   "id": "b569e555",
   "metadata": {},
   "outputs": [
    {
     "name": "stdout",
     "output_type": "stream",
     "text": [
      "Int64Index([  44,   61,  118,  223,  271,  404,  451,  693,  723,  945,  993,\n",
      "            1113, 1119, 1183, 1288, 1312, 1390],\n",
      "           dtype='int64')\n"
     ]
    }
   ],
   "source": [
    "z_outliers = ibm2.loc[ibm2[\"zscore_YearsInCurrentRole\"] > 3].index\n",
    "\n",
    "print(z_outliers)"
   ]
  },
  {
   "cell_type": "code",
   "execution_count": 676,
   "id": "e2f49602",
   "metadata": {},
   "outputs": [
    {
     "name": "stdout",
     "output_type": "stream",
     "text": [
      "(1413, 38)\n"
     ]
    }
   ],
   "source": [
    "ibm2 = ibm2.drop(z_outliers)\n",
    "print(ibm2.shape)"
   ]
  },
  {
   "cell_type": "code",
   "execution_count": 677,
   "id": "ae3d167b",
   "metadata": {},
   "outputs": [],
   "source": [
    "ibm2 = ibm2.reset_index(drop = True)"
   ]
  },
  {
   "cell_type": "code",
   "execution_count": 678,
   "id": "efda0a6b",
   "metadata": {},
   "outputs": [
    {
     "name": "stdout",
     "output_type": "stream",
     "text": [
      "(1413, 38)\n"
     ]
    }
   ],
   "source": [
    "print(ibm2.shape)"
   ]
  },
  {
   "cell_type": "code",
   "execution_count": 679,
   "id": "720690fc",
   "metadata": {},
   "outputs": [],
   "source": [
    "ibm2[\"zscore_YearsSinceLastPromotion\"] = np.abs(stats.zscore(ibm2[\"YearsSinceLastPromotion\"]))"
   ]
  },
  {
   "cell_type": "code",
   "execution_count": 680,
   "id": "33e579f5",
   "metadata": {},
   "outputs": [
    {
     "name": "stdout",
     "output_type": "stream",
     "text": [
      "Int64Index([  60,   85,  104,  169,  183,  207,  238,  299,  304,  311,  371,\n",
      "             407,  484,  502,  511,  520,  559,  665,  671,  707,  717,  719,\n",
      "             752,  766,  780,  805,  841,  888,  899,  913,  937,  967, 1035,\n",
      "            1049, 1171, 1190, 1243, 1250, 1277, 1294, 1347, 1358, 1390],\n",
      "           dtype='int64')\n"
     ]
    }
   ],
   "source": [
    "z_outliers = ibm2.loc[ibm2[\"zscore_YearsSinceLastPromotion\"] > 3].index\n",
    "\n",
    "print(z_outliers)"
   ]
  },
  {
   "cell_type": "code",
   "execution_count": 681,
   "id": "f9d53929",
   "metadata": {},
   "outputs": [
    {
     "name": "stdout",
     "output_type": "stream",
     "text": [
      "(1370, 39)\n"
     ]
    }
   ],
   "source": [
    "ibm2 = ibm2.drop(z_outliers)\n",
    "print(ibm2.shape)"
   ]
  },
  {
   "cell_type": "code",
   "execution_count": 682,
   "id": "5b3dd399",
   "metadata": {},
   "outputs": [],
   "source": [
    "ibm2 = ibm2.reset_index(drop = True)"
   ]
  },
  {
   "cell_type": "code",
   "execution_count": 683,
   "id": "5b8c7401",
   "metadata": {},
   "outputs": [],
   "source": [
    "ibm2[\"zscore_YearsWithCurrManager\"] = np.abs(stats.zscore(ibm2[\"YearsWithCurrManager\"]))"
   ]
  },
  {
   "cell_type": "code",
   "execution_count": 684,
   "id": "1edde9f6",
   "metadata": {},
   "outputs": [
    {
     "name": "stdout",
     "output_type": "stream",
     "text": [
      "Int64Index([27, 141, 572, 590, 639, 1238, 1344], dtype='int64')\n"
     ]
    }
   ],
   "source": [
    "z_outliers = ibm2.loc[ibm2[\"zscore_YearsWithCurrManager\"] > 3].index\n",
    "\n",
    "print(z_outliers)"
   ]
  },
  {
   "cell_type": "code",
   "execution_count": 685,
   "id": "025a00a0",
   "metadata": {},
   "outputs": [
    {
     "name": "stdout",
     "output_type": "stream",
     "text": [
      "(1363, 40)\n"
     ]
    }
   ],
   "source": [
    "ibm2 = ibm2.drop(z_outliers)\n",
    "print(ibm2.shape)"
   ]
  },
  {
   "cell_type": "code",
   "execution_count": 686,
   "id": "7cd5545e",
   "metadata": {},
   "outputs": [],
   "source": [
    "ibm2 = ibm2.reset_index(drop = True)"
   ]
  },
  {
   "cell_type": "code",
   "execution_count": 687,
   "id": "902e3c8e",
   "metadata": {},
   "outputs": [],
   "source": [
    "ibm2[\"zscore_MilesFromHome\"] = np.abs(stats.zscore(ibm2[\"MilesFromHome\"]))"
   ]
  },
  {
   "cell_type": "code",
   "execution_count": 688,
   "id": "17d92380",
   "metadata": {},
   "outputs": [
    {
     "name": "stdout",
     "output_type": "stream",
     "text": [
      "Int64Index([], dtype='int64')\n"
     ]
    }
   ],
   "source": [
    "z_outliers = ibm2.loc[ibm2[\"zscore_MilesFromHome\"] > 3].index\n",
    "\n",
    "print(z_outliers)"
   ]
  },
  {
   "cell_type": "code",
   "execution_count": 689,
   "id": "d3814142",
   "metadata": {},
   "outputs": [
    {
     "data": {
      "text/html": [
       "<div>\n",
       "<style scoped>\n",
       "    .dataframe tbody tr th:only-of-type {\n",
       "        vertical-align: middle;\n",
       "    }\n",
       "\n",
       "    .dataframe tbody tr th {\n",
       "        vertical-align: top;\n",
       "    }\n",
       "\n",
       "    .dataframe thead th {\n",
       "        text-align: right;\n",
       "    }\n",
       "</style>\n",
       "<table border=\"1\" class=\"dataframe\">\n",
       "  <thead>\n",
       "    <tr style=\"text-align: right;\">\n",
       "      <th></th>\n",
       "      <th>Age</th>\n",
       "      <th>EmployeeNumber</th>\n",
       "      <th>JobLevel</th>\n",
       "      <th>MonthlyIncome</th>\n",
       "      <th>NumCompaniesWorked</th>\n",
       "      <th>PercentSalaryHike</th>\n",
       "      <th>StockOptionLevel</th>\n",
       "      <th>TotalWorkingYears</th>\n",
       "      <th>TrainingTimesLastYear</th>\n",
       "      <th>YearsAtCompany</th>\n",
       "      <th>YearsInCurrentRole</th>\n",
       "      <th>YearsSinceLastPromotion</th>\n",
       "      <th>YearsWithCurrManager</th>\n",
       "      <th>MilesFromHome</th>\n",
       "      <th>zscore_Age</th>\n",
       "      <th>zscore_EmployeeNumber</th>\n",
       "      <th>zscore_JobLevel</th>\n",
       "      <th>zscore_MonthlyIncome</th>\n",
       "      <th>zscore_NumCompaniesWorked</th>\n",
       "      <th>zscore_PercentSalaryHike</th>\n",
       "      <th>zscore_StockOptionLevel</th>\n",
       "      <th>zscore_TotalWorkingYears</th>\n",
       "      <th>zscore_TrainingTimesLastYear</th>\n",
       "      <th>zscore_YearsAtCompany</th>\n",
       "      <th>zscore_YearsInCurrentRole</th>\n",
       "      <th>zscore_YearsSinceLastPromotion</th>\n",
       "      <th>zscore_YearsWithCurrManager</th>\n",
       "      <th>zscore_MilesFromHome</th>\n",
       "    </tr>\n",
       "  </thead>\n",
       "  <tbody>\n",
       "    <tr>\n",
       "      <th>count</th>\n",
       "      <td>1363.000000</td>\n",
       "      <td>1363.000000</td>\n",
       "      <td>1363.000000</td>\n",
       "      <td>1363.000000</td>\n",
       "      <td>1363.000000</td>\n",
       "      <td>1363.0000</td>\n",
       "      <td>1363.000000</td>\n",
       "      <td>1363.000000</td>\n",
       "      <td>1363.000000</td>\n",
       "      <td>1363.000000</td>\n",
       "      <td>1363.000000</td>\n",
       "      <td>1363.000000</td>\n",
       "      <td>1363.000000</td>\n",
       "      <td>1363.000000</td>\n",
       "      <td>1363.000000</td>\n",
       "      <td>1363.000000</td>\n",
       "      <td>1363.000000</td>\n",
       "      <td>1363.000000</td>\n",
       "      <td>1363.000000</td>\n",
       "      <td>1363.000000</td>\n",
       "      <td>1363.000000</td>\n",
       "      <td>1363.000000</td>\n",
       "      <td>1363.000000</td>\n",
       "      <td>1363.000000</td>\n",
       "      <td>1363.000000</td>\n",
       "      <td>1363.000000</td>\n",
       "      <td>1363.000000</td>\n",
       "      <td>1363.000000</td>\n",
       "    </tr>\n",
       "    <tr>\n",
       "      <th>mean</th>\n",
       "      <td>36.184886</td>\n",
       "      <td>1027.871607</td>\n",
       "      <td>1.930301</td>\n",
       "      <td>5921.322084</td>\n",
       "      <td>2.680117</td>\n",
       "      <td>15.2135</td>\n",
       "      <td>0.797506</td>\n",
       "      <td>10.122524</td>\n",
       "      <td>2.806310</td>\n",
       "      <td>5.885547</td>\n",
       "      <td>3.785767</td>\n",
       "      <td>1.653705</td>\n",
       "      <td>3.702128</td>\n",
       "      <td>9.194424</td>\n",
       "      <td>0.792006</td>\n",
       "      <td>0.868923</td>\n",
       "      <td>0.685511</td>\n",
       "      <td>0.701484</td>\n",
       "      <td>0.824479</td>\n",
       "      <td>0.825133</td>\n",
       "      <td>0.804301</td>\n",
       "      <td>0.687932</td>\n",
       "      <td>0.760437</td>\n",
       "      <td>0.621932</td>\n",
       "      <td>0.782010</td>\n",
       "      <td>0.632497</td>\n",
       "      <td>0.829882</td>\n",
       "      <td>0.811281</td>\n",
       "    </tr>\n",
       "    <tr>\n",
       "      <th>std</th>\n",
       "      <td>8.881063</td>\n",
       "      <td>602.256226</td>\n",
       "      <td>0.996462</td>\n",
       "      <td>4164.674682</td>\n",
       "      <td>2.496772</td>\n",
       "      <td>3.6091</td>\n",
       "      <td>0.855196</td>\n",
       "      <td>6.594871</td>\n",
       "      <td>1.292945</td>\n",
       "      <td>4.382932</td>\n",
       "      <td>3.173107</td>\n",
       "      <td>2.292897</td>\n",
       "      <td>3.179766</td>\n",
       "      <td>8.088056</td>\n",
       "      <td>0.569702</td>\n",
       "      <td>0.495879</td>\n",
       "      <td>0.596012</td>\n",
       "      <td>0.553080</td>\n",
       "      <td>0.565201</td>\n",
       "      <td>0.540121</td>\n",
       "      <td>0.600552</td>\n",
       "      <td>0.517143</td>\n",
       "      <td>0.658879</td>\n",
       "      <td>0.441806</td>\n",
       "      <td>0.446055</td>\n",
       "      <td>0.481708</td>\n",
       "      <td>0.499362</td>\n",
       "      <td>0.584871</td>\n",
       "    </tr>\n",
       "    <tr>\n",
       "      <th>min</th>\n",
       "      <td>18.000000</td>\n",
       "      <td>1.000000</td>\n",
       "      <td>1.000000</td>\n",
       "      <td>1009.000000</td>\n",
       "      <td>0.000000</td>\n",
       "      <td>11.0000</td>\n",
       "      <td>0.000000</td>\n",
       "      <td>0.000000</td>\n",
       "      <td>0.000000</td>\n",
       "      <td>0.000000</td>\n",
       "      <td>0.000000</td>\n",
       "      <td>0.000000</td>\n",
       "      <td>0.000000</td>\n",
       "      <td>1.000000</td>\n",
       "      <td>0.008343</td>\n",
       "      <td>0.000224</td>\n",
       "      <td>0.057788</td>\n",
       "      <td>0.000198</td>\n",
       "      <td>0.122861</td>\n",
       "      <td>0.057267</td>\n",
       "      <td>0.241988</td>\n",
       "      <td>0.035946</td>\n",
       "      <td>0.151498</td>\n",
       "      <td>0.019848</td>\n",
       "      <td>0.029817</td>\n",
       "      <td>0.004372</td>\n",
       "      <td>0.072264</td>\n",
       "      <td>0.024047</td>\n",
       "    </tr>\n",
       "    <tr>\n",
       "      <th>25%</th>\n",
       "      <td>30.000000</td>\n",
       "      <td>491.500000</td>\n",
       "      <td>1.000000</td>\n",
       "      <td>2824.000000</td>\n",
       "      <td>1.000000</td>\n",
       "      <td>12.0000</td>\n",
       "      <td>0.000000</td>\n",
       "      <td>6.000000</td>\n",
       "      <td>2.000000</td>\n",
       "      <td>2.000000</td>\n",
       "      <td>2.000000</td>\n",
       "      <td>0.000000</td>\n",
       "      <td>2.000000</td>\n",
       "      <td>2.000000</td>\n",
       "      <td>0.320163</td>\n",
       "      <td>0.434516</td>\n",
       "      <td>0.057788</td>\n",
       "      <td>0.330921</td>\n",
       "      <td>0.523316</td>\n",
       "      <td>0.330589</td>\n",
       "      <td>0.241988</td>\n",
       "      <td>0.293077</td>\n",
       "      <td>0.151498</td>\n",
       "      <td>0.319664</td>\n",
       "      <td>0.594554</td>\n",
       "      <td>0.338836</td>\n",
       "      <td>0.536978</td>\n",
       "      <td>0.347006</td>\n",
       "    </tr>\n",
       "    <tr>\n",
       "      <th>50%</th>\n",
       "      <td>35.000000</td>\n",
       "      <td>1024.000000</td>\n",
       "      <td>2.000000</td>\n",
       "      <td>4682.000000</td>\n",
       "      <td>2.000000</td>\n",
       "      <td>14.0000</td>\n",
       "      <td>1.000000</td>\n",
       "      <td>9.000000</td>\n",
       "      <td>3.000000</td>\n",
       "      <td>5.000000</td>\n",
       "      <td>3.000000</td>\n",
       "      <td>1.000000</td>\n",
       "      <td>3.000000</td>\n",
       "      <td>7.000000</td>\n",
       "      <td>0.665354</td>\n",
       "      <td>0.887085</td>\n",
       "      <td>0.845911</td>\n",
       "      <td>0.652295</td>\n",
       "      <td>0.678049</td>\n",
       "      <td>0.762698</td>\n",
       "      <td>0.932014</td>\n",
       "      <td>0.606882</td>\n",
       "      <td>0.626869</td>\n",
       "      <td>0.529116</td>\n",
       "      <td>0.817290</td>\n",
       "      <td>0.682043</td>\n",
       "      <td>0.841599</td>\n",
       "      <td>0.841744</td>\n",
       "    </tr>\n",
       "    <tr>\n",
       "      <th>75%</th>\n",
       "      <td>42.000000</td>\n",
       "      <td>1559.000000</td>\n",
       "      <td>2.000000</td>\n",
       "      <td>6983.500000</td>\n",
       "      <td>4.000000</td>\n",
       "      <td>18.0000</td>\n",
       "      <td>1.000000</td>\n",
       "      <td>13.000000</td>\n",
       "      <td>3.000000</td>\n",
       "      <td>9.000000</td>\n",
       "      <td>7.000000</td>\n",
       "      <td>2.000000</td>\n",
       "      <td>7.000000</td>\n",
       "      <td>14.000000</td>\n",
       "      <td>1.103362</td>\n",
       "      <td>1.287761</td>\n",
       "      <td>0.961486</td>\n",
       "      <td>0.878691</td>\n",
       "      <td>1.078504</td>\n",
       "      <td>1.150554</td>\n",
       "      <td>0.932014</td>\n",
       "      <td>0.935905</td>\n",
       "      <td>0.929864</td>\n",
       "      <td>0.828933</td>\n",
       "      <td>1.159292</td>\n",
       "      <td>0.682043</td>\n",
       "      <td>1.146220</td>\n",
       "      <td>1.013523</td>\n",
       "    </tr>\n",
       "    <tr>\n",
       "      <th>max</th>\n",
       "      <td>60.000000</td>\n",
       "      <td>2068.000000</td>\n",
       "      <td>5.000000</td>\n",
       "      <td>19943.000000</td>\n",
       "      <td>9.000000</td>\n",
       "      <td>25.0000</td>\n",
       "      <td>3.000000</td>\n",
       "      <td>34.000000</td>\n",
       "      <td>6.000000</td>\n",
       "      <td>24.000000</td>\n",
       "      <td>14.000000</td>\n",
       "      <td>10.000000</td>\n",
       "      <td>13.000000</td>\n",
       "      <td>29.000000</td>\n",
       "      <td>2.526886</td>\n",
       "      <td>1.733302</td>\n",
       "      <td>2.653309</td>\n",
       "      <td>2.855728</td>\n",
       "      <td>2.525591</td>\n",
       "      <td>2.675949</td>\n",
       "      <td>2.589994</td>\n",
       "      <td>2.921061</td>\n",
       "      <td>2.486596</td>\n",
       "      <td>2.905701</td>\n",
       "      <td>2.793871</td>\n",
       "      <td>2.750034</td>\n",
       "      <td>2.813852</td>\n",
       "      <td>2.449642</td>\n",
       "    </tr>\n",
       "  </tbody>\n",
       "</table>\n",
       "</div>"
      ],
      "text/plain": [
       "               Age  EmployeeNumber     JobLevel  MonthlyIncome  \\\n",
       "count  1363.000000     1363.000000  1363.000000    1363.000000   \n",
       "mean     36.184886     1027.871607     1.930301    5921.322084   \n",
       "std       8.881063      602.256226     0.996462    4164.674682   \n",
       "min      18.000000        1.000000     1.000000    1009.000000   \n",
       "25%      30.000000      491.500000     1.000000    2824.000000   \n",
       "50%      35.000000     1024.000000     2.000000    4682.000000   \n",
       "75%      42.000000     1559.000000     2.000000    6983.500000   \n",
       "max      60.000000     2068.000000     5.000000   19943.000000   \n",
       "\n",
       "       NumCompaniesWorked  PercentSalaryHike  StockOptionLevel  \\\n",
       "count         1363.000000          1363.0000       1363.000000   \n",
       "mean             2.680117            15.2135          0.797506   \n",
       "std              2.496772             3.6091          0.855196   \n",
       "min              0.000000            11.0000          0.000000   \n",
       "25%              1.000000            12.0000          0.000000   \n",
       "50%              2.000000            14.0000          1.000000   \n",
       "75%              4.000000            18.0000          1.000000   \n",
       "max              9.000000            25.0000          3.000000   \n",
       "\n",
       "       TotalWorkingYears  TrainingTimesLastYear  YearsAtCompany  \\\n",
       "count        1363.000000            1363.000000     1363.000000   \n",
       "mean           10.122524               2.806310        5.885547   \n",
       "std             6.594871               1.292945        4.382932   \n",
       "min             0.000000               0.000000        0.000000   \n",
       "25%             6.000000               2.000000        2.000000   \n",
       "50%             9.000000               3.000000        5.000000   \n",
       "75%            13.000000               3.000000        9.000000   \n",
       "max            34.000000               6.000000       24.000000   \n",
       "\n",
       "       YearsInCurrentRole  YearsSinceLastPromotion  YearsWithCurrManager  \\\n",
       "count         1363.000000              1363.000000           1363.000000   \n",
       "mean             3.785767                 1.653705              3.702128   \n",
       "std              3.173107                 2.292897              3.179766   \n",
       "min              0.000000                 0.000000              0.000000   \n",
       "25%              2.000000                 0.000000              2.000000   \n",
       "50%              3.000000                 1.000000              3.000000   \n",
       "75%              7.000000                 2.000000              7.000000   \n",
       "max             14.000000                10.000000             13.000000   \n",
       "\n",
       "       MilesFromHome   zscore_Age  zscore_EmployeeNumber  zscore_JobLevel  \\\n",
       "count    1363.000000  1363.000000            1363.000000      1363.000000   \n",
       "mean        9.194424     0.792006               0.868923         0.685511   \n",
       "std         8.088056     0.569702               0.495879         0.596012   \n",
       "min         1.000000     0.008343               0.000224         0.057788   \n",
       "25%         2.000000     0.320163               0.434516         0.057788   \n",
       "50%         7.000000     0.665354               0.887085         0.845911   \n",
       "75%        14.000000     1.103362               1.287761         0.961486   \n",
       "max        29.000000     2.526886               1.733302         2.653309   \n",
       "\n",
       "       zscore_MonthlyIncome  zscore_NumCompaniesWorked  \\\n",
       "count           1363.000000                1363.000000   \n",
       "mean               0.701484                   0.824479   \n",
       "std                0.553080                   0.565201   \n",
       "min                0.000198                   0.122861   \n",
       "25%                0.330921                   0.523316   \n",
       "50%                0.652295                   0.678049   \n",
       "75%                0.878691                   1.078504   \n",
       "max                2.855728                   2.525591   \n",
       "\n",
       "       zscore_PercentSalaryHike  zscore_StockOptionLevel  \\\n",
       "count               1363.000000              1363.000000   \n",
       "mean                   0.825133                 0.804301   \n",
       "std                    0.540121                 0.600552   \n",
       "min                    0.057267                 0.241988   \n",
       "25%                    0.330589                 0.241988   \n",
       "50%                    0.762698                 0.932014   \n",
       "75%                    1.150554                 0.932014   \n",
       "max                    2.675949                 2.589994   \n",
       "\n",
       "       zscore_TotalWorkingYears  zscore_TrainingTimesLastYear  \\\n",
       "count               1363.000000                   1363.000000   \n",
       "mean                   0.687932                      0.760437   \n",
       "std                    0.517143                      0.658879   \n",
       "min                    0.035946                      0.151498   \n",
       "25%                    0.293077                      0.151498   \n",
       "50%                    0.606882                      0.626869   \n",
       "75%                    0.935905                      0.929864   \n",
       "max                    2.921061                      2.486596   \n",
       "\n",
       "       zscore_YearsAtCompany  zscore_YearsInCurrentRole  \\\n",
       "count            1363.000000                1363.000000   \n",
       "mean                0.621932                   0.782010   \n",
       "std                 0.441806                   0.446055   \n",
       "min                 0.019848                   0.029817   \n",
       "25%                 0.319664                   0.594554   \n",
       "50%                 0.529116                   0.817290   \n",
       "75%                 0.828933                   1.159292   \n",
       "max                 2.905701                   2.793871   \n",
       "\n",
       "       zscore_YearsSinceLastPromotion  zscore_YearsWithCurrManager  \\\n",
       "count                     1363.000000                  1363.000000   \n",
       "mean                         0.632497                     0.829882   \n",
       "std                          0.481708                     0.499362   \n",
       "min                          0.004372                     0.072264   \n",
       "25%                          0.338836                     0.536978   \n",
       "50%                          0.682043                     0.841599   \n",
       "75%                          0.682043                     1.146220   \n",
       "max                          2.750034                     2.813852   \n",
       "\n",
       "       zscore_MilesFromHome  \n",
       "count           1363.000000  \n",
       "mean               0.811281  \n",
       "std                0.584871  \n",
       "min                0.024047  \n",
       "25%                0.347006  \n",
       "50%                0.841744  \n",
       "75%                1.013523  \n",
       "max                2.449642  "
      ]
     },
     "execution_count": 689,
     "metadata": {},
     "output_type": "execute_result"
    }
   ],
   "source": [
    "ibm2.describe()"
   ]
  },
  {
   "cell_type": "code",
   "execution_count": 690,
   "id": "e3f22dbb",
   "metadata": {},
   "outputs": [
    {
     "data": {
      "text/plain": [
       "BusinessTravel\n",
       "Frequently    5591.259690\n",
       "Other         5746.407143\n",
       "Rarely        6034.943005\n",
       "Name: MonthlyIncome, dtype: float64"
      ]
     },
     "execution_count": 690,
     "metadata": {},
     "output_type": "execute_result"
    }
   ],
   "source": [
    "ibm2[\"MonthlyIncome\"].groupby(ibm2[\"BusinessTravel\"]).mean()\n",
    "\n",
    "#People that travel frequently aren't paid as well as those that don't.\n",
    "#Frequent travel a factor in attrition?"
   ]
  },
  {
   "cell_type": "code",
   "execution_count": 691,
   "id": "90c035aa",
   "metadata": {},
   "outputs": [
    {
     "data": {
      "text/html": [
       "<div>\n",
       "<style scoped>\n",
       "    .dataframe tbody tr th:only-of-type {\n",
       "        vertical-align: middle;\n",
       "    }\n",
       "\n",
       "    .dataframe tbody tr th {\n",
       "        vertical-align: top;\n",
       "    }\n",
       "\n",
       "    .dataframe thead th {\n",
       "        text-align: right;\n",
       "    }\n",
       "</style>\n",
       "<table border=\"1\" class=\"dataframe\">\n",
       "  <thead>\n",
       "    <tr style=\"text-align: right;\">\n",
       "      <th>BusinessTravel</th>\n",
       "      <th>Frequently</th>\n",
       "      <th>Other</th>\n",
       "      <th>Rarely</th>\n",
       "    </tr>\n",
       "    <tr>\n",
       "      <th>Attrition</th>\n",
       "      <th></th>\n",
       "      <th></th>\n",
       "      <th></th>\n",
       "    </tr>\n",
       "  </thead>\n",
       "  <tbody>\n",
       "    <tr>\n",
       "      <th>No</th>\n",
       "      <td>192</td>\n",
       "      <td>128</td>\n",
       "      <td>816</td>\n",
       "    </tr>\n",
       "    <tr>\n",
       "      <th>Yes</th>\n",
       "      <td>66</td>\n",
       "      <td>12</td>\n",
       "      <td>149</td>\n",
       "    </tr>\n",
       "  </tbody>\n",
       "</table>\n",
       "</div>"
      ],
      "text/plain": [
       "BusinessTravel  Frequently  Other  Rarely\n",
       "Attrition                                \n",
       "No                     192    128     816\n",
       "Yes                     66     12     149"
      ]
     },
     "execution_count": 691,
     "metadata": {},
     "output_type": "execute_result"
    }
   ],
   "source": [
    "pd.crosstab(ibm2[\"Attrition\"],ibm2[\"BusinessTravel\"], margins=False, normalize=False)\n",
    "\n",
    "#not sure if this shows any causation actually"
   ]
  },
  {
   "cell_type": "code",
   "execution_count": 693,
   "id": "4ddf1a18",
   "metadata": {},
   "outputs": [
    {
     "data": {
      "text/plain": [
       "Attrition\n",
       "No     6221.437500\n",
       "Yes    4419.422907\n",
       "Name: MonthlyIncome, dtype: float64"
      ]
     },
     "execution_count": 693,
     "metadata": {},
     "output_type": "execute_result"
    }
   ],
   "source": [
    "ibm2[\"MonthlyIncome\"].groupby(ibm2[\"Attrition\"]).mean()\n",
    "\n",
    "#People that leave the company have a lower monthly income than those that stay.\n",
    "#Pay obviously a factor. We'll see with more analysis if it's the most important one"
   ]
  },
  {
   "cell_type": "code",
   "execution_count": 694,
   "id": "568cb797",
   "metadata": {},
   "outputs": [
    {
     "data": {
      "text/plain": [
       "Gender\n",
       "Female    6168.023985\n",
       "Male      5758.456760\n",
       "Name: MonthlyIncome, dtype: float64"
      ]
     },
     "execution_count": 694,
     "metadata": {},
     "output_type": "execute_result"
    }
   ],
   "source": [
    "ibm2[\"MonthlyIncome\"].groupby(ibm2[\"Gender\"]).mean()\n",
    "\n",
    "#Females make more than males. Interesting because typically the opposite is true."
   ]
  },
  {
   "cell_type": "code",
   "execution_count": 695,
   "id": "57f06536",
   "metadata": {},
   "outputs": [
    {
     "data": {
      "text/plain": [
       "Job Title\n",
       "Healthcare Representative    6.724138\n",
       "Human Resources              5.326923\n",
       "Laboratory Technician        4.740157\n",
       "Manager                      8.645161\n",
       "Manufacturing Director       7.000000\n",
       "Research Director            8.015873\n",
       "Research Scientist           4.982699\n",
       "Sales Executive              6.771242\n",
       "Sales Representative         2.915663\n",
       "Name: YearsAtCompany, dtype: float64"
      ]
     },
     "execution_count": 695,
     "metadata": {},
     "output_type": "execute_result"
    }
   ],
   "source": [
    "ibm2[\"YearsAtCompany\"].groupby(ibm2[\"Job Title\"]).mean()\n",
    "\n",
    "#Sales reps don't stay very long compared to other jobs"
   ]
  },
  {
   "cell_type": "code",
   "execution_count": 696,
   "id": "a1f92af1",
   "metadata": {},
   "outputs": [
    {
     "data": {
      "text/plain": [
       "Attrition\n",
       "No     1.678697\n",
       "Yes    1.528634\n",
       "Name: YearsSinceLastPromotion, dtype: float64"
      ]
     },
     "execution_count": 696,
     "metadata": {},
     "output_type": "execute_result"
    }
   ],
   "source": [
    "ibm2[\"YearsSinceLastPromotion\"].groupby(ibm2[\"Attrition\"]).mean()\n",
    "\n",
    "#Not much variation here to show any meaningful direct correlation."
   ]
  },
  {
   "cell_type": "code",
   "execution_count": 697,
   "id": "e472f5c8",
   "metadata": {},
   "outputs": [
    {
     "data": {
      "text/plain": [
       "Attrition\n",
       "No     15.216549\n",
       "Yes    15.198238\n",
       "Name: PercentSalaryHike, dtype: float64"
      ]
     },
     "execution_count": 697,
     "metadata": {},
     "output_type": "execute_result"
    }
   ],
   "source": [
    "ibm2[\"PercentSalaryHike\"].groupby(ibm2[\"Attrition\"]).mean()\n",
    "\n",
    "#Not much here either."
   ]
  },
  {
   "cell_type": "code",
   "execution_count": 698,
   "id": "e1142202",
   "metadata": {},
   "outputs": [
    {
     "data": {
      "text/plain": [
       "Attrition\n",
       "No      8.884683\n",
       "Yes    10.744493\n",
       "Name: MilesFromHome, dtype: float64"
      ]
     },
     "execution_count": 698,
     "metadata": {},
     "output_type": "execute_result"
    }
   ],
   "source": [
    "ibm2[\"MilesFromHome\"].groupby(ibm2[\"Attrition\"]).mean()\n",
    "\n",
    "#People that left the company were farther from home than those that stayed.\n",
    "#commute may have been a factor."
   ]
  },
  {
   "cell_type": "code",
   "execution_count": 699,
   "id": "77ad8455",
   "metadata": {},
   "outputs": [
    {
     "data": {
      "text/plain": [
       "Attrition\n",
       "No     4.021127\n",
       "Yes    2.607930\n",
       "Name: YearsInCurrentRole, dtype: float64"
      ]
     },
     "execution_count": 699,
     "metadata": {},
     "output_type": "execute_result"
    }
   ],
   "source": [
    "ibm2[\"YearsInCurrentRole\"].groupby(ibm2[\"Attrition\"]).mean()\n",
    "\n",
    "#People that stayed were longer in their current roles than those that left.\n",
    "#maybe the people that left were ceilinged and had no opportunity for advancement."
   ]
  },
  {
   "cell_type": "code",
   "execution_count": 700,
   "id": "3cb4a53d",
   "metadata": {},
   "outputs": [
    {
     "data": {
      "text/plain": [
       "Attrition\n",
       "No     2.007042\n",
       "Yes    1.546256\n",
       "Name: JobLevel, dtype: float64"
      ]
     },
     "execution_count": 700,
     "metadata": {},
     "output_type": "execute_result"
    }
   ],
   "source": [
    "ibm2[\"JobLevel\"].groupby(ibm2[\"Attrition\"]).mean()\n",
    "\n",
    "#People that stayed were higher level than those that left. \n",
    "#Also makes sense. Maybe they didn't sense opportunity for growth/ advancement"
   ]
  },
  {
   "cell_type": "code",
   "execution_count": 701,
   "id": "77875b1b",
   "metadata": {},
   "outputs": [
    {
     "data": {
      "text/html": [
       "<div>\n",
       "<style scoped>\n",
       "    .dataframe tbody tr th:only-of-type {\n",
       "        vertical-align: middle;\n",
       "    }\n",
       "\n",
       "    .dataframe tbody tr th {\n",
       "        vertical-align: top;\n",
       "    }\n",
       "\n",
       "    .dataframe thead th {\n",
       "        text-align: right;\n",
       "    }\n",
       "</style>\n",
       "<table border=\"1\" class=\"dataframe\">\n",
       "  <thead>\n",
       "    <tr style=\"text-align: right;\">\n",
       "      <th>Attrition</th>\n",
       "      <th>No</th>\n",
       "      <th>Yes</th>\n",
       "    </tr>\n",
       "    <tr>\n",
       "      <th>MaritalStatus</th>\n",
       "      <th></th>\n",
       "      <th></th>\n",
       "    </tr>\n",
       "  </thead>\n",
       "  <tbody>\n",
       "    <tr>\n",
       "      <th>Divorced</th>\n",
       "      <td>267</td>\n",
       "      <td>32</td>\n",
       "    </tr>\n",
       "    <tr>\n",
       "      <th>Married</th>\n",
       "      <td>544</td>\n",
       "      <td>78</td>\n",
       "    </tr>\n",
       "    <tr>\n",
       "      <th>Single</th>\n",
       "      <td>325</td>\n",
       "      <td>117</td>\n",
       "    </tr>\n",
       "  </tbody>\n",
       "</table>\n",
       "</div>"
      ],
      "text/plain": [
       "Attrition       No  Yes\n",
       "MaritalStatus          \n",
       "Divorced       267   32\n",
       "Married        544   78\n",
       "Single         325  117"
      ]
     },
     "execution_count": 701,
     "metadata": {},
     "output_type": "execute_result"
    }
   ],
   "source": [
    "pd.crosstab(ibm2[\"MaritalStatus\"],ibm2[\"Attrition\"], margins=False, normalize=False)\n",
    "\n",
    "#Single people left at a higher rate than those that stayed.\n",
    "#Maybe a better compensation package or better benefits would cause people to stay\n",
    "#Or maybe benefits are part of reason why people stay."
   ]
  },
  {
   "cell_type": "code",
   "execution_count": 702,
   "id": "fbd25eb0",
   "metadata": {},
   "outputs": [
    {
     "data": {
      "text/plain": [
       "Attrition\n",
       "No     36.811620\n",
       "Yes    33.048458\n",
       "Name: Age, dtype: float64"
      ]
     },
     "execution_count": 702,
     "metadata": {},
     "output_type": "execute_result"
    }
   ],
   "source": [
    "ibm2[\"Age\"].groupby(ibm2[\"Attrition\"]).mean()\n",
    "\n",
    "#Based on the above it would seem that there are other factors that were more apt to cause people to leave\n",
    "#you would assume the average age of single people in the company is lower than married/divorced."
   ]
  },
  {
   "cell_type": "code",
   "execution_count": 703,
   "id": "0d5f655f",
   "metadata": {},
   "outputs": [
    {
     "data": {
      "text/html": [
       "<div>\n",
       "<style scoped>\n",
       "    .dataframe tbody tr th:only-of-type {\n",
       "        vertical-align: middle;\n",
       "    }\n",
       "\n",
       "    .dataframe tbody tr th {\n",
       "        vertical-align: top;\n",
       "    }\n",
       "\n",
       "    .dataframe thead th {\n",
       "        text-align: right;\n",
       "    }\n",
       "</style>\n",
       "<table border=\"1\" class=\"dataframe\">\n",
       "  <thead>\n",
       "    <tr style=\"text-align: right;\">\n",
       "      <th>Attrition</th>\n",
       "      <th>No</th>\n",
       "      <th>Yes</th>\n",
       "    </tr>\n",
       "    <tr>\n",
       "      <th>Satisfisfaction with Coworkers</th>\n",
       "      <th></th>\n",
       "      <th></th>\n",
       "    </tr>\n",
       "  </thead>\n",
       "  <tbody>\n",
       "    <tr>\n",
       "      <th>high</th>\n",
       "      <td>363</td>\n",
       "      <td>68</td>\n",
       "    </tr>\n",
       "    <tr>\n",
       "      <th>low</th>\n",
       "      <td>202</td>\n",
       "      <td>57</td>\n",
       "    </tr>\n",
       "    <tr>\n",
       "      <th>medium</th>\n",
       "      <td>240</td>\n",
       "      <td>43</td>\n",
       "    </tr>\n",
       "    <tr>\n",
       "      <th>very high</th>\n",
       "      <td>331</td>\n",
       "      <td>59</td>\n",
       "    </tr>\n",
       "  </tbody>\n",
       "</table>\n",
       "</div>"
      ],
      "text/plain": [
       "Attrition                        No  Yes\n",
       "Satisfisfaction with Coworkers          \n",
       "high                            363   68\n",
       "low                             202   57\n",
       "medium                          240   43\n",
       "very high                       331   59"
      ]
     },
     "execution_count": 703,
     "metadata": {},
     "output_type": "execute_result"
    }
   ],
   "source": [
    "pd.crosstab(ibm2[\"Satisfisfaction with Coworkers\"],ibm2[\"Attrition\"], margins=False, normalize=False)\n",
    "\n",
    "#This doesn't seem to show us much.\n",
    "#those with high/very high satisfaction with coworkers left at about the same rate they stayed."
   ]
  },
  {
   "cell_type": "code",
   "execution_count": 704,
   "id": "d79b82e0",
   "metadata": {},
   "outputs": [
    {
     "data": {
      "text/plain": [
       "Attrition\n",
       "No     4.021127\n",
       "Yes    2.607930\n",
       "Name: YearsInCurrentRole, dtype: float64"
      ]
     },
     "execution_count": 704,
     "metadata": {},
     "output_type": "execute_result"
    }
   ],
   "source": [
    "ibm2[\"YearsInCurrentRole\"].groupby(ibm2[\"Attrition\"]).mean()\n",
    "\n",
    "#If people leave looks like it's after a short stay.\n",
    "#that stands to reason. don't know if there is causality there tho."
   ]
  },
  {
   "cell_type": "code",
   "execution_count": 705,
   "id": "174e1d0f",
   "metadata": {},
   "outputs": [
    {
     "data": {
      "text/html": [
       "<div>\n",
       "<style scoped>\n",
       "    .dataframe tbody tr th:only-of-type {\n",
       "        vertical-align: middle;\n",
       "    }\n",
       "\n",
       "    .dataframe tbody tr th {\n",
       "        vertical-align: top;\n",
       "    }\n",
       "\n",
       "    .dataframe thead th {\n",
       "        text-align: right;\n",
       "    }\n",
       "</style>\n",
       "<table border=\"1\" class=\"dataframe\">\n",
       "  <thead>\n",
       "    <tr style=\"text-align: right;\">\n",
       "      <th>Attrition</th>\n",
       "      <th>No</th>\n",
       "      <th>Yes</th>\n",
       "    </tr>\n",
       "    <tr>\n",
       "      <th>Job Title</th>\n",
       "      <th></th>\n",
       "      <th></th>\n",
       "    </tr>\n",
       "  </thead>\n",
       "  <tbody>\n",
       "    <tr>\n",
       "      <th>Healthcare Representative</th>\n",
       "      <td>109</td>\n",
       "      <td>7</td>\n",
       "    </tr>\n",
       "    <tr>\n",
       "      <th>Human Resources</th>\n",
       "      <td>40</td>\n",
       "      <td>12</td>\n",
       "    </tr>\n",
       "    <tr>\n",
       "      <th>Laboratory Technician</th>\n",
       "      <td>193</td>\n",
       "      <td>61</td>\n",
       "    </tr>\n",
       "    <tr>\n",
       "      <th>Manager</th>\n",
       "      <td>58</td>\n",
       "      <td>4</td>\n",
       "    </tr>\n",
       "    <tr>\n",
       "      <th>Manufacturing Director</th>\n",
       "      <td>129</td>\n",
       "      <td>9</td>\n",
       "    </tr>\n",
       "    <tr>\n",
       "      <th>Research Director</th>\n",
       "      <td>63</td>\n",
       "      <td>0</td>\n",
       "    </tr>\n",
       "    <tr>\n",
       "      <th>Research Scientist</th>\n",
       "      <td>242</td>\n",
       "      <td>47</td>\n",
       "    </tr>\n",
       "    <tr>\n",
       "      <th>Sales Executive</th>\n",
       "      <td>252</td>\n",
       "      <td>54</td>\n",
       "    </tr>\n",
       "    <tr>\n",
       "      <th>Sales Representative</th>\n",
       "      <td>50</td>\n",
       "      <td>33</td>\n",
       "    </tr>\n",
       "  </tbody>\n",
       "</table>\n",
       "</div>"
      ],
      "text/plain": [
       "Attrition                   No  Yes\n",
       "Job Title                          \n",
       "Healthcare Representative  109    7\n",
       "Human Resources             40   12\n",
       "Laboratory Technician      193   61\n",
       "Manager                     58    4\n",
       "Manufacturing Director     129    9\n",
       "Research Director           63    0\n",
       "Research Scientist         242   47\n",
       "Sales Executive            252   54\n",
       "Sales Representative        50   33"
      ]
     },
     "execution_count": 705,
     "metadata": {},
     "output_type": "execute_result"
    }
   ],
   "source": [
    "pd.crosstab(ibm2[\"Job Title\"],ibm2[\"Attrition\"], margins=False, normalize=False)\n",
    " \n",
    "#Management positions stayed, Sales reps, Lab Techs were more apt to leave. Makes sense also. Lower level, less reason to stay"
   ]
  },
  {
   "cell_type": "code",
   "execution_count": 706,
   "id": "56bde7ab",
   "metadata": {},
   "outputs": [
    {
     "data": {
      "text/html": [
       "<div>\n",
       "<style scoped>\n",
       "    .dataframe tbody tr th:only-of-type {\n",
       "        vertical-align: middle;\n",
       "    }\n",
       "\n",
       "    .dataframe tbody tr th {\n",
       "        vertical-align: top;\n",
       "    }\n",
       "\n",
       "    .dataframe thead th {\n",
       "        text-align: right;\n",
       "    }\n",
       "</style>\n",
       "<table border=\"1\" class=\"dataframe\">\n",
       "  <thead>\n",
       "    <tr style=\"text-align: right;\">\n",
       "      <th>Attrition</th>\n",
       "      <th>No</th>\n",
       "      <th>Yes</th>\n",
       "    </tr>\n",
       "    <tr>\n",
       "      <th>WorkLifeBalance</th>\n",
       "      <th></th>\n",
       "      <th></th>\n",
       "    </tr>\n",
       "  </thead>\n",
       "  <tbody>\n",
       "    <tr>\n",
       "      <th>bad</th>\n",
       "      <td>51</td>\n",
       "      <td>23</td>\n",
       "    </tr>\n",
       "    <tr>\n",
       "      <th>best</th>\n",
       "      <td>116</td>\n",
       "      <td>27</td>\n",
       "    </tr>\n",
       "    <tr>\n",
       "      <th>better</th>\n",
       "      <td>706</td>\n",
       "      <td>121</td>\n",
       "    </tr>\n",
       "    <tr>\n",
       "      <th>good</th>\n",
       "      <td>263</td>\n",
       "      <td>56</td>\n",
       "    </tr>\n",
       "  </tbody>\n",
       "</table>\n",
       "</div>"
      ],
      "text/plain": [
       "Attrition         No  Yes\n",
       "WorkLifeBalance          \n",
       "bad               51   23\n",
       "best             116   27\n",
       "better           706  121\n",
       "good             263   56"
      ]
     },
     "execution_count": 706,
     "metadata": {},
     "output_type": "execute_result"
    }
   ],
   "source": [
    "pd.crosstab(ibm2[\"WorkLifeBalance\"],ibm2[\"Attrition\"], margins=False, normalize=False)\n",
    "\n",
    "#Work/Life balance not really a factor it looks like."
   ]
  },
  {
   "cell_type": "code",
   "execution_count": 707,
   "id": "9cf4b691",
   "metadata": {},
   "outputs": [
    {
     "data": {
      "text/plain": [
       "Attrition\n",
       "No     2.840669\n",
       "Yes    2.634361\n",
       "Name: TrainingTimesLastYear, dtype: float64"
      ]
     },
     "execution_count": 707,
     "metadata": {},
     "output_type": "execute_result"
    }
   ],
   "source": [
    "ibm2[\"TrainingTimesLastYear\"].groupby(ibm2[\"Attrition\"]).mean()\n",
    "\n",
    "#no real causation here either."
   ]
  },
  {
   "cell_type": "code",
   "execution_count": 708,
   "id": "13553137",
   "metadata": {},
   "outputs": [
    {
     "data": {
      "text/plain": [
       "Attrition\n",
       "No     10.665493\n",
       "Yes     7.405286\n",
       "Name: TotalWorkingYears, dtype: float64"
      ]
     },
     "execution_count": 708,
     "metadata": {},
     "output_type": "execute_result"
    }
   ],
   "source": [
    "ibm2[\"TotalWorkingYears\"].groupby(ibm2[\"Attrition\"]).mean()\n",
    "\n",
    "#not surprising to see that the longer you are there, the more apt you are to stay."
   ]
  },
  {
   "cell_type": "code",
   "execution_count": 709,
   "id": "0be8536c",
   "metadata": {},
   "outputs": [
    {
     "data": {
      "text/html": [
       "<div>\n",
       "<style scoped>\n",
       "    .dataframe tbody tr th:only-of-type {\n",
       "        vertical-align: middle;\n",
       "    }\n",
       "\n",
       "    .dataframe tbody tr th {\n",
       "        vertical-align: top;\n",
       "    }\n",
       "\n",
       "    .dataframe thead th {\n",
       "        text-align: right;\n",
       "    }\n",
       "</style>\n",
       "<table border=\"1\" class=\"dataframe\">\n",
       "  <thead>\n",
       "    <tr style=\"text-align: right;\">\n",
       "      <th>Attrition</th>\n",
       "      <th>No</th>\n",
       "      <th>Yes</th>\n",
       "    </tr>\n",
       "    <tr>\n",
       "      <th>StockOptionLevel</th>\n",
       "      <th></th>\n",
       "      <th></th>\n",
       "    </tr>\n",
       "  </thead>\n",
       "  <tbody>\n",
       "    <tr>\n",
       "      <th>0</th>\n",
       "      <td>437</td>\n",
       "      <td>148</td>\n",
       "    </tr>\n",
       "    <tr>\n",
       "      <th>1</th>\n",
       "      <td>495</td>\n",
       "      <td>53</td>\n",
       "    </tr>\n",
       "    <tr>\n",
       "      <th>2</th>\n",
       "      <td>139</td>\n",
       "      <td>12</td>\n",
       "    </tr>\n",
       "    <tr>\n",
       "      <th>3</th>\n",
       "      <td>65</td>\n",
       "      <td>14</td>\n",
       "    </tr>\n",
       "  </tbody>\n",
       "</table>\n",
       "</div>"
      ],
      "text/plain": [
       "Attrition          No  Yes\n",
       "StockOptionLevel          \n",
       "0                 437  148\n",
       "1                 495   53\n",
       "2                 139   12\n",
       "3                  65   14"
      ]
     },
     "execution_count": 709,
     "metadata": {},
     "output_type": "execute_result"
    }
   ],
   "source": [
    "pd.crosstab(ibm2[\"StockOptionLevel\"],ibm2[\"Attrition\"], margins=False, normalize=False)\n",
    "\n",
    "#Most of the people that left had no stop options. Better pay and overall compensation would make people stay, not surprisingly."
   ]
  },
  {
   "cell_type": "code",
   "execution_count": 710,
   "id": "945d54da",
   "metadata": {},
   "outputs": [
    {
     "data": {
      "text/html": [
       "<div>\n",
       "<style scoped>\n",
       "    .dataframe tbody tr th:only-of-type {\n",
       "        vertical-align: middle;\n",
       "    }\n",
       "\n",
       "    .dataframe tbody tr th {\n",
       "        vertical-align: top;\n",
       "    }\n",
       "\n",
       "    .dataframe thead th {\n",
       "        text-align: right;\n",
       "    }\n",
       "</style>\n",
       "<table border=\"1\" class=\"dataframe\">\n",
       "  <thead>\n",
       "    <tr style=\"text-align: right;\">\n",
       "      <th>Attrition</th>\n",
       "      <th>No</th>\n",
       "      <th>Yes</th>\n",
       "    </tr>\n",
       "    <tr>\n",
       "      <th>OverTime</th>\n",
       "      <th></th>\n",
       "      <th></th>\n",
       "    </tr>\n",
       "  </thead>\n",
       "  <tbody>\n",
       "    <tr>\n",
       "      <th>No</th>\n",
       "      <td>871</td>\n",
       "      <td>102</td>\n",
       "    </tr>\n",
       "    <tr>\n",
       "      <th>Yes</th>\n",
       "      <td>265</td>\n",
       "      <td>125</td>\n",
       "    </tr>\n",
       "  </tbody>\n",
       "</table>\n",
       "</div>"
      ],
      "text/plain": [
       "Attrition   No  Yes\n",
       "OverTime           \n",
       "No         871  102\n",
       "Yes        265  125"
      ]
     },
     "execution_count": 710,
     "metadata": {},
     "output_type": "execute_result"
    }
   ],
   "source": [
    "pd.crosstab(ibm2[\"OverTime\"],ibm2[\"Attrition\"], margins=False, normalize=False)\n",
    "\n",
    "#Maybe the people that left did so because they were overworked.\n",
    "#That would probably be reflected in an answer to work life balance tho.\n",
    "#We already saw there didn't seem to be much correlation there.\n"
   ]
  },
  {
   "cell_type": "code",
   "execution_count": 711,
   "id": "ab009a31",
   "metadata": {},
   "outputs": [
    {
     "data": {
      "text/plain": [
       "Attrition\n",
       "No     2.628521\n",
       "Yes    2.938326\n",
       "Name: NumCompaniesWorked, dtype: float64"
      ]
     },
     "execution_count": 711,
     "metadata": {},
     "output_type": "execute_result"
    }
   ],
   "source": [
    "ibm2[\"NumCompaniesWorked\"].groupby(ibm2[\"Attrition\"]).mean()\n",
    "\n",
    "#Not much difference here."
   ]
  },
  {
   "cell_type": "code",
   "execution_count": 712,
   "id": "ee1a0463",
   "metadata": {},
   "outputs": [
    {
     "data": {
      "text/html": [
       "<div>\n",
       "<style scoped>\n",
       "    .dataframe tbody tr th:only-of-type {\n",
       "        vertical-align: middle;\n",
       "    }\n",
       "\n",
       "    .dataframe tbody tr th {\n",
       "        vertical-align: top;\n",
       "    }\n",
       "\n",
       "    .dataframe thead th {\n",
       "        text-align: right;\n",
       "    }\n",
       "</style>\n",
       "<table border=\"1\" class=\"dataframe\">\n",
       "  <thead>\n",
       "    <tr style=\"text-align: right;\">\n",
       "      <th>Attrition</th>\n",
       "      <th>No</th>\n",
       "      <th>Yes</th>\n",
       "    </tr>\n",
       "    <tr>\n",
       "      <th>JobSatisfaction</th>\n",
       "      <th></th>\n",
       "      <th></th>\n",
       "    </tr>\n",
       "  </thead>\n",
       "  <tbody>\n",
       "    <tr>\n",
       "      <th>high</th>\n",
       "      <td>340</td>\n",
       "      <td>70</td>\n",
       "    </tr>\n",
       "    <tr>\n",
       "      <th>low</th>\n",
       "      <td>201</td>\n",
       "      <td>64</td>\n",
       "    </tr>\n",
       "    <tr>\n",
       "      <th>medium</th>\n",
       "      <td>213</td>\n",
       "      <td>45</td>\n",
       "    </tr>\n",
       "    <tr>\n",
       "      <th>very high</th>\n",
       "      <td>382</td>\n",
       "      <td>48</td>\n",
       "    </tr>\n",
       "  </tbody>\n",
       "</table>\n",
       "</div>"
      ],
      "text/plain": [
       "Attrition         No  Yes\n",
       "JobSatisfaction          \n",
       "high             340   70\n",
       "low              201   64\n",
       "medium           213   45\n",
       "very high        382   48"
      ]
     },
     "execution_count": 712,
     "metadata": {},
     "output_type": "execute_result"
    }
   ],
   "source": [
    "pd.crosstab(ibm2[\"JobSatisfaction\"],ibm2[\"Attrition\"], margins=False, normalize=False)\n",
    "\n",
    "#Even people with very high satisfaction left with the same frequency as those with only medium satisfaciton.\n",
    "#Not much of a factor then."
   ]
  },
  {
   "cell_type": "code",
   "execution_count": 713,
   "id": "40b6db31",
   "metadata": {},
   "outputs": [
    {
     "data": {
      "text/html": [
       "<div>\n",
       "<style scoped>\n",
       "    .dataframe tbody tr th:only-of-type {\n",
       "        vertical-align: middle;\n",
       "    }\n",
       "\n",
       "    .dataframe tbody tr th {\n",
       "        vertical-align: top;\n",
       "    }\n",
       "\n",
       "    .dataframe thead th {\n",
       "        text-align: right;\n",
       "    }\n",
       "</style>\n",
       "<table border=\"1\" class=\"dataframe\">\n",
       "  <thead>\n",
       "    <tr style=\"text-align: right;\">\n",
       "      <th>Attrition</th>\n",
       "      <th>No</th>\n",
       "      <th>Yes</th>\n",
       "    </tr>\n",
       "    <tr>\n",
       "      <th>Education</th>\n",
       "      <th></th>\n",
       "      <th></th>\n",
       "    </tr>\n",
       "  </thead>\n",
       "  <tbody>\n",
       "    <tr>\n",
       "      <th>Bachelors</th>\n",
       "      <td>435</td>\n",
       "      <td>95</td>\n",
       "    </tr>\n",
       "    <tr>\n",
       "      <th>Doctorate</th>\n",
       "      <td>36</td>\n",
       "      <td>4</td>\n",
       "    </tr>\n",
       "    <tr>\n",
       "      <th>Masters</th>\n",
       "      <td>310</td>\n",
       "      <td>54</td>\n",
       "    </tr>\n",
       "    <tr>\n",
       "      <th>No College</th>\n",
       "      <td>131</td>\n",
       "      <td>30</td>\n",
       "    </tr>\n",
       "    <tr>\n",
       "      <th>Some College</th>\n",
       "      <td>224</td>\n",
       "      <td>44</td>\n",
       "    </tr>\n",
       "  </tbody>\n",
       "</table>\n",
       "</div>"
      ],
      "text/plain": [
       "Attrition      No  Yes\n",
       "Education             \n",
       "Bachelors     435   95\n",
       "Doctorate      36    4\n",
       "Masters       310   54\n",
       "No College    131   30\n",
       "Some College  224   44"
      ]
     },
     "execution_count": 713,
     "metadata": {},
     "output_type": "execute_result"
    }
   ],
   "source": [
    "pd.crosstab(ibm2[\"Education\"],ibm2[\"Attrition\"], margins=False, normalize=False)\n",
    "\n",
    "#These rates seem to be about constant between both groups"
   ]
  },
  {
   "cell_type": "code",
   "execution_count": 714,
   "id": "2df67fd2",
   "metadata": {},
   "outputs": [
    {
     "data": {
      "text/html": [
       "<div>\n",
       "<style scoped>\n",
       "    .dataframe tbody tr th:only-of-type {\n",
       "        vertical-align: middle;\n",
       "    }\n",
       "\n",
       "    .dataframe tbody tr th {\n",
       "        vertical-align: top;\n",
       "    }\n",
       "\n",
       "    .dataframe thead th {\n",
       "        text-align: right;\n",
       "    }\n",
       "</style>\n",
       "<table border=\"1\" class=\"dataframe\">\n",
       "  <thead>\n",
       "    <tr style=\"text-align: right;\">\n",
       "      <th>Attrition</th>\n",
       "      <th>No</th>\n",
       "      <th>Yes</th>\n",
       "    </tr>\n",
       "    <tr>\n",
       "      <th>EducationField</th>\n",
       "      <th></th>\n",
       "      <th></th>\n",
       "    </tr>\n",
       "  </thead>\n",
       "  <tbody>\n",
       "    <tr>\n",
       "      <th>Human Resources</th>\n",
       "      <td>18</td>\n",
       "      <td>7</td>\n",
       "    </tr>\n",
       "    <tr>\n",
       "      <th>Life Sciences</th>\n",
       "      <td>476</td>\n",
       "      <td>83</td>\n",
       "    </tr>\n",
       "    <tr>\n",
       "      <th>Marketing</th>\n",
       "      <td>113</td>\n",
       "      <td>34</td>\n",
       "    </tr>\n",
       "    <tr>\n",
       "      <th>Medical</th>\n",
       "      <td>368</td>\n",
       "      <td>62</td>\n",
       "    </tr>\n",
       "    <tr>\n",
       "      <th>Other</th>\n",
       "      <td>68</td>\n",
       "      <td>11</td>\n",
       "    </tr>\n",
       "    <tr>\n",
       "      <th>Technical Degree</th>\n",
       "      <td>93</td>\n",
       "      <td>30</td>\n",
       "    </tr>\n",
       "  </tbody>\n",
       "</table>\n",
       "</div>"
      ],
      "text/plain": [
       "Attrition          No  Yes\n",
       "EducationField            \n",
       "Human Resources    18    7\n",
       "Life Sciences     476   83\n",
       "Marketing         113   34\n",
       "Medical           368   62\n",
       "Other              68   11\n",
       "Technical Degree   93   30"
      ]
     },
     "execution_count": 714,
     "metadata": {},
     "output_type": "execute_result"
    }
   ],
   "source": [
    "pd.crosstab(ibm2[\"EducationField\"],ibm2[\"Attrition\"], margins=False, normalize=False)\n",
    "\n",
    "#These rates also seem to be about constant between both groups"
   ]
  },
  {
   "cell_type": "code",
   "execution_count": 715,
   "id": "a1925116",
   "metadata": {},
   "outputs": [
    {
     "data": {
      "text/html": [
       "<div>\n",
       "<style scoped>\n",
       "    .dataframe tbody tr th:only-of-type {\n",
       "        vertical-align: middle;\n",
       "    }\n",
       "\n",
       "    .dataframe tbody tr th {\n",
       "        vertical-align: top;\n",
       "    }\n",
       "\n",
       "    .dataframe thead th {\n",
       "        text-align: right;\n",
       "    }\n",
       "</style>\n",
       "<table border=\"1\" class=\"dataframe\">\n",
       "  <thead>\n",
       "    <tr style=\"text-align: right;\">\n",
       "      <th>Attrition</th>\n",
       "      <th>No</th>\n",
       "      <th>Yes</th>\n",
       "    </tr>\n",
       "    <tr>\n",
       "      <th>Department</th>\n",
       "      <th></th>\n",
       "      <th></th>\n",
       "    </tr>\n",
       "  </thead>\n",
       "  <tbody>\n",
       "    <tr>\n",
       "      <th>Human Resources</th>\n",
       "      <td>46</td>\n",
       "      <td>12</td>\n",
       "    </tr>\n",
       "    <tr>\n",
       "      <th>Research &amp; Development</th>\n",
       "      <td>768</td>\n",
       "      <td>127</td>\n",
       "    </tr>\n",
       "    <tr>\n",
       "      <th>Sales</th>\n",
       "      <td>322</td>\n",
       "      <td>88</td>\n",
       "    </tr>\n",
       "  </tbody>\n",
       "</table>\n",
       "</div>"
      ],
      "text/plain": [
       "Attrition                No  Yes\n",
       "Department                      \n",
       "Human Resources          46   12\n",
       "Research & Development  768  127\n",
       "Sales                   322   88"
      ]
     },
     "execution_count": 715,
     "metadata": {},
     "output_type": "execute_result"
    }
   ],
   "source": [
    "pd.crosstab(ibm2[\"Department\"],ibm2[\"Attrition\"], margins=False, normalize=False)\n",
    "\n",
    "#Looks like sales department had the highest turnover, which follows with what we saw above."
   ]
  },
  {
   "cell_type": "code",
   "execution_count": 719,
   "id": "b8850de3",
   "metadata": {},
   "outputs": [],
   "source": [
    "ibm2[\"Attrition\"].replace([\"No\", \"Yes\"], [0, 1], inplace = True)"
   ]
  },
  {
   "cell_type": "code",
   "execution_count": 720,
   "id": "215a62ce",
   "metadata": {},
   "outputs": [],
   "source": [
    "from matplotlib import pyplot as plt\n",
    "%matplotlib inline\n",
    "\n",
    "import seaborn as sns"
   ]
  },
  {
   "cell_type": "code",
   "execution_count": 725,
   "id": "a82b808f",
   "metadata": {},
   "outputs": [
    {
     "name": "stdout",
     "output_type": "stream",
     "text": [
      "Optimization terminated successfully.\n",
      "         Current function value: 0.402881\n",
      "         Iterations 7\n"
     ]
    },
    {
     "data": {
      "text/html": [
       "<table class=\"simpletable\">\n",
       "<caption>Logit Regression Results</caption>\n",
       "<tr>\n",
       "  <th>Dep. Variable:</th>       <td>Attrition</td>    <th>  No. Observations:  </th>  <td>  1363</td>  \n",
       "</tr>\n",
       "<tr>\n",
       "  <th>Model:</th>                 <td>Logit</td>      <th>  Df Residuals:      </th>  <td>  1355</td>  \n",
       "</tr>\n",
       "<tr>\n",
       "  <th>Method:</th>                 <td>MLE</td>       <th>  Df Model:          </th>  <td>     7</td>  \n",
       "</tr>\n",
       "<tr>\n",
       "  <th>Date:</th>            <td>Tue, 02 May 2023</td> <th>  Pseudo R-squ.:     </th>  <td>0.1054</td>  \n",
       "</tr>\n",
       "<tr>\n",
       "  <th>Time:</th>                <td>14:31:43</td>     <th>  Log-Likelihood:    </th> <td> -549.13</td> \n",
       "</tr>\n",
       "<tr>\n",
       "  <th>converged:</th>             <td>True</td>       <th>  LL-Null:           </th> <td> -613.85</td> \n",
       "</tr>\n",
       "<tr>\n",
       "  <th>Covariance Type:</th>     <td>nonrobust</td>    <th>  LLR p-value:       </th> <td>8.229e-25</td>\n",
       "</tr>\n",
       "</table>\n",
       "<table class=\"simpletable\">\n",
       "<tr>\n",
       "             <td></td>                <th>coef</th>     <th>std err</th>      <th>z</th>      <th>P>|z|</th>  <th>[0.025</th>    <th>0.975]</th>  \n",
       "</tr>\n",
       "<tr>\n",
       "  <th>Intercept</th>               <td>    0.8391</td> <td>    0.379</td> <td>    2.212</td> <td> 0.027</td> <td>    0.096</td> <td>    1.583</td>\n",
       "</tr>\n",
       "<tr>\n",
       "  <th>Age</th>                     <td>   -0.0557</td> <td>    0.010</td> <td>   -5.620</td> <td> 0.000</td> <td>   -0.075</td> <td>   -0.036</td>\n",
       "</tr>\n",
       "<tr>\n",
       "  <th>YearsInCurrentRole</th>      <td>   -0.1890</td> <td>    0.034</td> <td>   -5.553</td> <td> 0.000</td> <td>   -0.256</td> <td>   -0.122</td>\n",
       "</tr>\n",
       "<tr>\n",
       "  <th>MilesFromHome</th>           <td>    0.0318</td> <td>    0.009</td> <td>    3.475</td> <td> 0.001</td> <td>    0.014</td> <td>    0.050</td>\n",
       "</tr>\n",
       "<tr>\n",
       "  <th>NumCompaniesWorked</th>      <td>    0.1034</td> <td>    0.031</td> <td>    3.312</td> <td> 0.001</td> <td>    0.042</td> <td>    0.165</td>\n",
       "</tr>\n",
       "<tr>\n",
       "  <th>StockOptionLevel</th>        <td>   -0.5071</td> <td>    0.105</td> <td>   -4.844</td> <td> 0.000</td> <td>   -0.712</td> <td>   -0.302</td>\n",
       "</tr>\n",
       "<tr>\n",
       "  <th>TrainingTimesLastYear</th>   <td>   -0.1301</td> <td>    0.060</td> <td>   -2.160</td> <td> 0.031</td> <td>   -0.248</td> <td>   -0.012</td>\n",
       "</tr>\n",
       "<tr>\n",
       "  <th>YearsSinceLastPromotion</th> <td>    0.1323</td> <td>    0.041</td> <td>    3.216</td> <td> 0.001</td> <td>    0.052</td> <td>    0.213</td>\n",
       "</tr>\n",
       "</table>"
      ],
      "text/plain": [
       "<class 'statsmodels.iolib.summary.Summary'>\n",
       "\"\"\"\n",
       "                           Logit Regression Results                           \n",
       "==============================================================================\n",
       "Dep. Variable:              Attrition   No. Observations:                 1363\n",
       "Model:                          Logit   Df Residuals:                     1355\n",
       "Method:                           MLE   Df Model:                            7\n",
       "Date:                Tue, 02 May 2023   Pseudo R-squ.:                  0.1054\n",
       "Time:                        14:31:43   Log-Likelihood:                -549.13\n",
       "converged:                       True   LL-Null:                       -613.85\n",
       "Covariance Type:            nonrobust   LLR p-value:                 8.229e-25\n",
       "===========================================================================================\n",
       "                              coef    std err          z      P>|z|      [0.025      0.975]\n",
       "-------------------------------------------------------------------------------------------\n",
       "Intercept                   0.8391      0.379      2.212      0.027       0.096       1.583\n",
       "Age                        -0.0557      0.010     -5.620      0.000      -0.075      -0.036\n",
       "YearsInCurrentRole         -0.1890      0.034     -5.553      0.000      -0.256      -0.122\n",
       "MilesFromHome               0.0318      0.009      3.475      0.001       0.014       0.050\n",
       "NumCompaniesWorked          0.1034      0.031      3.312      0.001       0.042       0.165\n",
       "StockOptionLevel           -0.5071      0.105     -4.844      0.000      -0.712      -0.302\n",
       "TrainingTimesLastYear      -0.1301      0.060     -2.160      0.031      -0.248      -0.012\n",
       "YearsSinceLastPromotion     0.1323      0.041      3.216      0.001       0.052       0.213\n",
       "===========================================================================================\n",
       "\"\"\""
      ]
     },
     "execution_count": 725,
     "metadata": {},
     "output_type": "execute_result"
    }
   ],
   "source": [
    "mod1 = sm.logit('Attrition ~ Age + YearsInCurrentRole + MilesFromHome + NumCompaniesWorked + StockOptionLevel + TrainingTimesLastYear + YearsSinceLastPromotion', data=ibm2).fit()\n",
    "\n",
    "mod1.summary()"
   ]
  },
  {
   "cell_type": "code",
   "execution_count": 726,
   "id": "a149f5f5",
   "metadata": {},
   "outputs": [
    {
     "data": {
      "text/html": [
       "<div>\n",
       "<style scoped>\n",
       "    .dataframe tbody tr th:only-of-type {\n",
       "        vertical-align: middle;\n",
       "    }\n",
       "\n",
       "    .dataframe tbody tr th {\n",
       "        vertical-align: top;\n",
       "    }\n",
       "\n",
       "    .dataframe thead th {\n",
       "        text-align: right;\n",
       "    }\n",
       "</style>\n",
       "<table border=\"1\" class=\"dataframe\">\n",
       "  <thead>\n",
       "    <tr style=\"text-align: right;\">\n",
       "      <th></th>\n",
       "      <th>OR</th>\n",
       "      <th>pvalue</th>\n",
       "      <th>Sig</th>\n",
       "    </tr>\n",
       "  </thead>\n",
       "  <tbody>\n",
       "    <tr>\n",
       "      <th>Intercept</th>\n",
       "      <td>2.314318</td>\n",
       "      <td>2.694921e-02</td>\n",
       "      <td>Sig</td>\n",
       "    </tr>\n",
       "    <tr>\n",
       "      <th>Age</th>\n",
       "      <td>0.945779</td>\n",
       "      <td>1.911276e-08</td>\n",
       "      <td>Sig</td>\n",
       "    </tr>\n",
       "    <tr>\n",
       "      <th>YearsInCurrentRole</th>\n",
       "      <td>0.827749</td>\n",
       "      <td>2.802354e-08</td>\n",
       "      <td>Sig</td>\n",
       "    </tr>\n",
       "    <tr>\n",
       "      <th>MilesFromHome</th>\n",
       "      <td>1.032312</td>\n",
       "      <td>5.100090e-04</td>\n",
       "      <td>Sig</td>\n",
       "    </tr>\n",
       "    <tr>\n",
       "      <th>NumCompaniesWorked</th>\n",
       "      <td>1.108883</td>\n",
       "      <td>9.269275e-04</td>\n",
       "      <td>Sig</td>\n",
       "    </tr>\n",
       "    <tr>\n",
       "      <th>StockOptionLevel</th>\n",
       "      <td>0.602210</td>\n",
       "      <td>1.275495e-06</td>\n",
       "      <td>Sig</td>\n",
       "    </tr>\n",
       "    <tr>\n",
       "      <th>TrainingTimesLastYear</th>\n",
       "      <td>0.878000</td>\n",
       "      <td>3.080590e-02</td>\n",
       "      <td>Sig</td>\n",
       "    </tr>\n",
       "    <tr>\n",
       "      <th>YearsSinceLastPromotion</th>\n",
       "      <td>1.141411</td>\n",
       "      <td>1.298960e-03</td>\n",
       "      <td>Sig</td>\n",
       "    </tr>\n",
       "  </tbody>\n",
       "</table>\n",
       "</div>"
      ],
      "text/plain": [
       "                               OR        pvalue  Sig\n",
       "Intercept                2.314318  2.694921e-02  Sig\n",
       "Age                      0.945779  1.911276e-08  Sig\n",
       "YearsInCurrentRole       0.827749  2.802354e-08  Sig\n",
       "MilesFromHome            1.032312  5.100090e-04  Sig\n",
       "NumCompaniesWorked       1.108883  9.269275e-04  Sig\n",
       "StockOptionLevel         0.602210  1.275495e-06  Sig\n",
       "TrainingTimesLastYear    0.878000  3.080590e-02  Sig\n",
       "YearsSinceLastPromotion  1.141411  1.298960e-03  Sig"
      ]
     },
     "execution_count": 726,
     "metadata": {},
     "output_type": "execute_result"
    }
   ],
   "source": [
    "ibm_odds = pd.DataFrame(np.exp(mod1.params), columns = ['OR'])\n",
    "\n",
    "## pull the pvalues directly from the model\n",
    "\n",
    "ibm_odds[\"pvalue\"] = mod1.pvalues\n",
    "\n",
    "## create a variable to quickly determine sig\n",
    "\n",
    "ibm_odds[\"Sig\"] = np.where(ibm_odds[\"pvalue\"] <= 0.05, \"Sig\", \"Not Sig\")\n",
    "\n",
    "## print new dataset\n",
    "ibm_odds"
   ]
  },
  {
   "cell_type": "code",
   "execution_count": null,
   "id": "585198cc",
   "metadata": {},
   "outputs": [],
   "source": [
    "#This model indicates that the less time spent in the career space, the more apt employees were to leave.\n",
    "#Makes sense, older the worker, the more longevity, the more apt they are to stay. \n",
    "#a lot of these other variables correlate with time spent in job.\n",
    "#Probably not promoted if you're new, probably few companies worked for if you are younger and newer to professional life.\n",
    "#Miles from Home impacted whether you left or not. People value their commute time."
   ]
  },
  {
   "cell_type": "code",
   "execution_count": 744,
   "id": "aadc042a",
   "metadata": {},
   "outputs": [
    {
     "data": {
      "text/plain": [
       "<AxesSubplot:xlabel='Attrition', ylabel='Age'>"
      ]
     },
     "execution_count": 744,
     "metadata": {},
     "output_type": "execute_result"
    },
    {
     "data": {
      "image/png": "[encoded data removed]",
      "text/plain": [
       "<Figure size 640x480 with 1 Axes>"
      ]
     },
     "metadata": {},
     "output_type": "display_data"
    }
   ],
   "source": [
    "sns.boxplot(x = ibm2[\"Attrition\"], y = ibm2[\"Age\"])\n",
    "\n",
    "#On average, people that leave the company are younger than those that stay"
   ]
  },
  {
   "cell_type": "code",
   "execution_count": 734,
   "id": "fd20515d",
   "metadata": {},
   "outputs": [
    {
     "data": {
      "text/plain": [
       "<AxesSubplot:xlabel='Gender', ylabel='MonthlyIncome'>"
      ]
     },
     "execution_count": 734,
     "metadata": {},
     "output_type": "execute_result"
    },
    {
     "data": {
      "image/png": "[encoded data removed]",
      "text/plain": [
       "<Figure size 640x480 with 1 Axes>"
      ]
     },
     "metadata": {},
     "output_type": "display_data"
    }
   ],
   "source": [
    "sns.boxplot(x = ibm2[\"Gender\"], y = ibm2[\"MonthlyIncome\"])\n",
    "\n",
    "#On average, females make more than males"
   ]
  },
  {
   "cell_type": "code",
   "execution_count": 740,
   "id": "95437085",
   "metadata": {},
   "outputs": [
    {
     "data": {
      "image/png": "[encoded data removed]",
      "text/plain": [
       "<Figure size 640x480 with 1 Axes>"
      ]
     },
     "metadata": {},
     "output_type": "display_data"
    }
   ],
   "source": [
    "sns.regplot(x = ibm2[\"MonthlyIncome\"], y = ibm2[\"Age\"], fit_reg = False)\n",
    "\n",
    "plt.grid()"
   ]
  },
  {
   "cell_type": "code",
   "execution_count": null,
   "id": "43a8e482",
   "metadata": {},
   "outputs": [],
   "source": [
    "#I would recommend to HR to:\n",
    "\n",
    "#1 - Those that left are early carrier/young professionals.\n",
    "#    The data shows a correlation between how much training the employee received and attrition level\n",
    "#    Maybe if the company offered more training, the younger professional would be motivitated to stay and reinvest that\n",
    "#    training in the company.\n",
    "\n",
    "#2  - Pay younger professionals more. The data also shows that those that left had lower salaries than those that stayed.\n",
    "#    If newer employees were better compensated, they might be less apt to look for better paying jobs at other companies.\n",
    "\n",
    "#3 - Adapt a hybrid or remote work models for jobs that are appropriate.\n",
    "#    The data shows that the farther away employees lived, the more apt they were to leave.\n",
    "#    People value their commute/outside of work hours time.\n",
    "#    If they weren't spending time commuting, they might be more apt to be retained."
   ]
  }
 ],
 "metadata": {
  "kernelspec": {
   "display_name": "Python 3 (ipykernel)",
   "language": "python",
   "name": "python3"
  },
  "language_info": {
   "codemirror_mode": {
    "name": "ipython",
    "version": 3
   },
   "file_extension": ".py",
   "mimetype": "text/x-python",
   "name": "python",
   "nbconvert_exporter": "python",
   "pygments_lexer": "ipython3",
   "version": "3.9.13"
  }
 },
 "nbformat": 4,
 "nbformat_minor": 5
}
