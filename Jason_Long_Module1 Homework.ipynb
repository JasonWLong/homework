{
 "cells": [
  {
   "cell_type": "markdown",
   "metadata": {},
   "source": [
    "1. Print out your favorite color and write comment about what you are doing above the code."
   ]
  },
  {
   "cell_type": "code",
   "execution_count": 1,
   "metadata": {},
   "outputs": [
    {
     "name": "stdout",
     "output_type": "stream",
     "text": [
      "orange\n"
     ]
    }
   ],
   "source": [
    "# Below I am writing code that will allow me to display an answer to question 1. The actual answer is display below\n",
    "\n",
    "fav_color = \"orange\"\n",
    "print(fav_color)"
   ]
  },
  {
   "cell_type": "markdown",
   "metadata": {},
   "source": [
    "2. Print the sumation of numbers 1 through 10"
   ]
  },
  {
   "cell_type": "code",
   "execution_count": 2,
   "metadata": {},
   "outputs": [
    {
     "name": "stdout",
     "output_type": "stream",
     "text": [
      "55\n"
     ]
    }
   ],
   "source": [
    "numb1 = 1\n",
    "numb2 = 2\n",
    "numb3 = 3\n",
    "numb4 = 4\n",
    "numb5 = 5\n",
    "numb6 = 6\n",
    "numb7 = 7\n",
    "numb8 = 8\n",
    "numb9 = 9\n",
    "numb10 = 10\n",
    "\n",
    "print(numb1 + numb2 + numb3 + numb4 + numb5 + numb6 + numb7 + numb8 + numb9 + numb10)"
   ]
  },
  {
   "cell_type": "markdown",
   "metadata": {},
   "source": [
    "3. Print what 2 to the 8th power is."
   ]
  },
  {
   "cell_type": "code",
   "execution_count": 3,
   "metadata": {},
   "outputs": [
    {
     "name": "stdout",
     "output_type": "stream",
     "text": [
      "256\n"
     ]
    }
   ],
   "source": [
    "print(2**8)"
   ]
  },
  {
   "cell_type": "markdown",
   "metadata": {},
   "source": [
    "4. Print the remainder of 100 divided by 11. "
   ]
  },
  {
   "cell_type": "code",
   "execution_count": 5,
   "metadata": {},
   "outputs": [
    {
     "name": "stdout",
     "output_type": "stream",
     "text": [
      "1\n"
     ]
    }
   ],
   "source": [
    "print(100 % 11)"
   ]
  },
  {
   "cell_type": "markdown",
   "metadata": {},
   "source": [
    "5. What is the result of adding strings: 20, 8, 77?"
   ]
  },
  {
   "cell_type": "code",
   "execution_count": 6,
   "metadata": {},
   "outputs": [
    {
     "name": "stdout",
     "output_type": "stream",
     "text": [
      "20877\n"
     ]
    }
   ],
   "source": [
    "numb1 = \"20\"\n",
    "numb2 = \"8\"\n",
    "numb3 = \"77\"\n",
    "\n",
    "print(numb1 + numb2 + numb3)"
   ]
  },
  {
   "cell_type": "markdown",
   "metadata": {},
   "source": [
    "6. Print out 100 divided by 5"
   ]
  },
  {
   "cell_type": "code",
   "execution_count": 7,
   "metadata": {},
   "outputs": [
    {
     "name": "stdout",
     "output_type": "stream",
     "text": [
      "20.0\n"
     ]
    }
   ],
   "source": [
    "numb1 = 100\n",
    "numb2 = 5\n",
    "\n",
    "print(numb1 / numb2)"
   ]
  },
  {
   "cell_type": "markdown",
   "metadata": {},
   "source": [
    "7. What is the difference (subtraction) between 10/4 and 10//4?  Print out the result"
   ]
  },
  {
   "cell_type": "code",
   "execution_count": 12,
   "metadata": {},
   "outputs": [
    {
     "name": "stdout",
     "output_type": "stream",
     "text": [
      "0.5\n"
     ]
    }
   ],
   "source": [
    "numb1 = 10\n",
    "numb2 = 4\n",
    "\n",
    "print((numb1/numb2) - (numb1//numb2))"
   ]
  },
  {
   "cell_type": "markdown",
   "metadata": {},
   "source": [
    "8. Create a variable called height and store your height value there.\n",
    "Print a sentence describing your height and use the variable in the sentence as well."
   ]
  },
  {
   "cell_type": "code",
   "execution_count": 35,
   "metadata": {},
   "outputs": [
    {
     "name": "stdout",
     "output_type": "stream",
     "text": [
      "I am taller than the average person. My height is 6'2\n"
     ]
    }
   ],
   "source": [
    "height = \"6'2\"\n",
    "print(\"I am taller than the average person. My height is\" ,height)"
   ]
  },
  {
   "cell_type": "markdown",
   "metadata": {},
   "source": [
    "9. Print the same information as exercise 8 using a formatted string. "
   ]
  },
  {
   "cell_type": "code",
   "execution_count": 138,
   "metadata": {},
   "outputs": [
    {
     "name": "stdout",
     "output_type": "stream",
     "text": [
      "I am taller than the average person. My height is 6'8\n"
     ]
    }
   ],
   "source": [
    "height = \"6'8\"\n",
    "\n",
    "print(f\"I am taller than the average person. My height is {height}\")"
   ]
  },
  {
   "cell_type": "markdown",
   "metadata": {},
   "source": [
    "10. Use two different (single and double) quotes in a string to print out a sentence"
   ]
  },
  {
   "cell_type": "code",
   "execution_count": 40,
   "metadata": {},
   "outputs": [
    {
     "name": "stdout",
     "output_type": "stream",
     "text": [
      "This is one quote string and so is this.\n"
     ]
    }
   ],
   "source": [
    "print('This is one quote string '\"and so is this.\") "
   ]
  },
  {
   "cell_type": "markdown",
   "metadata": {},
   "source": [
    "11. Print out Hello World! 7 times each on a new line using only one line of code."
   ]
  },
  {
   "cell_type": "code",
   "execution_count": 140,
   "metadata": {},
   "outputs": [
    {
     "name": "stdout",
     "output_type": "stream",
     "text": [
      "Hello, World!\n",
      "Hello, World!\n",
      "Hello, World!\n",
      "Hello, World!\n",
      "Hello, World!\n",
      "Hello, World!\n",
      "Hello, World!\n"
     ]
    }
   ],
   "source": [
    "print(\"Hello, World!\\nHello, World!\\nHello, World!\\nHello, World!\\nHello, World!\\nHello, World!\\nHello, World!\")"
   ]
  },
  {
   "cell_type": "markdown",
   "metadata": {},
   "source": [
    "12. Write a code to get two integers from a user. Then print out their summation, subtraction, multiplication, and division."
   ]
  },
  {
   "cell_type": "code",
   "execution_count": 146,
   "metadata": {},
   "outputs": [
    {
     "name": "stdout",
     "output_type": "stream",
     "text": [
      "Please enter an integer\n",
      "Integer:8\n",
      "Please enter another integer below\n",
      "Integer:6\n",
      "8 + 6 = 14\n",
      "8 - 6 = 2\n",
      "8 * 6 = 48\n",
      "8 + 6 / 1.3333333333333333\n"
     ]
    }
   ],
   "source": [
    "print(\"Please enter an integer\")\n",
    "\n",
    "prompt = \"Integer:\"\n",
    "\n",
    "int1 = int(input(prompt))\n",
    "\n",
    "print(\"Please enter another integer below\")\n",
    "\n",
    "prompt = \"Integer:\"\n",
    "\n",
    "int2 = int(input(prompt))\n",
    "\n",
    "total = int1 + int2\n",
    "\n",
    "print(f\"{int1} + {int2} = {total}\")\n",
    "\n",
    "total = int1 - int2\n",
    "\n",
    "print(f\"{int1} - {int2} = {total}\")\n",
    "\n",
    "total = int1 * int2\n",
    "\n",
    "print(f\"{int1} * {int2} = {total}\")\n",
    "\n",
    "total = int1 / int2\n",
    "\n",
    "print(f\"{int1} + {int2} / {total}\")\n"
   ]
  },
  {
   "cell_type": "markdown",
   "metadata": {},
   "source": [
    "13. You and your collegue have been tasked to write a code to get 5 numbers from a user and then print out their summation and average in a formatted string.  Your partner wrote codes below.  Now it is up to you to fix all errors."
   ]
  },
  {
   "cell_type": "code",
   "execution_count": 147,
   "metadata": {},
   "outputs": [
    {
     "name": "stdout",
     "output_type": "stream",
     "text": [
      "Enter a number:8\n",
      "Enter a number:7\n",
      "Enter a number:6\n",
      "Enter a number:5\n",
      "Enter a number:4\n",
      "Total = 30, average = 6.0\n"
     ]
    }
   ],
   "source": [
    "prompt = \"Enter a number:\"\n",
    "\n",
    "numb1 = int(input(prompt))\n",
    "numb2 = int(input(prompt))\n",
    "numb3 = int(input(prompt))\n",
    "numb4 = int(input(prompt))\n",
    "numb5 = int(input(prompt))\n",
    "\n",
    "total = numb1 + numb2 + numb3 + numb4 + numb5\n",
    "avg = total // 5\n",
    "print(f\"Total = {total}, average = {avg}\")\n",
    "\n"
   ]
  },
  {
   "cell_type": "markdown",
   "metadata": {},
   "source": [
    "14. You and your partner have been assigned to a project to write a program to calculate the amount of runoff rain on a roof from any given rainfall.  \n",
    "\n",
    "You and your partner have figured out that to calculate the runoff from any given rainfall. \n",
    "\n",
    "You need to take the dimensions of the footprint of the roof and <b>convert them to inches</b> (ex - a 50' x 20' roof is 600\" x 240\"). The dimensions should be user submitted. \n",
    "\n",
    "Then, multiply the roof dimensions by the number of inches of rainfall. As an example, 600\" x 240\" x 1\" = 144,000 cubic inches of water for an inch of rainfall. Finally, divide that result by 231 to get the number of gallons (because 1 gallon = 231 cubic inches; 144,000/231 = 623.38).\n",
    "\n",
    "Your partner started coding before getting sick and it is up to you to finish the program."
   ]
  },
  {
   "cell_type": "code",
   "execution_count": 60,
   "metadata": {},
   "outputs": [
    {
     "name": "stdout",
     "output_type": "stream",
     "text": [
      "What's roof's width in feet? 8\n",
      "What's roof's length in feet? 7\n",
      "How many inches did it rain? 2\n",
      "Gallons of rain runoff = 69.82\n"
     ]
    }
   ],
   "source": [
    "prompt = \"What's roof's width in feet? \"\n",
    "\n",
    "width = int(input(prompt)) * 12\n",
    "\n",
    "prompt = \"What's roof's length in feet? \"\n",
    "\n",
    "length = int(input(prompt)) * 12\n",
    "\n",
    "prompt = \"How many inches did it rain? \"\n",
    "\n",
    "rain = int(input(prompt))\n",
    "\n",
    "runoff_inches = width * length * rain\n",
    "\n",
    "runoff_gallons = runoff_inches / 231\n",
    "\n",
    "print(f\"Gallons of rain runoff = {runoff_gallons:,.2f}\")\n",
    "      \n",
    "      "
   ]
  },
  {
   "cell_type": "markdown",
   "metadata": {},
   "source": [
    "15. A program is required to get a customer’s name, a purchase amount and a discount rate (in %). The program must compute the discount amount, sales tax (6%) and the total amount due. Using one print statement, print the customer’s name, purchase amount, discount amount, sales tax and total amount due in friendly format."
   ]
  },
  {
   "cell_type": "code",
   "execution_count": 137,
   "metadata": {},
   "outputs": [
    {
     "name": "stdout",
     "output_type": "stream",
     "text": [
      "Enter Customer Name: Jones\n",
      "Enter Purchase Amount in $: 688\n",
      "Enter Customer Discount %: 6\n",
      "\n",
      "Customer Name:\t\tJones\n",
      "\n",
      "Purchase Amount:\t$688.00\n",
      "Discount Amount:\t$41.28\n",
      "\n",
      "After Discount:\t\t$646.72\n",
      "Sales Tax:\t\t$2.48\n",
      "\n",
      "Total:\t\t\t$649.20\n"
     ]
    }
   ],
   "source": [
    "prompt = \"Enter Customer Name: \"\n",
    "\n",
    "cust_name = (input(prompt))\n",
    "\n",
    "prompt = \"Enter Purchase Amount in $: \"\n",
    "\n",
    "purch_amt = int(input(prompt))\n",
    "\n",
    "prompt = \"Enter Customer Discount %: \"\n",
    "\n",
    "disc = int(input(prompt))\n",
    "\n",
    "disc_perc = disc / 100\n",
    "\n",
    "disc_amt = disc_perc * purch_amt\n",
    "\n",
    "sales_tax = .06\n",
    "\n",
    "tax = sales_tax * disc_amt \n",
    "\n",
    "aft_dis = purch_amt - disc_amt\n",
    "\n",
    "total = aft_dis + tax\n",
    "\n",
    "print(f\"\\nCustomer Name:\\t\\t{cust_name}\\n\\nPurchase Amount:\\t${purch_amt:.2f}\\nDiscount Amount:\\t${disc_amt:.2f}\\n\\nAfter Discount:\\t\\t${aft_dis}\\nSales Tax:\\t\\t${tax:.2f}\\n\\nTotal:\\t\\t\\t${total:.2f}\")"
   ]
  },
  {
   "cell_type": "code",
   "execution_count": null,
   "metadata": {},
   "outputs": [],
   "source": []
  }
 ],
 "metadata": {
  "kernelspec": {
   "display_name": "Python 3 (ipykernel)",
   "language": "python",
   "name": "python3"
  },
  "language_info": {
   "codemirror_mode": {
    "name": "ipython",
    "version": 3
   },
   "file_extension": ".py",
   "mimetype": "text/x-python",
   "name": "python",
   "nbconvert_exporter": "python",
   "pygments_lexer": "ipython3",
   "version": "3.9.13"
  }
 },
 "nbformat": 4,
 "nbformat_minor": 4
}
