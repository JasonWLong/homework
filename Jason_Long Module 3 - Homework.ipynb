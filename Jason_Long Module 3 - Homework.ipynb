{
 "cells": [
  {
   "cell_type": "markdown",
   "metadata": {},
   "source": [
    "### Exercise 1\n",
    "Ask a user for 5 names and place each one in to a list called <i>names</i>. Then, print <i>names</i>."
   ]
  },
  {
   "cell_type": "code",
   "execution_count": 59,
   "metadata": {
    "scrolled": true
   },
   "outputs": [
    {
     "name": "stdout",
     "output_type": "stream",
     "text": [
      "Please enter a name: Jason\n",
      "Please enter a name: Katie\n",
      "Please enter a name: Andrew\n",
      "Please enter a name: Geraldine\n",
      "Please enter a name: No one\n",
      "This is a list of the names entered: ['Jason', 'Katie', 'Andrew', 'Geraldine', 'No one']\n"
     ]
    }
   ],
   "source": [
    "n1 = input(\"Please enter a name: \")\n",
    "n2 = input(\"Please enter a name: \")\n",
    "n3 = input(\"Please enter a name: \")\n",
    "n4 = input(\"Please enter a name: \")\n",
    "n5 = input(\"Please enter a name: \")\n",
    "\n",
    "names = [n1, n2, n3, n4, n5]\n",
    "print(f\"This is a list of the names entered: {names}\")\n",
    "\n"
   ]
  },
  {
   "cell_type": "code",
   "execution_count": null,
   "metadata": {},
   "outputs": [],
   "source": [
    "### Exercise 2\n",
    "Print out a randomly selected name in the names list."
   ]
  },
  {
   "cell_type": "code",
   "execution_count": 12,
   "metadata": {},
   "outputs": [
    {
     "data": {
      "text/plain": [
       "'Katie'"
      ]
     },
     "execution_count": 12,
     "metadata": {},
     "output_type": "execute_result"
    }
   ],
   "source": [
    "###can you point to where we were taught this?\n",
    "\n",
    "import random\n",
    "random.choice(names)\t"
   ]
  },
  {
   "cell_type": "markdown",
   "metadata": {},
   "source": [
    "### Exercise 3\n",
    "\n",
    "Ask a user for a specific color and store that value into a variable. If the answer is gray, print \"You found Victor's favorite color!\". If the answer is anything besides gray, print \"[color name] is not Victor's favorite color.\""
   ]
  },
  {
   "cell_type": "code",
   "execution_count": 23,
   "metadata": {},
   "outputs": [
    {
     "name": "stdout",
     "output_type": "stream",
     "text": [
      "Please enter a color: gray\n",
      "You found Victor's favorite color!\n"
     ]
    }
   ],
   "source": [
    "c1 = input(\"Please enter a color: \")\n",
    "\n",
    "if c1 == \"gray\":\n",
    "    print(\"You found Victor's favorite color!\")\n",
    "else:\n",
    "    print(f\"{c1} is not Victor's favorite color\")"
   ]
  },
  {
   "cell_type": "markdown",
   "metadata": {},
   "source": [
    "### Exercise 4\n",
    "Ask for an exam score and store that number. If the number is greater than 100, then print out 'You cannot have an exam score higher than 100'. If the number doesn't exceeed 100 but is greater than or equal to 75, then print out 'You did great on your exam!'. Otherwise if they scored lower than 75, then print out 'You need to study harder'."
   ]
  },
  {
   "cell_type": "code",
   "execution_count": 62,
   "metadata": {},
   "outputs": [
    {
     "name": "stdout",
     "output_type": "stream",
     "text": [
      " Enter your test score: 108\n",
      "You cannot have an exam score higher than 100\n"
     ]
    }
   ],
   "source": [
    "score = int(input(\" Enter your test score: \"))\n",
    "\n",
    "if score > 100:\n",
    "    print(\"You cannot have an exam score higher than 100\")\n",
    "if score >= 75 and score <=100:\n",
    "    print(\"You did great on your exam\")\n",
    "if score <= 75:\n",
    "    print(\"You need to study harder\")\n",
    "    "
   ]
  },
  {
   "cell_type": "markdown",
   "metadata": {},
   "source": [
    "### Exercise 5\n",
    "Write a function to convert a test score to a grade where  \n",
    " - 90 - 100: A\n",
    " - 80 - 89:  B\n",
    " - 70 - 79:  C\n",
    " - 60 - 69:  D\n",
    " - < 60   :  F\n",
    " \n",
    "If a score is not between 0 and 100 then print out an error message. In the program, ask the user for a score and then call your function. "
   ]
  },
  {
   "cell_type": "code",
   "execution_count": 76,
   "metadata": {},
   "outputs": [
    {
     "name": "stdout",
     "output_type": "stream",
     "text": [
      " Enter your test score: 78\n",
      "You received a C\n"
     ]
    }
   ],
   "source": [
    "##I wrote the program below. I can't conceive of how to go about calling a function for this problem.\n",
    "  \n",
    "score = int(input(\" Enter your test score: \"))\n",
    "\n",
    "if score >=90 and score <=100:\n",
    "    print(\"You received an A\")   \n",
    "if score >= 80 and score <=89:\n",
    "    print(\"You received a B\")\n",
    "if score >= 70 and score <=79:\n",
    "    print(\"You received a C\")\n",
    "if score >= 60 and score <=69:\n",
    "    print(\"You received a D\")\n",
    "if score <= 60 and score >=0:\n",
    "    print(\"You received an F\")\n",
    "if score >100:\n",
    "    print(\"You entered an invalid test score!\")"
   ]
  },
  {
   "cell_type": "code",
   "execution_count": null,
   "metadata": {},
   "outputs": [],
   "source": []
  }
 ],
 "metadata": {
  "kernelspec": {
   "display_name": "Python 3 (ipykernel)",
   "language": "python",
   "name": "python3"
  },
  "language_info": {
   "codemirror_mode": {
    "name": "ipython",
    "version": 3
   },
   "file_extension": ".py",
   "mimetype": "text/x-python",
   "name": "python",
   "nbconvert_exporter": "python",
   "pygments_lexer": "ipython3",
   "version": "3.9.13"
  }
 },
 "nbformat": 4,
 "nbformat_minor": 4
}
