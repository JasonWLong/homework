{
 "cells": [
  {
   "cell_type": "code",
   "execution_count": 41,
   "id": "e1ad3f55",
   "metadata": {},
   "outputs": [],
   "source": [
    "import pandas as pd\n",
    "import numpy as np\n",
    "import scipy.stats as stats"
   ]
  },
  {
   "cell_type": "code",
   "execution_count": 42,
   "id": "d066fd4d",
   "metadata": {},
   "outputs": [],
   "source": [
    "#1 \n",
    "\n",
    "bbs = pd.read_excel(\"babies.xlsx\")\n"
   ]
  },
  {
   "cell_type": "code",
   "execution_count": 43,
   "id": "2f6b89a1",
   "metadata": {},
   "outputs": [
    {
     "data": {
      "text/html": [
       "<div>\n",
       "<style scoped>\n",
       "    .dataframe tbody tr th:only-of-type {\n",
       "        vertical-align: middle;\n",
       "    }\n",
       "\n",
       "    .dataframe tbody tr th {\n",
       "        vertical-align: top;\n",
       "    }\n",
       "\n",
       "    .dataframe thead th {\n",
       "        text-align: right;\n",
       "    }\n",
       "</style>\n",
       "<table border=\"1\" class=\"dataframe\">\n",
       "  <thead>\n",
       "    <tr style=\"text-align: right;\">\n",
       "      <th></th>\n",
       "      <th>bwt</th>\n",
       "      <th>gestation</th>\n",
       "      <th>parity</th>\n",
       "      <th>age</th>\n",
       "      <th>height</th>\n",
       "      <th>weight</th>\n",
       "      <th>smoke</th>\n",
       "    </tr>\n",
       "  </thead>\n",
       "  <tbody>\n",
       "    <tr>\n",
       "      <th>0</th>\n",
       "      <td>120</td>\n",
       "      <td>284.0</td>\n",
       "      <td>0</td>\n",
       "      <td>27.0</td>\n",
       "      <td>62.0</td>\n",
       "      <td>100.0</td>\n",
       "      <td>0.0</td>\n",
       "    </tr>\n",
       "    <tr>\n",
       "      <th>1</th>\n",
       "      <td>113</td>\n",
       "      <td>282.0</td>\n",
       "      <td>0</td>\n",
       "      <td>33.0</td>\n",
       "      <td>64.0</td>\n",
       "      <td>135.0</td>\n",
       "      <td>0.0</td>\n",
       "    </tr>\n",
       "    <tr>\n",
       "      <th>2</th>\n",
       "      <td>128</td>\n",
       "      <td>279.0</td>\n",
       "      <td>0</td>\n",
       "      <td>28.0</td>\n",
       "      <td>64.0</td>\n",
       "      <td>77.0</td>\n",
       "      <td>1.0</td>\n",
       "    </tr>\n",
       "    <tr>\n",
       "      <th>3</th>\n",
       "      <td>123</td>\n",
       "      <td>NaN</td>\n",
       "      <td>0</td>\n",
       "      <td>36.0</td>\n",
       "      <td>69.0</td>\n",
       "      <td>190.0</td>\n",
       "      <td>0.0</td>\n",
       "    </tr>\n",
       "    <tr>\n",
       "      <th>4</th>\n",
       "      <td>108</td>\n",
       "      <td>282.0</td>\n",
       "      <td>0</td>\n",
       "      <td>23.0</td>\n",
       "      <td>67.0</td>\n",
       "      <td>125.0</td>\n",
       "      <td>1.0</td>\n",
       "    </tr>\n",
       "  </tbody>\n",
       "</table>\n",
       "</div>"
      ],
      "text/plain": [
       "   bwt  gestation  parity   age  height  weight  smoke\n",
       "0  120      284.0       0  27.0    62.0   100.0    0.0\n",
       "1  113      282.0       0  33.0    64.0   135.0    0.0\n",
       "2  128      279.0       0  28.0    64.0    77.0    1.0\n",
       "3  123        NaN       0  36.0    69.0   190.0    0.0\n",
       "4  108      282.0       0  23.0    67.0   125.0    1.0"
      ]
     },
     "execution_count": 43,
     "metadata": {},
     "output_type": "execute_result"
    }
   ],
   "source": [
    "#2-1 \n",
    "\n",
    "bbs.head()"
   ]
  },
  {
   "cell_type": "code",
   "execution_count": 44,
   "id": "195350ea",
   "metadata": {},
   "outputs": [
    {
     "name": "stdout",
     "output_type": "stream",
     "text": [
      "<class 'pandas.core.frame.DataFrame'>\n",
      "RangeIndex: 1236 entries, 0 to 1235\n",
      "Data columns (total 7 columns):\n",
      " #   Column     Non-Null Count  Dtype  \n",
      "---  ------     --------------  -----  \n",
      " 0   bwt        1236 non-null   int64  \n",
      " 1   gestation  1223 non-null   float64\n",
      " 2   parity     1236 non-null   int64  \n",
      " 3   age        1234 non-null   float64\n",
      " 4   height     1214 non-null   float64\n",
      " 5   weight     1200 non-null   float64\n",
      " 6   smoke      1226 non-null   float64\n",
      "dtypes: float64(5), int64(2)\n",
      "memory usage: 67.7 KB\n"
     ]
    }
   ],
   "source": [
    "#2-2\n",
    "\n",
    "bbs.info()\n",
    "\n",
    "#there are 5 float and 2 integer data types in the dataset\n",
    "#there is missing data in gestation, age, height, weight, and smoke columns."
   ]
  },
  {
   "cell_type": "code",
   "execution_count": 45,
   "id": "f3beaf34",
   "metadata": {},
   "outputs": [
    {
     "data": {
      "text/html": [
       "<div>\n",
       "<style scoped>\n",
       "    .dataframe tbody tr th:only-of-type {\n",
       "        vertical-align: middle;\n",
       "    }\n",
       "\n",
       "    .dataframe tbody tr th {\n",
       "        vertical-align: top;\n",
       "    }\n",
       "\n",
       "    .dataframe thead th {\n",
       "        text-align: right;\n",
       "    }\n",
       "</style>\n",
       "<table border=\"1\" class=\"dataframe\">\n",
       "  <thead>\n",
       "    <tr style=\"text-align: right;\">\n",
       "      <th></th>\n",
       "      <th>bwt</th>\n",
       "      <th>gestation</th>\n",
       "      <th>parity</th>\n",
       "      <th>age</th>\n",
       "      <th>height</th>\n",
       "      <th>weight</th>\n",
       "      <th>smoke</th>\n",
       "    </tr>\n",
       "  </thead>\n",
       "  <tbody>\n",
       "    <tr>\n",
       "      <th>0</th>\n",
       "      <td>120</td>\n",
       "      <td>284.0</td>\n",
       "      <td>0</td>\n",
       "      <td>27.0</td>\n",
       "      <td>62.0</td>\n",
       "      <td>100.0</td>\n",
       "      <td>0.0</td>\n",
       "    </tr>\n",
       "    <tr>\n",
       "      <th>1</th>\n",
       "      <td>113</td>\n",
       "      <td>282.0</td>\n",
       "      <td>0</td>\n",
       "      <td>33.0</td>\n",
       "      <td>64.0</td>\n",
       "      <td>135.0</td>\n",
       "      <td>0.0</td>\n",
       "    </tr>\n",
       "    <tr>\n",
       "      <th>2</th>\n",
       "      <td>128</td>\n",
       "      <td>279.0</td>\n",
       "      <td>0</td>\n",
       "      <td>28.0</td>\n",
       "      <td>64.0</td>\n",
       "      <td>77.0</td>\n",
       "      <td>1.0</td>\n",
       "    </tr>\n",
       "    <tr>\n",
       "      <th>4</th>\n",
       "      <td>108</td>\n",
       "      <td>282.0</td>\n",
       "      <td>0</td>\n",
       "      <td>23.0</td>\n",
       "      <td>67.0</td>\n",
       "      <td>125.0</td>\n",
       "      <td>1.0</td>\n",
       "    </tr>\n",
       "    <tr>\n",
       "      <th>5</th>\n",
       "      <td>136</td>\n",
       "      <td>286.0</td>\n",
       "      <td>0</td>\n",
       "      <td>25.0</td>\n",
       "      <td>62.0</td>\n",
       "      <td>93.0</td>\n",
       "      <td>0.0</td>\n",
       "    </tr>\n",
       "  </tbody>\n",
       "</table>\n",
       "</div>"
      ],
      "text/plain": [
       "   bwt  gestation  parity   age  height  weight  smoke\n",
       "0  120      284.0       0  27.0    62.0   100.0    0.0\n",
       "1  113      282.0       0  33.0    64.0   135.0    0.0\n",
       "2  128      279.0       0  28.0    64.0    77.0    1.0\n",
       "4  108      282.0       0  23.0    67.0   125.0    1.0\n",
       "5  136      286.0       0  25.0    62.0    93.0    0.0"
      ]
     },
     "execution_count": 45,
     "metadata": {},
     "output_type": "execute_result"
    }
   ],
   "source": [
    "#3\n",
    "\n",
    "bbs.dropna(inplace = True)\n",
    "\n",
    "bbs.head()"
   ]
  },
  {
   "cell_type": "code",
   "execution_count": 46,
   "id": "3c64a102",
   "metadata": {},
   "outputs": [
    {
     "name": "stdout",
     "output_type": "stream",
     "text": [
      "<class 'pandas.core.frame.DataFrame'>\n",
      "Int64Index: 1174 entries, 0 to 1235\n",
      "Data columns (total 7 columns):\n",
      " #   Column     Non-Null Count  Dtype  \n",
      "---  ------     --------------  -----  \n",
      " 0   bwt        1174 non-null   int64  \n",
      " 1   gestation  1174 non-null   float64\n",
      " 2   parity     1174 non-null   int64  \n",
      " 3   age        1174 non-null   float64\n",
      " 4   height     1174 non-null   float64\n",
      " 5   weight     1174 non-null   float64\n",
      " 6   smoke      1174 non-null   float64\n",
      "dtypes: float64(5), int64(2)\n",
      "memory usage: 73.4 KB\n"
     ]
    }
   ],
   "source": [
    "bbs.info()\n",
    "\n",
    "#There are 62 rows dropped"
   ]
  },
  {
   "cell_type": "code",
   "execution_count": 47,
   "id": "d43ba6e8",
   "metadata": {},
   "outputs": [],
   "source": [
    "#4 smoke and gestation are the two qualitative variables in the dataset. They are numeric representations of T/F questions.\n"
   ]
  },
  {
   "cell_type": "code",
   "execution_count": 48,
   "id": "fcb075a0",
   "metadata": {},
   "outputs": [
    {
     "data": {
      "text/html": [
       "<div>\n",
       "<style scoped>\n",
       "    .dataframe tbody tr th:only-of-type {\n",
       "        vertical-align: middle;\n",
       "    }\n",
       "\n",
       "    .dataframe tbody tr th {\n",
       "        vertical-align: top;\n",
       "    }\n",
       "\n",
       "    .dataframe thead th {\n",
       "        text-align: right;\n",
       "    }\n",
       "</style>\n",
       "<table border=\"1\" class=\"dataframe\">\n",
       "  <thead>\n",
       "    <tr style=\"text-align: right;\">\n",
       "      <th></th>\n",
       "      <th>bwt</th>\n",
       "      <th>gestation</th>\n",
       "      <th>age</th>\n",
       "      <th>height</th>\n",
       "      <th>weight</th>\n",
       "      <th>Is Smoker</th>\n",
       "      <th>Previous Pregnancy</th>\n",
       "    </tr>\n",
       "  </thead>\n",
       "  <tbody>\n",
       "    <tr>\n",
       "      <th>0</th>\n",
       "      <td>120</td>\n",
       "      <td>284.0</td>\n",
       "      <td>27.0</td>\n",
       "      <td>62.0</td>\n",
       "      <td>100.0</td>\n",
       "      <td>No</td>\n",
       "      <td>No</td>\n",
       "    </tr>\n",
       "    <tr>\n",
       "      <th>1</th>\n",
       "      <td>113</td>\n",
       "      <td>282.0</td>\n",
       "      <td>33.0</td>\n",
       "      <td>64.0</td>\n",
       "      <td>135.0</td>\n",
       "      <td>No</td>\n",
       "      <td>No</td>\n",
       "    </tr>\n",
       "    <tr>\n",
       "      <th>2</th>\n",
       "      <td>128</td>\n",
       "      <td>279.0</td>\n",
       "      <td>28.0</td>\n",
       "      <td>64.0</td>\n",
       "      <td>77.0</td>\n",
       "      <td>Yes</td>\n",
       "      <td>No</td>\n",
       "    </tr>\n",
       "    <tr>\n",
       "      <th>4</th>\n",
       "      <td>108</td>\n",
       "      <td>282.0</td>\n",
       "      <td>23.0</td>\n",
       "      <td>67.0</td>\n",
       "      <td>125.0</td>\n",
       "      <td>Yes</td>\n",
       "      <td>No</td>\n",
       "    </tr>\n",
       "    <tr>\n",
       "      <th>5</th>\n",
       "      <td>136</td>\n",
       "      <td>286.0</td>\n",
       "      <td>25.0</td>\n",
       "      <td>62.0</td>\n",
       "      <td>93.0</td>\n",
       "      <td>No</td>\n",
       "      <td>No</td>\n",
       "    </tr>\n",
       "  </tbody>\n",
       "</table>\n",
       "</div>"
      ],
      "text/plain": [
       "   bwt  gestation   age  height  weight Is Smoker Previous Pregnancy\n",
       "0  120      284.0  27.0    62.0   100.0        No                 No\n",
       "1  113      282.0  33.0    64.0   135.0        No                 No\n",
       "2  128      279.0  28.0    64.0    77.0       Yes                 No\n",
       "4  108      282.0  23.0    67.0   125.0       Yes                 No\n",
       "5  136      286.0  25.0    62.0    93.0        No                 No"
      ]
     },
     "execution_count": 48,
     "metadata": {},
     "output_type": "execute_result"
    }
   ],
   "source": [
    "bbs[\"Is Smoker\"] = bbs[\"smoke\"]\n",
    "bbs[\"Previous Pregnancy\"] = bbs[\"parity\"]\n",
    "bbs[\"Is Smoker\"].replace([0.0, 1.0], [\"No\", \"Yes\"], inplace = True)\n",
    "bbs[\"Previous Pregnancy\"].replace([0, 1], [\"No\", \"Yes\"], inplace = True)\n",
    "bbs.drop(columns = ['smoke', 'parity'], inplace = True)\n",
    "bbs.head()"
   ]
  },
  {
   "cell_type": "code",
   "execution_count": 49,
   "id": "3d636a1b",
   "metadata": {},
   "outputs": [
    {
     "data": {
      "text/plain": [
       "(1174, 7)"
      ]
     },
     "execution_count": 49,
     "metadata": {},
     "output_type": "execute_result"
    }
   ],
   "source": [
    "#6-1\n",
    "\n",
    "bbs2 = bbs.copy()\n",
    "\n",
    "bbs2.shape"
   ]
  },
  {
   "cell_type": "code",
   "execution_count": 50,
   "id": "482966d8",
   "metadata": {},
   "outputs": [
    {
     "name": "stdout",
     "output_type": "stream",
     "text": [
      "Q1: 108.0\n",
      "Q3: 131.0\n"
     ]
    }
   ],
   "source": [
    "#6-1 cont\n",
    "\n",
    "q1 = bbs2[\"bwt\"].quantile(.25)\n",
    "q3 = bbs2[\"bwt\"].quantile(.75)\n",
    "\n",
    "print(\"Q1:\", q1)\n",
    "print(\"Q3:\", q3)"
   ]
  },
  {
   "cell_type": "code",
   "execution_count": 51,
   "id": "26876a43",
   "metadata": {},
   "outputs": [
    {
     "name": "stdout",
     "output_type": "stream",
     "text": [
      "IQR: 23.0\n"
     ]
    }
   ],
   "source": [
    "#6-1 cont\n",
    "\n",
    "iqr = q3 - q1\n",
    "\n",
    "print(\"IQR:\", iqr)"
   ]
  },
  {
   "cell_type": "code",
   "execution_count": 52,
   "id": "7edc8282",
   "metadata": {},
   "outputs": [
    {
     "name": "stdout",
     "output_type": "stream",
     "text": [
      "Upper Limit: 165.5\n",
      "Lower Limit: 73.5\n"
     ]
    }
   ],
   "source": [
    "#6-1 cont\n",
    "\n",
    "top = q3 + (iqr * 1.5)\n",
    "bottom = q1 - (iqr * 1.5)\n",
    "\n",
    "\n",
    "print(\"Upper Limit:\", top)\n",
    "print(\"Lower Limit:\", bottom)"
   ]
  },
  {
   "cell_type": "code",
   "execution_count": 53,
   "id": "12545b2a",
   "metadata": {},
   "outputs": [
    {
     "name": "stdout",
     "output_type": "stream",
     "text": [
      "INDEX VALUES: Int64Index([ 239,  309,  361,  462,  500,  529,  556,  594,  632,  709,  738,\n",
      "             747,  829,  904,  912,  978, 1021, 1035, 1063, 1065, 1099, 1139,\n",
      "            1148, 1169],\n",
      "           dtype='int64')\n"
     ]
    }
   ],
   "source": [
    "#6-1 cont\n",
    "\n",
    "iqr_outliers = bbs2.loc[(bbs2['bwt'] > top) | (bbs2['bwt'] < bottom)].index\n",
    "\n",
    "print(\"INDEX VALUES:\", iqr_outliers)"
   ]
  },
  {
   "cell_type": "code",
   "execution_count": 54,
   "id": "036fe3d4",
   "metadata": {},
   "outputs": [
    {
     "data": {
      "text/html": [
       "<div>\n",
       "<style scoped>\n",
       "    .dataframe tbody tr th:only-of-type {\n",
       "        vertical-align: middle;\n",
       "    }\n",
       "\n",
       "    .dataframe tbody tr th {\n",
       "        vertical-align: top;\n",
       "    }\n",
       "\n",
       "    .dataframe thead th {\n",
       "        text-align: right;\n",
       "    }\n",
       "</style>\n",
       "<table border=\"1\" class=\"dataframe\">\n",
       "  <thead>\n",
       "    <tr style=\"text-align: right;\">\n",
       "      <th></th>\n",
       "      <th>bwt</th>\n",
       "      <th>gestation</th>\n",
       "      <th>age</th>\n",
       "      <th>height</th>\n",
       "      <th>weight</th>\n",
       "      <th>Is Smoker</th>\n",
       "      <th>Previous Pregnancy</th>\n",
       "    </tr>\n",
       "  </thead>\n",
       "  <tbody>\n",
       "    <tr>\n",
       "      <th>261</th>\n",
       "      <td>81</td>\n",
       "      <td>256.0</td>\n",
       "      <td>30.0</td>\n",
       "      <td>64.0</td>\n",
       "      <td>148.0</td>\n",
       "      <td>Yes</td>\n",
       "      <td>No</td>\n",
       "    </tr>\n",
       "    <tr>\n",
       "      <th>332</th>\n",
       "      <td>103</td>\n",
       "      <td>273.0</td>\n",
       "      <td>22.0</td>\n",
       "      <td>64.0</td>\n",
       "      <td>110.0</td>\n",
       "      <td>Yes</td>\n",
       "      <td>Yes</td>\n",
       "    </tr>\n",
       "    <tr>\n",
       "      <th>388</th>\n",
       "      <td>98</td>\n",
       "      <td>275.0</td>\n",
       "      <td>25.0</td>\n",
       "      <td>65.0</td>\n",
       "      <td>112.0</td>\n",
       "      <td>Yes</td>\n",
       "      <td>No</td>\n",
       "    </tr>\n",
       "    <tr>\n",
       "      <th>497</th>\n",
       "      <td>101</td>\n",
       "      <td>289.0</td>\n",
       "      <td>31.0</td>\n",
       "      <td>60.0</td>\n",
       "      <td>125.0</td>\n",
       "      <td>No</td>\n",
       "      <td>Yes</td>\n",
       "    </tr>\n",
       "    <tr>\n",
       "      <th>537</th>\n",
       "      <td>147</td>\n",
       "      <td>277.0</td>\n",
       "      <td>30.0</td>\n",
       "      <td>68.0</td>\n",
       "      <td>160.0</td>\n",
       "      <td>No</td>\n",
       "      <td>No</td>\n",
       "    </tr>\n",
       "    <tr>\n",
       "      <th>566</th>\n",
       "      <td>133</td>\n",
       "      <td>280.0</td>\n",
       "      <td>25.0</td>\n",
       "      <td>61.0</td>\n",
       "      <td>130.0</td>\n",
       "      <td>No</td>\n",
       "      <td>Yes</td>\n",
       "    </tr>\n",
       "    <tr>\n",
       "      <th>593</th>\n",
       "      <td>118</td>\n",
       "      <td>297.0</td>\n",
       "      <td>35.0</td>\n",
       "      <td>68.0</td>\n",
       "      <td>140.0</td>\n",
       "      <td>Yes</td>\n",
       "      <td>No</td>\n",
       "    </tr>\n",
       "    <tr>\n",
       "      <th>632</th>\n",
       "      <td>176</td>\n",
       "      <td>293.0</td>\n",
       "      <td>19.0</td>\n",
       "      <td>68.0</td>\n",
       "      <td>180.0</td>\n",
       "      <td>No</td>\n",
       "      <td>Yes</td>\n",
       "    </tr>\n",
       "    <tr>\n",
       "      <th>676</th>\n",
       "      <td>100</td>\n",
       "      <td>275.0</td>\n",
       "      <td>26.0</td>\n",
       "      <td>60.0</td>\n",
       "      <td>115.0</td>\n",
       "      <td>No</td>\n",
       "      <td>No</td>\n",
       "    </tr>\n",
       "    <tr>\n",
       "      <th>757</th>\n",
       "      <td>155</td>\n",
       "      <td>279.0</td>\n",
       "      <td>33.0</td>\n",
       "      <td>61.0</td>\n",
       "      <td>125.0</td>\n",
       "      <td>No</td>\n",
       "      <td>No</td>\n",
       "    </tr>\n",
       "    <tr>\n",
       "      <th>787</th>\n",
       "      <td>125</td>\n",
       "      <td>272.0</td>\n",
       "      <td>30.0</td>\n",
       "      <td>60.0</td>\n",
       "      <td>96.0</td>\n",
       "      <td>No</td>\n",
       "      <td>No</td>\n",
       "    </tr>\n",
       "    <tr>\n",
       "      <th>796</th>\n",
       "      <td>152</td>\n",
       "      <td>286.0</td>\n",
       "      <td>19.0</td>\n",
       "      <td>67.0</td>\n",
       "      <td>135.0</td>\n",
       "      <td>No</td>\n",
       "      <td>Yes</td>\n",
       "    </tr>\n",
       "    <tr>\n",
       "      <th>881</th>\n",
       "      <td>128</td>\n",
       "      <td>272.0</td>\n",
       "      <td>18.0</td>\n",
       "      <td>67.0</td>\n",
       "      <td>109.0</td>\n",
       "      <td>No</td>\n",
       "      <td>Yes</td>\n",
       "    </tr>\n",
       "    <tr>\n",
       "      <th>958</th>\n",
       "      <td>133</td>\n",
       "      <td>290.0</td>\n",
       "      <td>21.0</td>\n",
       "      <td>64.0</td>\n",
       "      <td>145.0</td>\n",
       "      <td>No</td>\n",
       "      <td>No</td>\n",
       "    </tr>\n",
       "    <tr>\n",
       "      <th>967</th>\n",
       "      <td>119</td>\n",
       "      <td>273.0</td>\n",
       "      <td>35.0</td>\n",
       "      <td>65.0</td>\n",
       "      <td>125.0</td>\n",
       "      <td>Yes</td>\n",
       "      <td>No</td>\n",
       "    </tr>\n",
       "    <tr>\n",
       "      <th>1035</th>\n",
       "      <td>65</td>\n",
       "      <td>237.0</td>\n",
       "      <td>31.0</td>\n",
       "      <td>67.0</td>\n",
       "      <td>130.0</td>\n",
       "      <td>No</td>\n",
       "      <td>No</td>\n",
       "    </tr>\n",
       "    <tr>\n",
       "      <th>1079</th>\n",
       "      <td>119</td>\n",
       "      <td>286.0</td>\n",
       "      <td>33.0</td>\n",
       "      <td>67.0</td>\n",
       "      <td>137.0</td>\n",
       "      <td>No</td>\n",
       "      <td>Yes</td>\n",
       "    </tr>\n",
       "    <tr>\n",
       "      <th>1093</th>\n",
       "      <td>108</td>\n",
       "      <td>256.0</td>\n",
       "      <td>26.0</td>\n",
       "      <td>67.0</td>\n",
       "      <td>130.0</td>\n",
       "      <td>No</td>\n",
       "      <td>Yes</td>\n",
       "    </tr>\n",
       "    <tr>\n",
       "      <th>1121</th>\n",
       "      <td>128</td>\n",
       "      <td>277.0</td>\n",
       "      <td>39.0</td>\n",
       "      <td>61.0</td>\n",
       "      <td>120.0</td>\n",
       "      <td>No</td>\n",
       "      <td>No</td>\n",
       "    </tr>\n",
       "    <tr>\n",
       "      <th>1123</th>\n",
       "      <td>133</td>\n",
       "      <td>289.0</td>\n",
       "      <td>22.0</td>\n",
       "      <td>65.0</td>\n",
       "      <td>123.0</td>\n",
       "      <td>Yes</td>\n",
       "      <td>No</td>\n",
       "    </tr>\n",
       "    <tr>\n",
       "      <th>1157</th>\n",
       "      <td>141</td>\n",
       "      <td>293.0</td>\n",
       "      <td>28.0</td>\n",
       "      <td>61.0</td>\n",
       "      <td>125.0</td>\n",
       "      <td>No</td>\n",
       "      <td>No</td>\n",
       "    </tr>\n",
       "    <tr>\n",
       "      <th>1200</th>\n",
       "      <td>97</td>\n",
       "      <td>255.0</td>\n",
       "      <td>22.0</td>\n",
       "      <td>63.0</td>\n",
       "      <td>107.0</td>\n",
       "      <td>Yes</td>\n",
       "      <td>Yes</td>\n",
       "    </tr>\n",
       "    <tr>\n",
       "      <th>1209</th>\n",
       "      <td>144</td>\n",
       "      <td>283.0</td>\n",
       "      <td>25.0</td>\n",
       "      <td>66.0</td>\n",
       "      <td>140.0</td>\n",
       "      <td>No</td>\n",
       "      <td>Yes</td>\n",
       "    </tr>\n",
       "    <tr>\n",
       "      <th>1231</th>\n",
       "      <td>113</td>\n",
       "      <td>275.0</td>\n",
       "      <td>27.0</td>\n",
       "      <td>60.0</td>\n",
       "      <td>100.0</td>\n",
       "      <td>No</td>\n",
       "      <td>Yes</td>\n",
       "    </tr>\n",
       "  </tbody>\n",
       "</table>\n",
       "</div>"
      ],
      "text/plain": [
       "      bwt  gestation   age  height  weight Is Smoker Previous Pregnancy\n",
       "261    81      256.0  30.0    64.0   148.0       Yes                 No\n",
       "332   103      273.0  22.0    64.0   110.0       Yes                Yes\n",
       "388    98      275.0  25.0    65.0   112.0       Yes                 No\n",
       "497   101      289.0  31.0    60.0   125.0        No                Yes\n",
       "537   147      277.0  30.0    68.0   160.0        No                 No\n",
       "566   133      280.0  25.0    61.0   130.0        No                Yes\n",
       "593   118      297.0  35.0    68.0   140.0       Yes                 No\n",
       "632   176      293.0  19.0    68.0   180.0        No                Yes\n",
       "676   100      275.0  26.0    60.0   115.0        No                 No\n",
       "757   155      279.0  33.0    61.0   125.0        No                 No\n",
       "787   125      272.0  30.0    60.0    96.0        No                 No\n",
       "796   152      286.0  19.0    67.0   135.0        No                Yes\n",
       "881   128      272.0  18.0    67.0   109.0        No                Yes\n",
       "958   133      290.0  21.0    64.0   145.0        No                 No\n",
       "967   119      273.0  35.0    65.0   125.0       Yes                 No\n",
       "1035   65      237.0  31.0    67.0   130.0        No                 No\n",
       "1079  119      286.0  33.0    67.0   137.0        No                Yes\n",
       "1093  108      256.0  26.0    67.0   130.0        No                Yes\n",
       "1121  128      277.0  39.0    61.0   120.0        No                 No\n",
       "1123  133      289.0  22.0    65.0   123.0       Yes                 No\n",
       "1157  141      293.0  28.0    61.0   125.0        No                 No\n",
       "1200   97      255.0  22.0    63.0   107.0       Yes                Yes\n",
       "1209  144      283.0  25.0    66.0   140.0        No                Yes\n",
       "1231  113      275.0  27.0    60.0   100.0        No                Yes"
      ]
     },
     "execution_count": 54,
     "metadata": {},
     "output_type": "execute_result"
    }
   ],
   "source": [
    "#6-1 cont\n",
    "\n",
    "bbs2.iloc[[239,  309,  361,  462,  500,  529,  556,  594,  632,  709,  738,\n",
    "             747,  829,  904,  912,  978, 1021, 1035, 1063, 1065, 1099, 1139,\n",
    "            1148, 1169]]"
   ]
  },
  {
   "cell_type": "code",
   "execution_count": 55,
   "id": "b88f6626",
   "metadata": {},
   "outputs": [
    {
     "name": "stdout",
     "output_type": "stream",
     "text": [
      "(1150, 7)\n"
     ]
    }
   ],
   "source": [
    "#6-1 cont\n",
    "\n",
    "bbs2 = bbs2.drop(iqr_outliers)\n",
    "print(bbs2.shape)"
   ]
  },
  {
   "cell_type": "code",
   "execution_count": 56,
   "id": "4c888f4b",
   "metadata": {},
   "outputs": [],
   "source": [
    "bbs2 = bbs2.reset_index(drop = True)"
   ]
  },
  {
   "cell_type": "code",
   "execution_count": 57,
   "id": "3edceaef",
   "metadata": {},
   "outputs": [
    {
     "name": "stdout",
     "output_type": "stream",
     "text": [
      "Q1: 272.0\n",
      "Q3: 288.0\n"
     ]
    }
   ],
   "source": [
    "#6-1 cont\n",
    "\n",
    "q1 = bbs2[\"gestation\"].quantile(.25)\n",
    "q3 = bbs2[\"gestation\"].quantile(.75)\n",
    "\n",
    "print(\"Q1:\", q1)\n",
    "print(\"Q3:\", q3)"
   ]
  },
  {
   "cell_type": "code",
   "execution_count": 58,
   "id": "85d8961d",
   "metadata": {},
   "outputs": [
    {
     "name": "stdout",
     "output_type": "stream",
     "text": [
      "IQR: 16.0\n"
     ]
    }
   ],
   "source": [
    "#6-1 cont\n",
    "\n",
    "iqr = q3 - q1\n",
    "\n",
    "print(\"IQR:\", iqr)"
   ]
  },
  {
   "cell_type": "code",
   "execution_count": 59,
   "id": "d1df36f4",
   "metadata": {},
   "outputs": [
    {
     "name": "stdout",
     "output_type": "stream",
     "text": [
      "Upper Limit: 312.0\n",
      "Lower Limit: 248.0\n"
     ]
    }
   ],
   "source": [
    "#6-1 cont\n",
    "\n",
    "top = q3 + (iqr * 1.5)\n",
    "bottom = q1 - (iqr * 1.5)\n",
    "\n",
    "\n",
    "print(\"Upper Limit:\", top)\n",
    "print(\"Lower Limit:\", bottom)"
   ]
  },
  {
   "cell_type": "code",
   "execution_count": 60,
   "id": "b9f74064",
   "metadata": {},
   "outputs": [
    {
     "name": "stdout",
     "output_type": "stream",
     "text": [
      "INDEX VALUES: Int64Index([   5,    6,    9,   56,   60,   63,  109,  119,  143,  173,  177,\n",
      "             182,  193,  198,  200,  215,  220,  232,  237,  256,  319,  343,\n",
      "             364,  406,  425,  445,  470,  482,  584,  632,  645,  654,  670,\n",
      "             688,  701,  708,  717,  723,  767,  768,  771,  806,  858,  883,\n",
      "             899,  930,  947,  952,  996, 1055, 1060, 1062, 1066, 1071, 1090,\n",
      "            1095, 1114, 1121, 1122, 1131, 1133, 1140],\n",
      "           dtype='int64')\n"
     ]
    }
   ],
   "source": [
    "#6-1 cont\n",
    "\n",
    "iqr_outliers = bbs2.loc[(bbs2['gestation'] > top) | (bbs2['gestation'] < bottom)].index\n",
    "\n",
    "print(\"INDEX VALUES:\", iqr_outliers)"
   ]
  },
  {
   "cell_type": "code",
   "execution_count": 61,
   "id": "9d0a74a9",
   "metadata": {},
   "outputs": [
    {
     "data": {
      "text/html": [
       "<div>\n",
       "<style scoped>\n",
       "    .dataframe tbody tr th:only-of-type {\n",
       "        vertical-align: middle;\n",
       "    }\n",
       "\n",
       "    .dataframe tbody tr th {\n",
       "        vertical-align: top;\n",
       "    }\n",
       "\n",
       "    .dataframe thead th {\n",
       "        text-align: right;\n",
       "    }\n",
       "</style>\n",
       "<table border=\"1\" class=\"dataframe\">\n",
       "  <thead>\n",
       "    <tr style=\"text-align: right;\">\n",
       "      <th></th>\n",
       "      <th>bwt</th>\n",
       "      <th>gestation</th>\n",
       "      <th>age</th>\n",
       "      <th>height</th>\n",
       "      <th>weight</th>\n",
       "      <th>Is Smoker</th>\n",
       "      <th>Previous Pregnancy</th>\n",
       "    </tr>\n",
       "  </thead>\n",
       "  <tbody>\n",
       "    <tr>\n",
       "      <th>5</th>\n",
       "      <td>138</td>\n",
       "      <td>244.0</td>\n",
       "      <td>33.0</td>\n",
       "      <td>62.0</td>\n",
       "      <td>178.0</td>\n",
       "      <td>No</td>\n",
       "      <td>No</td>\n",
       "    </tr>\n",
       "    <tr>\n",
       "      <th>6</th>\n",
       "      <td>132</td>\n",
       "      <td>245.0</td>\n",
       "      <td>23.0</td>\n",
       "      <td>65.0</td>\n",
       "      <td>140.0</td>\n",
       "      <td>No</td>\n",
       "      <td>No</td>\n",
       "    </tr>\n",
       "    <tr>\n",
       "      <th>9</th>\n",
       "      <td>140</td>\n",
       "      <td>351.0</td>\n",
       "      <td>27.0</td>\n",
       "      <td>68.0</td>\n",
       "      <td>120.0</td>\n",
       "      <td>No</td>\n",
       "      <td>No</td>\n",
       "    </tr>\n",
       "    <tr>\n",
       "      <th>56</th>\n",
       "      <td>75</td>\n",
       "      <td>232.0</td>\n",
       "      <td>33.0</td>\n",
       "      <td>61.0</td>\n",
       "      <td>110.0</td>\n",
       "      <td>No</td>\n",
       "      <td>No</td>\n",
       "    </tr>\n",
       "    <tr>\n",
       "      <th>60</th>\n",
       "      <td>101</td>\n",
       "      <td>245.0</td>\n",
       "      <td>23.0</td>\n",
       "      <td>63.0</td>\n",
       "      <td>130.0</td>\n",
       "      <td>Yes</td>\n",
       "      <td>No</td>\n",
       "    </tr>\n",
       "    <tr>\n",
       "      <th>...</th>\n",
       "      <td>...</td>\n",
       "      <td>...</td>\n",
       "      <td>...</td>\n",
       "      <td>...</td>\n",
       "      <td>...</td>\n",
       "      <td>...</td>\n",
       "      <td>...</td>\n",
       "    </tr>\n",
       "    <tr>\n",
       "      <th>1121</th>\n",
       "      <td>127</td>\n",
       "      <td>242.0</td>\n",
       "      <td>17.0</td>\n",
       "      <td>61.0</td>\n",
       "      <td>135.0</td>\n",
       "      <td>Yes</td>\n",
       "      <td>No</td>\n",
       "    </tr>\n",
       "    <tr>\n",
       "      <th>1122</th>\n",
       "      <td>87</td>\n",
       "      <td>247.0</td>\n",
       "      <td>18.0</td>\n",
       "      <td>66.0</td>\n",
       "      <td>125.0</td>\n",
       "      <td>Yes</td>\n",
       "      <td>Yes</td>\n",
       "    </tr>\n",
       "    <tr>\n",
       "      <th>1131</th>\n",
       "      <td>146</td>\n",
       "      <td>319.0</td>\n",
       "      <td>28.0</td>\n",
       "      <td>66.0</td>\n",
       "      <td>145.0</td>\n",
       "      <td>No</td>\n",
       "      <td>No</td>\n",
       "    </tr>\n",
       "    <tr>\n",
       "      <th>1133</th>\n",
       "      <td>110</td>\n",
       "      <td>321.0</td>\n",
       "      <td>28.0</td>\n",
       "      <td>66.0</td>\n",
       "      <td>180.0</td>\n",
       "      <td>No</td>\n",
       "      <td>No</td>\n",
       "    </tr>\n",
       "    <tr>\n",
       "      <th>1140</th>\n",
       "      <td>109</td>\n",
       "      <td>244.0</td>\n",
       "      <td>21.0</td>\n",
       "      <td>63.0</td>\n",
       "      <td>102.0</td>\n",
       "      <td>Yes</td>\n",
       "      <td>Yes</td>\n",
       "    </tr>\n",
       "  </tbody>\n",
       "</table>\n",
       "<p>62 rows × 7 columns</p>\n",
       "</div>"
      ],
      "text/plain": [
       "      bwt  gestation   age  height  weight Is Smoker Previous Pregnancy\n",
       "5     138      244.0  33.0    62.0   178.0        No                 No\n",
       "6     132      245.0  23.0    65.0   140.0        No                 No\n",
       "9     140      351.0  27.0    68.0   120.0        No                 No\n",
       "56     75      232.0  33.0    61.0   110.0        No                 No\n",
       "60    101      245.0  23.0    63.0   130.0       Yes                 No\n",
       "...   ...        ...   ...     ...     ...       ...                ...\n",
       "1121  127      242.0  17.0    61.0   135.0       Yes                 No\n",
       "1122   87      247.0  18.0    66.0   125.0       Yes                Yes\n",
       "1131  146      319.0  28.0    66.0   145.0        No                 No\n",
       "1133  110      321.0  28.0    66.0   180.0        No                 No\n",
       "1140  109      244.0  21.0    63.0   102.0       Yes                Yes\n",
       "\n",
       "[62 rows x 7 columns]"
      ]
     },
     "execution_count": 61,
     "metadata": {},
     "output_type": "execute_result"
    }
   ],
   "source": [
    "#6-1 cont\n",
    "\n",
    "bbs2.iloc[[5,    6,    9,   56,   60,   63,  109,  119,  143,  173,  177,\n",
    "             182,  193,  198,  200,  215,  220,  232,  237,  256,  319,  343,\n",
    "             364,  406,  425,  445,  470,  482,  584,  632,  645,  654,  670,\n",
    "             688,  701,  708,  717,  723,  767,  768,  771,  806,  858,  883,\n",
    "             899,  930,  947,  952,  996, 1055, 1060, 1062, 1066, 1071, 1090,\n",
    "            1095, 1114, 1121, 1122, 1131, 1133, 1140]]"
   ]
  },
  {
   "cell_type": "code",
   "execution_count": 62,
   "id": "f22fb3fb",
   "metadata": {},
   "outputs": [
    {
     "data": {
      "text/plain": [
       "(1088, 7)"
      ]
     },
     "execution_count": 62,
     "metadata": {},
     "output_type": "execute_result"
    }
   ],
   "source": [
    "bbs2 = bbs2.drop(iqr_outliers)\n",
    "bbs2.shape"
   ]
  },
  {
   "cell_type": "code",
   "execution_count": 63,
   "id": "9acf7723",
   "metadata": {},
   "outputs": [],
   "source": [
    "bbs2 = bbs2.reset_index(drop = True)"
   ]
  },
  {
   "cell_type": "code",
   "execution_count": 64,
   "id": "9ec64348",
   "metadata": {},
   "outputs": [
    {
     "name": "stdout",
     "output_type": "stream",
     "text": [
      "Q1: 23.0\n",
      "Q3: 31.0\n"
     ]
    }
   ],
   "source": [
    "q1 = bbs2[\"age\"].quantile(.25)\n",
    "q3 = bbs2[\"age\"].quantile(.75)\n",
    "\n",
    "print(\"Q1:\", q1)\n",
    "print(\"Q3:\", q3)"
   ]
  },
  {
   "cell_type": "code",
   "execution_count": 65,
   "id": "63e1f07a",
   "metadata": {},
   "outputs": [
    {
     "name": "stdout",
     "output_type": "stream",
     "text": [
      "IQR: 8.0\n"
     ]
    }
   ],
   "source": [
    "iqr = q3 - q1\n",
    "\n",
    "print(\"IQR:\", iqr)"
   ]
  },
  {
   "cell_type": "code",
   "execution_count": 66,
   "id": "317a162b",
   "metadata": {},
   "outputs": [
    {
     "name": "stdout",
     "output_type": "stream",
     "text": [
      "Upper Limit: 43.0\n",
      "Lower Limit: 11.0\n"
     ]
    }
   ],
   "source": [
    "top = q3 + (iqr * 1.5)\n",
    "bottom = q1 - (iqr * 1.5)\n",
    "\n",
    "\n",
    "print(\"Upper Limit:\", top)\n",
    "print(\"Lower Limit:\", bottom)"
   ]
  },
  {
   "cell_type": "code",
   "execution_count": 67,
   "id": "ae1b78fc",
   "metadata": {},
   "outputs": [
    {
     "name": "stdout",
     "output_type": "stream",
     "text": [
      "INDEX VALUES: Int64Index([557, 944], dtype='int64')\n"
     ]
    }
   ],
   "source": [
    "iqr_outliers = bbs2.loc[(bbs2['age'] > top) | (bbs2['age'] < bottom)].index\n",
    "\n",
    "print(\"INDEX VALUES:\", iqr_outliers)"
   ]
  },
  {
   "cell_type": "code",
   "execution_count": 68,
   "id": "e90df0e8",
   "metadata": {},
   "outputs": [
    {
     "data": {
      "text/html": [
       "<div>\n",
       "<style scoped>\n",
       "    .dataframe tbody tr th:only-of-type {\n",
       "        vertical-align: middle;\n",
       "    }\n",
       "\n",
       "    .dataframe tbody tr th {\n",
       "        vertical-align: top;\n",
       "    }\n",
       "\n",
       "    .dataframe thead th {\n",
       "        text-align: right;\n",
       "    }\n",
       "</style>\n",
       "<table border=\"1\" class=\"dataframe\">\n",
       "  <thead>\n",
       "    <tr style=\"text-align: right;\">\n",
       "      <th></th>\n",
       "      <th>bwt</th>\n",
       "      <th>gestation</th>\n",
       "      <th>age</th>\n",
       "      <th>height</th>\n",
       "      <th>weight</th>\n",
       "      <th>Is Smoker</th>\n",
       "      <th>Previous Pregnancy</th>\n",
       "    </tr>\n",
       "  </thead>\n",
       "  <tbody>\n",
       "    <tr>\n",
       "      <th>557</th>\n",
       "      <td>143</td>\n",
       "      <td>294.0</td>\n",
       "      <td>44.0</td>\n",
       "      <td>65.0</td>\n",
       "      <td>145.0</td>\n",
       "      <td>No</td>\n",
       "      <td>No</td>\n",
       "    </tr>\n",
       "    <tr>\n",
       "      <th>944</th>\n",
       "      <td>122</td>\n",
       "      <td>280.0</td>\n",
       "      <td>45.0</td>\n",
       "      <td>62.0</td>\n",
       "      <td>128.0</td>\n",
       "      <td>No</td>\n",
       "      <td>Yes</td>\n",
       "    </tr>\n",
       "  </tbody>\n",
       "</table>\n",
       "</div>"
      ],
      "text/plain": [
       "     bwt  gestation   age  height  weight Is Smoker Previous Pregnancy\n",
       "557  143      294.0  44.0    65.0   145.0        No                 No\n",
       "944  122      280.0  45.0    62.0   128.0        No                Yes"
      ]
     },
     "execution_count": 68,
     "metadata": {},
     "output_type": "execute_result"
    }
   ],
   "source": [
    "bbs2.iloc[[557, 944]]"
   ]
  },
  {
   "cell_type": "code",
   "execution_count": 69,
   "id": "c5100615",
   "metadata": {},
   "outputs": [
    {
     "name": "stdout",
     "output_type": "stream",
     "text": [
      "(1086, 7)\n"
     ]
    }
   ],
   "source": [
    "bbs2 = bbs2.drop(iqr_outliers)\n",
    "print(bbs2.shape)"
   ]
  },
  {
   "cell_type": "code",
   "execution_count": 70,
   "id": "e90da61b",
   "metadata": {},
   "outputs": [],
   "source": [
    "bbs2 = bbs2.reset_index(drop = True)"
   ]
  },
  {
   "cell_type": "code",
   "execution_count": 71,
   "id": "d00731c1",
   "metadata": {},
   "outputs": [
    {
     "name": "stdout",
     "output_type": "stream",
     "text": [
      "Q1: 62.0\n",
      "Q3: 66.0\n"
     ]
    }
   ],
   "source": [
    "q1 = bbs2[\"height\"].quantile(.25)\n",
    "q3 = bbs2[\"height\"].quantile(.75)\n",
    "\n",
    "print(\"Q1:\", q1)\n",
    "print(\"Q3:\", q3)"
   ]
  },
  {
   "cell_type": "code",
   "execution_count": 72,
   "id": "7adc7fe8",
   "metadata": {},
   "outputs": [
    {
     "name": "stdout",
     "output_type": "stream",
     "text": [
      "IQR: 4.0\n"
     ]
    }
   ],
   "source": [
    "iqr = q3 - q1\n",
    "\n",
    "print(\"IQR:\", iqr)"
   ]
  },
  {
   "cell_type": "code",
   "execution_count": 73,
   "id": "02a2d5b4",
   "metadata": {},
   "outputs": [
    {
     "name": "stdout",
     "output_type": "stream",
     "text": [
      "Upper Limit: 72.0\n",
      "Lower Limit: 56.0\n"
     ]
    }
   ],
   "source": [
    "top = q3 + (iqr * 1.5)\n",
    "bottom = q1 - (iqr * 1.5)\n",
    "\n",
    "\n",
    "print(\"Upper Limit:\", top)\n",
    "print(\"Lower Limit:\", bottom)"
   ]
  },
  {
   "cell_type": "code",
   "execution_count": 74,
   "id": "5540adef",
   "metadata": {},
   "outputs": [
    {
     "name": "stdout",
     "output_type": "stream",
     "text": [
      "INDEX VALUES: Int64Index([378, 1062], dtype='int64')\n"
     ]
    }
   ],
   "source": [
    "iqr_outliers = bbs2.loc[(bbs2['height'] > top) | (bbs2['height'] < bottom)].index\n",
    "\n",
    "print(\"INDEX VALUES:\", iqr_outliers)"
   ]
  },
  {
   "cell_type": "code",
   "execution_count": 75,
   "id": "95080eca",
   "metadata": {},
   "outputs": [
    {
     "data": {
      "text/html": [
       "<div>\n",
       "<style scoped>\n",
       "    .dataframe tbody tr th:only-of-type {\n",
       "        vertical-align: middle;\n",
       "    }\n",
       "\n",
       "    .dataframe tbody tr th {\n",
       "        vertical-align: top;\n",
       "    }\n",
       "\n",
       "    .dataframe thead th {\n",
       "        text-align: right;\n",
       "    }\n",
       "</style>\n",
       "<table border=\"1\" class=\"dataframe\">\n",
       "  <thead>\n",
       "    <tr style=\"text-align: right;\">\n",
       "      <th></th>\n",
       "      <th>bwt</th>\n",
       "      <th>gestation</th>\n",
       "      <th>age</th>\n",
       "      <th>height</th>\n",
       "      <th>weight</th>\n",
       "      <th>Is Smoker</th>\n",
       "      <th>Previous Pregnancy</th>\n",
       "    </tr>\n",
       "  </thead>\n",
       "  <tbody>\n",
       "    <tr>\n",
       "      <th>378</th>\n",
       "      <td>146</td>\n",
       "      <td>263.0</td>\n",
       "      <td>39.0</td>\n",
       "      <td>53.0</td>\n",
       "      <td>110.0</td>\n",
       "      <td>Yes</td>\n",
       "      <td>No</td>\n",
       "    </tr>\n",
       "    <tr>\n",
       "      <th>1062</th>\n",
       "      <td>141</td>\n",
       "      <td>281.0</td>\n",
       "      <td>29.0</td>\n",
       "      <td>54.0</td>\n",
       "      <td>156.0</td>\n",
       "      <td>Yes</td>\n",
       "      <td>No</td>\n",
       "    </tr>\n",
       "  </tbody>\n",
       "</table>\n",
       "</div>"
      ],
      "text/plain": [
       "      bwt  gestation   age  height  weight Is Smoker Previous Pregnancy\n",
       "378   146      263.0  39.0    53.0   110.0       Yes                 No\n",
       "1062  141      281.0  29.0    54.0   156.0       Yes                 No"
      ]
     },
     "execution_count": 75,
     "metadata": {},
     "output_type": "execute_result"
    }
   ],
   "source": [
    "bbs2.iloc[[378, 1062]]"
   ]
  },
  {
   "cell_type": "code",
   "execution_count": 76,
   "id": "9cf1eee2",
   "metadata": {},
   "outputs": [
    {
     "name": "stdout",
     "output_type": "stream",
     "text": [
      "(1084, 7)\n"
     ]
    }
   ],
   "source": [
    "bbs2 = bbs2.drop(iqr_outliers)\n",
    "\n",
    "print(bbs2.shape)"
   ]
  },
  {
   "cell_type": "code",
   "execution_count": 77,
   "id": "456096ef",
   "metadata": {},
   "outputs": [],
   "source": [
    "bbs2 = bbs2.reset_index(drop = True)"
   ]
  },
  {
   "cell_type": "code",
   "execution_count": 78,
   "id": "deb3b945",
   "metadata": {},
   "outputs": [
    {
     "name": "stdout",
     "output_type": "stream",
     "text": [
      "Q1: 114.0\n",
      "Q3: 137.0\n"
     ]
    }
   ],
   "source": [
    "q1 = bbs2[\"weight\"].quantile(.25)\n",
    "q3 = bbs2[\"weight\"].quantile(.75)\n",
    "\n",
    "print(\"Q1:\", q1)\n",
    "print(\"Q3:\", q3)"
   ]
  },
  {
   "cell_type": "code",
   "execution_count": 79,
   "id": "2c3bc7d3",
   "metadata": {},
   "outputs": [
    {
     "name": "stdout",
     "output_type": "stream",
     "text": [
      "IQR: 23.0\n"
     ]
    }
   ],
   "source": [
    "iqr = q3 - q1\n",
    "\n",
    "print(\"IQR:\", iqr)"
   ]
  },
  {
   "cell_type": "code",
   "execution_count": 80,
   "id": "51294694",
   "metadata": {},
   "outputs": [
    {
     "name": "stdout",
     "output_type": "stream",
     "text": [
      "Upper Limit: 171.5\n",
      "Lower Limit: 79.5\n"
     ]
    }
   ],
   "source": [
    "top = q3 + (iqr * 1.5)\n",
    "bottom = q1 - (iqr * 1.5)\n",
    "\n",
    "\n",
    "print(\"Upper Limit:\", top)\n",
    "print(\"Lower Limit:\", bottom)"
   ]
  },
  {
   "cell_type": "code",
   "execution_count": 81,
   "id": "1ebc2a98",
   "metadata": {},
   "outputs": [
    {
     "name": "stdout",
     "output_type": "stream",
     "text": [
      "INDEX VALUES: Int64Index([   2,   10,   17,   19,   23,   36,   78,  101,  108,  129,  131,\n",
      "             140,  157,  158,  160,  189,  244,  266,  269,  298,  357,  372,\n",
      "             398,  441,  443,  453,  457,  490,  521,  533,  547,  610,  611,\n",
      "             633,  642,  743,  752,  753,  759,  778,  800,  811,  821,  888,\n",
      "            1016, 1029, 1064, 1081],\n",
      "           dtype='int64')\n"
     ]
    }
   ],
   "source": [
    "iqr_outliers = bbs2.loc[(bbs2['weight'] > top) | (bbs2['weight'] < bottom)].index\n",
    "\n",
    "print(\"INDEX VALUES:\", iqr_outliers)"
   ]
  },
  {
   "cell_type": "code",
   "execution_count": 82,
   "id": "7ea38ff6",
   "metadata": {},
   "outputs": [
    {
     "data": {
      "text/html": [
       "<div>\n",
       "<style scoped>\n",
       "    .dataframe tbody tr th:only-of-type {\n",
       "        vertical-align: middle;\n",
       "    }\n",
       "\n",
       "    .dataframe tbody tr th {\n",
       "        vertical-align: top;\n",
       "    }\n",
       "\n",
       "    .dataframe thead th {\n",
       "        text-align: right;\n",
       "    }\n",
       "</style>\n",
       "<table border=\"1\" class=\"dataframe\">\n",
       "  <thead>\n",
       "    <tr style=\"text-align: right;\">\n",
       "      <th></th>\n",
       "      <th>bwt</th>\n",
       "      <th>gestation</th>\n",
       "      <th>age</th>\n",
       "      <th>height</th>\n",
       "      <th>weight</th>\n",
       "      <th>Is Smoker</th>\n",
       "      <th>Previous Pregnancy</th>\n",
       "    </tr>\n",
       "  </thead>\n",
       "  <tbody>\n",
       "    <tr>\n",
       "      <th>2</th>\n",
       "      <td>128</td>\n",
       "      <td>279.0</td>\n",
       "      <td>28.0</td>\n",
       "      <td>64.0</td>\n",
       "      <td>77.0</td>\n",
       "      <td>Yes</td>\n",
       "      <td>No</td>\n",
       "    </tr>\n",
       "    <tr>\n",
       "      <th>10</th>\n",
       "      <td>114</td>\n",
       "      <td>273.0</td>\n",
       "      <td>30.0</td>\n",
       "      <td>63.0</td>\n",
       "      <td>498.0</td>\n",
       "      <td>No</td>\n",
       "      <td>No</td>\n",
       "    </tr>\n",
       "    <tr>\n",
       "      <th>17</th>\n",
       "      <td>115</td>\n",
       "      <td>274.0</td>\n",
       "      <td>27.0</td>\n",
       "      <td>67.0</td>\n",
       "      <td>175.0</td>\n",
       "      <td>Yes</td>\n",
       "      <td>No</td>\n",
       "    </tr>\n",
       "    <tr>\n",
       "      <th>19</th>\n",
       "      <td>122</td>\n",
       "      <td>276.0</td>\n",
       "      <td>30.0</td>\n",
       "      <td>68.0</td>\n",
       "      <td>182.0</td>\n",
       "      <td>No</td>\n",
       "      <td>No</td>\n",
       "    </tr>\n",
       "    <tr>\n",
       "      <th>23</th>\n",
       "      <td>114</td>\n",
       "      <td>266.0</td>\n",
       "      <td>20.0</td>\n",
       "      <td>65.0</td>\n",
       "      <td>175.0</td>\n",
       "      <td>Yes</td>\n",
       "      <td>No</td>\n",
       "    </tr>\n",
       "    <tr>\n",
       "      <th>36</th>\n",
       "      <td>110</td>\n",
       "      <td>278.0</td>\n",
       "      <td>23.0</td>\n",
       "      <td>63.0</td>\n",
       "      <td>177.0</td>\n",
       "      <td>No</td>\n",
       "      <td>No</td>\n",
       "    </tr>\n",
       "    <tr>\n",
       "      <th>78</th>\n",
       "      <td>125</td>\n",
       "      <td>305.0</td>\n",
       "      <td>22.0</td>\n",
       "      <td>70.0</td>\n",
       "      <td>196.0</td>\n",
       "      <td>Yes</td>\n",
       "      <td>No</td>\n",
       "    </tr>\n",
       "    <tr>\n",
       "      <th>101</th>\n",
       "      <td>131</td>\n",
       "      <td>283.0</td>\n",
       "      <td>25.0</td>\n",
       "      <td>67.0</td>\n",
       "      <td>215.0</td>\n",
       "      <td>No</td>\n",
       "      <td>No</td>\n",
       "    </tr>\n",
       "    <tr>\n",
       "      <th>108</th>\n",
       "      <td>115</td>\n",
       "      <td>283.0</td>\n",
       "      <td>25.0</td>\n",
       "      <td>61.0</td>\n",
       "      <td>1500.0</td>\n",
       "      <td>Yes</td>\n",
       "      <td>No</td>\n",
       "    </tr>\n",
       "    <tr>\n",
       "      <th>129</th>\n",
       "      <td>160</td>\n",
       "      <td>300.0</td>\n",
       "      <td>29.0</td>\n",
       "      <td>71.0</td>\n",
       "      <td>175.0</td>\n",
       "      <td>Yes</td>\n",
       "      <td>No</td>\n",
       "    </tr>\n",
       "    <tr>\n",
       "      <th>131</th>\n",
       "      <td>126</td>\n",
       "      <td>282.0</td>\n",
       "      <td>38.0</td>\n",
       "      <td>66.0</td>\n",
       "      <td>250.0</td>\n",
       "      <td>No</td>\n",
       "      <td>No</td>\n",
       "    </tr>\n",
       "    <tr>\n",
       "      <th>140</th>\n",
       "      <td>125</td>\n",
       "      <td>262.0</td>\n",
       "      <td>36.0</td>\n",
       "      <td>66.0</td>\n",
       "      <td>190.0</td>\n",
       "      <td>No</td>\n",
       "      <td>No</td>\n",
       "    </tr>\n",
       "    <tr>\n",
       "      <th>157</th>\n",
       "      <td>136</td>\n",
       "      <td>285.0</td>\n",
       "      <td>23.0</td>\n",
       "      <td>62.0</td>\n",
       "      <td>175.0</td>\n",
       "      <td>No</td>\n",
       "      <td>No</td>\n",
       "    </tr>\n",
       "    <tr>\n",
       "      <th>158</th>\n",
       "      <td>113</td>\n",
       "      <td>277.0</td>\n",
       "      <td>23.0</td>\n",
       "      <td>65.0</td>\n",
       "      <td>192.0</td>\n",
       "      <td>Yes</td>\n",
       "      <td>No</td>\n",
       "    </tr>\n",
       "    <tr>\n",
       "      <th>160</th>\n",
       "      <td>124</td>\n",
       "      <td>277.0</td>\n",
       "      <td>29.0</td>\n",
       "      <td>63.0</td>\n",
       "      <td>220.0</td>\n",
       "      <td>No</td>\n",
       "      <td>No</td>\n",
       "    </tr>\n",
       "    <tr>\n",
       "      <th>189</th>\n",
       "      <td>119</td>\n",
       "      <td>286.0</td>\n",
       "      <td>20.0</td>\n",
       "      <td>64.0</td>\n",
       "      <td>180.0</td>\n",
       "      <td>No</td>\n",
       "      <td>No</td>\n",
       "    </tr>\n",
       "    <tr>\n",
       "      <th>244</th>\n",
       "      <td>148</td>\n",
       "      <td>279.0</td>\n",
       "      <td>27.0</td>\n",
       "      <td>71.0</td>\n",
       "      <td>189.0</td>\n",
       "      <td>No</td>\n",
       "      <td>No</td>\n",
       "    </tr>\n",
       "    <tr>\n",
       "      <th>266</th>\n",
       "      <td>124</td>\n",
       "      <td>292.0</td>\n",
       "      <td>29.0</td>\n",
       "      <td>68.0</td>\n",
       "      <td>176.0</td>\n",
       "      <td>Yes</td>\n",
       "      <td>No</td>\n",
       "    </tr>\n",
       "    <tr>\n",
       "      <th>269</th>\n",
       "      <td>100</td>\n",
       "      <td>277.0</td>\n",
       "      <td>31.0</td>\n",
       "      <td>62.0</td>\n",
       "      <td>355.0</td>\n",
       "      <td>Yes</td>\n",
       "      <td>No</td>\n",
       "    </tr>\n",
       "    <tr>\n",
       "      <th>298</th>\n",
       "      <td>105</td>\n",
       "      <td>276.0</td>\n",
       "      <td>22.0</td>\n",
       "      <td>67.0</td>\n",
       "      <td>845.0</td>\n",
       "      <td>No</td>\n",
       "      <td>No</td>\n",
       "    </tr>\n",
       "    <tr>\n",
       "      <th>357</th>\n",
       "      <td>116</td>\n",
       "      <td>276.0</td>\n",
       "      <td>33.0</td>\n",
       "      <td>61.0</td>\n",
       "      <td>180.0</td>\n",
       "      <td>No</td>\n",
       "      <td>No</td>\n",
       "    </tr>\n",
       "    <tr>\n",
       "      <th>372</th>\n",
       "      <td>140</td>\n",
       "      <td>251.0</td>\n",
       "      <td>28.0</td>\n",
       "      <td>63.0</td>\n",
       "      <td>210.0</td>\n",
       "      <td>No</td>\n",
       "      <td>No</td>\n",
       "    </tr>\n",
       "    <tr>\n",
       "      <th>398</th>\n",
       "      <td>85</td>\n",
       "      <td>258.0</td>\n",
       "      <td>41.0</td>\n",
       "      <td>67.0</td>\n",
       "      <td>399.0</td>\n",
       "      <td>No</td>\n",
       "      <td>No</td>\n",
       "    </tr>\n",
       "    <tr>\n",
       "      <th>441</th>\n",
       "      <td>119</td>\n",
       "      <td>271.0</td>\n",
       "      <td>28.0</td>\n",
       "      <td>64.0</td>\n",
       "      <td>175.0</td>\n",
       "      <td>Yes</td>\n",
       "      <td>No</td>\n",
       "    </tr>\n",
       "    <tr>\n",
       "      <th>443</th>\n",
       "      <td>131</td>\n",
       "      <td>263.0</td>\n",
       "      <td>29.0</td>\n",
       "      <td>64.0</td>\n",
       "      <td>180.0</td>\n",
       "      <td>Yes</td>\n",
       "      <td>No</td>\n",
       "    </tr>\n",
       "    <tr>\n",
       "      <th>453</th>\n",
       "      <td>132</td>\n",
       "      <td>282.0</td>\n",
       "      <td>28.0</td>\n",
       "      <td>67.0</td>\n",
       "      <td>200.0</td>\n",
       "      <td>Yes</td>\n",
       "      <td>No</td>\n",
       "    </tr>\n",
       "    <tr>\n",
       "      <th>457</th>\n",
       "      <td>114</td>\n",
       "      <td>293.0</td>\n",
       "      <td>20.0</td>\n",
       "      <td>66.0</td>\n",
       "      <td>180.0</td>\n",
       "      <td>Yes</td>\n",
       "      <td>Yes</td>\n",
       "    </tr>\n",
       "    <tr>\n",
       "      <th>490</th>\n",
       "      <td>105</td>\n",
       "      <td>260.0</td>\n",
       "      <td>23.0</td>\n",
       "      <td>64.0</td>\n",
       "      <td>197.0</td>\n",
       "      <td>No</td>\n",
       "      <td>No</td>\n",
       "    </tr>\n",
       "    <tr>\n",
       "      <th>521</th>\n",
       "      <td>104</td>\n",
       "      <td>270.0</td>\n",
       "      <td>25.0</td>\n",
       "      <td>61.0</td>\n",
       "      <td>511.0</td>\n",
       "      <td>No</td>\n",
       "      <td>No</td>\n",
       "    </tr>\n",
       "    <tr>\n",
       "      <th>533</th>\n",
       "      <td>115</td>\n",
       "      <td>273.0</td>\n",
       "      <td>23.0</td>\n",
       "      <td>67.0</td>\n",
       "      <td>215.0</td>\n",
       "      <td>Yes</td>\n",
       "      <td>Yes</td>\n",
       "    </tr>\n",
       "    <tr>\n",
       "      <th>547</th>\n",
       "      <td>91</td>\n",
       "      <td>248.0</td>\n",
       "      <td>33.0</td>\n",
       "      <td>63.0</td>\n",
       "      <td>202.0</td>\n",
       "      <td>No</td>\n",
       "      <td>No</td>\n",
       "    </tr>\n",
       "    <tr>\n",
       "      <th>610</th>\n",
       "      <td>150</td>\n",
       "      <td>286.0</td>\n",
       "      <td>38.0</td>\n",
       "      <td>67.0</td>\n",
       "      <td>175.0</td>\n",
       "      <td>No</td>\n",
       "      <td>No</td>\n",
       "    </tr>\n",
       "    <tr>\n",
       "      <th>611</th>\n",
       "      <td>86</td>\n",
       "      <td>284.0</td>\n",
       "      <td>39.0</td>\n",
       "      <td>65.0</td>\n",
       "      <td>174.0</td>\n",
       "      <td>Yes</td>\n",
       "      <td>No</td>\n",
       "    </tr>\n",
       "    <tr>\n",
       "      <th>633</th>\n",
       "      <td>116</td>\n",
       "      <td>280.0</td>\n",
       "      <td>34.0</td>\n",
       "      <td>68.0</td>\n",
       "      <td>198.0</td>\n",
       "      <td>No</td>\n",
       "      <td>No</td>\n",
       "    </tr>\n",
       "    <tr>\n",
       "      <th>642</th>\n",
       "      <td>84</td>\n",
       "      <td>279.0</td>\n",
       "      <td>34.0</td>\n",
       "      <td>63.0</td>\n",
       "      <td>190.0</td>\n",
       "      <td>No</td>\n",
       "      <td>No</td>\n",
       "    </tr>\n",
       "    <tr>\n",
       "      <th>743</th>\n",
       "      <td>160</td>\n",
       "      <td>271.0</td>\n",
       "      <td>32.0</td>\n",
       "      <td>67.0</td>\n",
       "      <td>215.0</td>\n",
       "      <td>No</td>\n",
       "      <td>No</td>\n",
       "    </tr>\n",
       "    <tr>\n",
       "      <th>752</th>\n",
       "      <td>136</td>\n",
       "      <td>291.0</td>\n",
       "      <td>41.0</td>\n",
       "      <td>66.0</td>\n",
       "      <td>191.0</td>\n",
       "      <td>No</td>\n",
       "      <td>No</td>\n",
       "    </tr>\n",
       "    <tr>\n",
       "      <th>753</th>\n",
       "      <td>119</td>\n",
       "      <td>286.0</td>\n",
       "      <td>22.0</td>\n",
       "      <td>63.0</td>\n",
       "      <td>185.0</td>\n",
       "      <td>Yes</td>\n",
       "      <td>No</td>\n",
       "    </tr>\n",
       "    <tr>\n",
       "      <th>759</th>\n",
       "      <td>122</td>\n",
       "      <td>273.0</td>\n",
       "      <td>26.0</td>\n",
       "      <td>66.0</td>\n",
       "      <td>210.0</td>\n",
       "      <td>No</td>\n",
       "      <td>No</td>\n",
       "    </tr>\n",
       "    <tr>\n",
       "      <th>778</th>\n",
       "      <td>125</td>\n",
       "      <td>301.0</td>\n",
       "      <td>35.0</td>\n",
       "      <td>68.0</td>\n",
       "      <td>181.0</td>\n",
       "      <td>No</td>\n",
       "      <td>Yes</td>\n",
       "    </tr>\n",
       "    <tr>\n",
       "      <th>800</th>\n",
       "      <td>138</td>\n",
       "      <td>280.0</td>\n",
       "      <td>30.0</td>\n",
       "      <td>65.0</td>\n",
       "      <td>478.0</td>\n",
       "      <td>No</td>\n",
       "      <td>Yes</td>\n",
       "    </tr>\n",
       "    <tr>\n",
       "      <th>811</th>\n",
       "      <td>136</td>\n",
       "      <td>288.0</td>\n",
       "      <td>23.0</td>\n",
       "      <td>62.0</td>\n",
       "      <td>217.0</td>\n",
       "      <td>No</td>\n",
       "      <td>No</td>\n",
       "    </tr>\n",
       "    <tr>\n",
       "      <th>821</th>\n",
       "      <td>97</td>\n",
       "      <td>279.0</td>\n",
       "      <td>29.0</td>\n",
       "      <td>68.0</td>\n",
       "      <td>178.0</td>\n",
       "      <td>Yes</td>\n",
       "      <td>No</td>\n",
       "    </tr>\n",
       "    <tr>\n",
       "      <th>888</th>\n",
       "      <td>143</td>\n",
       "      <td>285.0</td>\n",
       "      <td>27.0</td>\n",
       "      <td>68.0</td>\n",
       "      <td>185.0</td>\n",
       "      <td>No</td>\n",
       "      <td>No</td>\n",
       "    </tr>\n",
       "    <tr>\n",
       "      <th>1016</th>\n",
       "      <td>117</td>\n",
       "      <td>284.0</td>\n",
       "      <td>25.0</td>\n",
       "      <td>66.0</td>\n",
       "      <td>177.0</td>\n",
       "      <td>Yes</td>\n",
       "      <td>No</td>\n",
       "    </tr>\n",
       "    <tr>\n",
       "      <th>1029</th>\n",
       "      <td>104</td>\n",
       "      <td>267.0</td>\n",
       "      <td>30.0</td>\n",
       "      <td>63.0</td>\n",
       "      <td>180.0</td>\n",
       "      <td>No</td>\n",
       "      <td>No</td>\n",
       "    </tr>\n",
       "    <tr>\n",
       "      <th>1064</th>\n",
       "      <td>138</td>\n",
       "      <td>286.0</td>\n",
       "      <td>28.0</td>\n",
       "      <td>68.0</td>\n",
       "      <td>27.0</td>\n",
       "      <td>No</td>\n",
       "      <td>Yes</td>\n",
       "    </tr>\n",
       "    <tr>\n",
       "      <th>1081</th>\n",
       "      <td>130</td>\n",
       "      <td>291.0</td>\n",
       "      <td>30.0</td>\n",
       "      <td>65.0</td>\n",
       "      <td>67.0</td>\n",
       "      <td>Yes</td>\n",
       "      <td>No</td>\n",
       "    </tr>\n",
       "  </tbody>\n",
       "</table>\n",
       "</div>"
      ],
      "text/plain": [
       "      bwt  gestation   age  height  weight Is Smoker Previous Pregnancy\n",
       "2     128      279.0  28.0    64.0    77.0       Yes                 No\n",
       "10    114      273.0  30.0    63.0   498.0        No                 No\n",
       "17    115      274.0  27.0    67.0   175.0       Yes                 No\n",
       "19    122      276.0  30.0    68.0   182.0        No                 No\n",
       "23    114      266.0  20.0    65.0   175.0       Yes                 No\n",
       "36    110      278.0  23.0    63.0   177.0        No                 No\n",
       "78    125      305.0  22.0    70.0   196.0       Yes                 No\n",
       "101   131      283.0  25.0    67.0   215.0        No                 No\n",
       "108   115      283.0  25.0    61.0  1500.0       Yes                 No\n",
       "129   160      300.0  29.0    71.0   175.0       Yes                 No\n",
       "131   126      282.0  38.0    66.0   250.0        No                 No\n",
       "140   125      262.0  36.0    66.0   190.0        No                 No\n",
       "157   136      285.0  23.0    62.0   175.0        No                 No\n",
       "158   113      277.0  23.0    65.0   192.0       Yes                 No\n",
       "160   124      277.0  29.0    63.0   220.0        No                 No\n",
       "189   119      286.0  20.0    64.0   180.0        No                 No\n",
       "244   148      279.0  27.0    71.0   189.0        No                 No\n",
       "266   124      292.0  29.0    68.0   176.0       Yes                 No\n",
       "269   100      277.0  31.0    62.0   355.0       Yes                 No\n",
       "298   105      276.0  22.0    67.0   845.0        No                 No\n",
       "357   116      276.0  33.0    61.0   180.0        No                 No\n",
       "372   140      251.0  28.0    63.0   210.0        No                 No\n",
       "398    85      258.0  41.0    67.0   399.0        No                 No\n",
       "441   119      271.0  28.0    64.0   175.0       Yes                 No\n",
       "443   131      263.0  29.0    64.0   180.0       Yes                 No\n",
       "453   132      282.0  28.0    67.0   200.0       Yes                 No\n",
       "457   114      293.0  20.0    66.0   180.0       Yes                Yes\n",
       "490   105      260.0  23.0    64.0   197.0        No                 No\n",
       "521   104      270.0  25.0    61.0   511.0        No                 No\n",
       "533   115      273.0  23.0    67.0   215.0       Yes                Yes\n",
       "547    91      248.0  33.0    63.0   202.0        No                 No\n",
       "610   150      286.0  38.0    67.0   175.0        No                 No\n",
       "611    86      284.0  39.0    65.0   174.0       Yes                 No\n",
       "633   116      280.0  34.0    68.0   198.0        No                 No\n",
       "642    84      279.0  34.0    63.0   190.0        No                 No\n",
       "743   160      271.0  32.0    67.0   215.0        No                 No\n",
       "752   136      291.0  41.0    66.0   191.0        No                 No\n",
       "753   119      286.0  22.0    63.0   185.0       Yes                 No\n",
       "759   122      273.0  26.0    66.0   210.0        No                 No\n",
       "778   125      301.0  35.0    68.0   181.0        No                Yes\n",
       "800   138      280.0  30.0    65.0   478.0        No                Yes\n",
       "811   136      288.0  23.0    62.0   217.0        No                 No\n",
       "821    97      279.0  29.0    68.0   178.0       Yes                 No\n",
       "888   143      285.0  27.0    68.0   185.0        No                 No\n",
       "1016  117      284.0  25.0    66.0   177.0       Yes                 No\n",
       "1029  104      267.0  30.0    63.0   180.0        No                 No\n",
       "1064  138      286.0  28.0    68.0    27.0        No                Yes\n",
       "1081  130      291.0  30.0    65.0    67.0       Yes                 No"
      ]
     },
     "execution_count": 82,
     "metadata": {},
     "output_type": "execute_result"
    }
   ],
   "source": [
    "bbs2.iloc[[2,   10,   17,   19,   23,   36,   78,  101,  108,  129,  131,\n",
    "             140,  157,  158,  160,  189,  244,  266,  269,  298,  357,  372,\n",
    "             398,  441,  443,  453,  457,  490,  521,  533,  547,  610,  611,\n",
    "             633,  642,  743,  752,  753,  759,  778,  800,  811,  821,  888,\n",
    "            1016, 1029, 1064, 1081]]"
   ]
  },
  {
   "cell_type": "code",
   "execution_count": 83,
   "id": "5ae7e695",
   "metadata": {},
   "outputs": [
    {
     "name": "stdout",
     "output_type": "stream",
     "text": [
      "(1036, 7)\n"
     ]
    }
   ],
   "source": [
    "bbs2 = bbs2.drop(iqr_outliers)\n",
    "\n",
    "print(bbs2.shape)"
   ]
  },
  {
   "cell_type": "code",
   "execution_count": 84,
   "id": "51604e98",
   "metadata": {},
   "outputs": [
    {
     "data": {
      "text/plain": [
       "No     631\n",
       "Yes    405\n",
       "Name: Is Smoker, dtype: int64"
      ]
     },
     "execution_count": 84,
     "metadata": {},
     "output_type": "execute_result"
    }
   ],
   "source": [
    "#7-1\n",
    "\n",
    "# Determine the frequencies of each group within each categorical variable. Which groups have the highest frequency?\n",
    "\n",
    "bbs2[\"Is Smoker\"].value_counts()\n",
    "\n",
    "# Non-Smokers are the highest frequency"
   ]
  },
  {
   "cell_type": "code",
   "execution_count": 85,
   "id": "f87cb9ec",
   "metadata": {},
   "outputs": [
    {
     "data": {
      "text/plain": [
       "No     754\n",
       "Yes    282\n",
       "Name: Previous Pregnancy, dtype: int64"
      ]
     },
     "execution_count": 85,
     "metadata": {},
     "output_type": "execute_result"
    }
   ],
   "source": [
    "#7-1 cont\n",
    "\n",
    "bbs2[\"Previous Pregnancy\"].value_counts()\n",
    "\n",
    "# Patients that have not had a previous pregnancy are the highest"
   ]
  },
  {
   "cell_type": "code",
   "execution_count": 86,
   "id": "6c59e311",
   "metadata": {},
   "outputs": [
    {
     "data": {
      "text/plain": [
       "No     0.609073\n",
       "Yes    0.390927\n",
       "Name: Is Smoker, dtype: float64"
      ]
     },
     "execution_count": 86,
     "metadata": {},
     "output_type": "execute_result"
    }
   ],
   "source": [
    "#7-2\n",
    "\n",
    "#Determine the relative frequencies of each group within each categorical variable.\n",
    "# Which groups have the highest relative frequencies?\n",
    "\n",
    "bbs2[\"Is Smoker\"].value_counts(normalize=True)\n",
    "\n",
    "#No has the highest relative frequency here"
   ]
  },
  {
   "cell_type": "code",
   "execution_count": 87,
   "id": "8792fc07",
   "metadata": {},
   "outputs": [
    {
     "data": {
      "text/plain": [
       "No     0.727799\n",
       "Yes    0.272201\n",
       "Name: Previous Pregnancy, dtype: float64"
      ]
     },
     "execution_count": 87,
     "metadata": {},
     "output_type": "execute_result"
    }
   ],
   "source": [
    "#7-2 cont\n",
    "\n",
    "bbs2[\"Previous Pregnancy\"].value_counts(normalize=True)\n",
    "\n",
    "#No previous pregnancy has the highest relative frequency here."
   ]
  },
  {
   "cell_type": "code",
   "execution_count": 88,
   "id": "304e0929",
   "metadata": {},
   "outputs": [
    {
     "data": {
      "text/html": [
       "<div>\n",
       "<style scoped>\n",
       "    .dataframe tbody tr th:only-of-type {\n",
       "        vertical-align: middle;\n",
       "    }\n",
       "\n",
       "    .dataframe tbody tr th {\n",
       "        vertical-align: top;\n",
       "    }\n",
       "\n",
       "    .dataframe thead th {\n",
       "        text-align: right;\n",
       "    }\n",
       "</style>\n",
       "<table border=\"1\" class=\"dataframe\">\n",
       "  <thead>\n",
       "    <tr style=\"text-align: right;\">\n",
       "      <th>Previous Pregnancy</th>\n",
       "      <th>No</th>\n",
       "      <th>Yes</th>\n",
       "    </tr>\n",
       "    <tr>\n",
       "      <th>Is Smoker</th>\n",
       "      <th></th>\n",
       "      <th></th>\n",
       "    </tr>\n",
       "  </thead>\n",
       "  <tbody>\n",
       "    <tr>\n",
       "      <th>No</th>\n",
       "      <td>459</td>\n",
       "      <td>172</td>\n",
       "    </tr>\n",
       "    <tr>\n",
       "      <th>Yes</th>\n",
       "      <td>295</td>\n",
       "      <td>110</td>\n",
       "    </tr>\n",
       "  </tbody>\n",
       "</table>\n",
       "</div>"
      ],
      "text/plain": [
       "Previous Pregnancy   No  Yes\n",
       "Is Smoker                   \n",
       "No                  459  172\n",
       "Yes                 295  110"
      ]
     },
     "execution_count": 88,
     "metadata": {},
     "output_type": "execute_result"
    }
   ],
   "source": [
    "#7-3\n",
    "\n",
    "#Create a crosstab table using both the categorical variables in your dataset.\n",
    "#How many mothers are smokers who have been pregnant before?\n",
    "\n",
    "pd.crosstab(bbs2[\"Is Smoker\"], bbs2[\"Previous Pregnancy\"], margins=False, normalize=False)\n",
    "\n",
    "#110 smokers have been pregnant before."
   ]
  },
  {
   "cell_type": "code",
   "execution_count": 89,
   "id": "e10737b4",
   "metadata": {},
   "outputs": [
    {
     "data": {
      "text/plain": [
       "120.17567567567568"
      ]
     },
     "execution_count": 89,
     "metadata": {},
     "output_type": "execute_result"
    }
   ],
   "source": [
    "#8\n",
    "#Describe the Measures of Central Tendency (mean, median, mode) of the numeric variables in the dataset.\n",
    "#Calculate the mean, median, and mode for all 5 numeric variables. \n",
    "\n",
    "bbs2[\"bwt\"].mean()"
   ]
  },
  {
   "cell_type": "code",
   "execution_count": 90,
   "id": "c2dbe7ce",
   "metadata": {},
   "outputs": [
    {
     "data": {
      "text/plain": [
       "279.984555984556"
      ]
     },
     "execution_count": 90,
     "metadata": {},
     "output_type": "execute_result"
    }
   ],
   "source": [
    "#8 cont\n",
    "\n",
    "bbs2[\"gestation\"].mean()"
   ]
  },
  {
   "cell_type": "code",
   "execution_count": 91,
   "id": "ffff1098",
   "metadata": {},
   "outputs": [
    {
     "data": {
      "text/plain": [
       "27.159266409266408"
      ]
     },
     "execution_count": 91,
     "metadata": {},
     "output_type": "execute_result"
    }
   ],
   "source": [
    "#8 cont\n",
    "\n",
    "bbs2[\"age\"].mean()"
   ]
  },
  {
   "cell_type": "code",
   "execution_count": 92,
   "id": "6515d31c",
   "metadata": {},
   "outputs": [
    {
     "data": {
      "text/plain": [
       "64.00965250965251"
      ]
     },
     "execution_count": 92,
     "metadata": {},
     "output_type": "execute_result"
    }
   ],
   "source": [
    "#8 cont\n",
    "\n",
    "bbs2[\"height\"].mean()"
   ]
  },
  {
   "cell_type": "code",
   "execution_count": 93,
   "id": "c5435307",
   "metadata": {},
   "outputs": [
    {
     "data": {
      "text/plain": [
       "125.65637065637065"
      ]
     },
     "execution_count": 93,
     "metadata": {},
     "output_type": "execute_result"
    }
   ],
   "source": [
    "#8 cont\n",
    "\n",
    "bbs2[\"weight\"].mean()"
   ]
  },
  {
   "cell_type": "code",
   "execution_count": 94,
   "id": "eafba857",
   "metadata": {},
   "outputs": [
    {
     "data": {
      "text/plain": [
       "120.0"
      ]
     },
     "execution_count": 94,
     "metadata": {},
     "output_type": "execute_result"
    }
   ],
   "source": [
    "#8 cont\n",
    "\n",
    "bbs2[\"bwt\"].median()\n",
    "\n",
    "#decimal point is off somewhere in this data set. \n",
    "#if this is in pounds its more likely that the average weight is 12, not 120"
   ]
  },
  {
   "cell_type": "code",
   "execution_count": 95,
   "id": "6fe56652",
   "metadata": {},
   "outputs": [
    {
     "data": {
      "text/plain": [
       "280.0"
      ]
     },
     "execution_count": 95,
     "metadata": {},
     "output_type": "execute_result"
    }
   ],
   "source": [
    "#8 cont\n",
    "\n",
    "bbs2[\"gestation\"].median()\n",
    "\n",
    "#Most likely a decimal point is off somewhere in this data. \n",
    "#all the data in this column is either incorrect or doesn't apply to humans. \n",
    "#Human gestation is only 9 months long.\n",
    "#The median here is over 5 years long"
   ]
  },
  {
   "cell_type": "code",
   "execution_count": 96,
   "id": "eb1094c1",
   "metadata": {},
   "outputs": [
    {
     "data": {
      "text/plain": [
       "26.0"
      ]
     },
     "execution_count": 96,
     "metadata": {},
     "output_type": "execute_result"
    }
   ],
   "source": [
    "#8 cont\n",
    "\n",
    "bbs2[\"age\"].median()\n",
    "\n",
    "#Seems about where the average age of a human mother would be."
   ]
  },
  {
   "cell_type": "code",
   "execution_count": 97,
   "id": "c3763f67",
   "metadata": {},
   "outputs": [
    {
     "data": {
      "text/plain": [
       "64.0"
      ]
     },
     "execution_count": 97,
     "metadata": {},
     "output_type": "execute_result"
    }
   ],
   "source": [
    "#8 cont\n",
    "\n",
    "bbs2[\"height\"].median()\n",
    "\n",
    "#Seems resonable. Average mother height is 5'3\""
   ]
  },
  {
   "cell_type": "code",
   "execution_count": 98,
   "id": "b11cf61b",
   "metadata": {},
   "outputs": [
    {
     "data": {
      "text/plain": [
       "125.0"
      ]
     },
     "execution_count": 98,
     "metadata": {},
     "output_type": "execute_result"
    }
   ],
   "source": [
    "#8 cont\n",
    "\n",
    "bbs2[\"weight\"].median()\n",
    "\n",
    "#Also seems reasonable."
   ]
  },
  {
   "cell_type": "code",
   "execution_count": 99,
   "id": "7a87d296",
   "metadata": {},
   "outputs": [
    {
     "data": {
      "text/plain": [
       "0    117\n",
       "Name: bwt, dtype: int64"
      ]
     },
     "execution_count": 99,
     "metadata": {},
     "output_type": "execute_result"
    }
   ],
   "source": [
    "#8 cont\n",
    "\n",
    "bbs2[\"bwt\"].mode()\n",
    "\n",
    "#looks like a pretty low number, but again, a 3 digit number here doesn't mean much to me.\n",
    "#If we're using pounds for mother weight, why arent we here? And if we are, these numbers don't look right."
   ]
  },
  {
   "cell_type": "code",
   "execution_count": 100,
   "id": "7548f1d1",
   "metadata": {},
   "outputs": [
    {
     "data": {
      "text/plain": [
       "0    282.0\n",
       "Name: gestation, dtype: float64"
      ]
     },
     "execution_count": 100,
     "metadata": {},
     "output_type": "execute_result"
    }
   ],
   "source": [
    "#8 cont\n",
    "\n",
    "bbs2[\"gestation\"].mode()\n",
    "\n",
    "#same applies here. THis number looks off if we're truly talking about human female gestation periods."
   ]
  },
  {
   "cell_type": "code",
   "execution_count": 101,
   "id": "f35b7ba6",
   "metadata": {},
   "outputs": [
    {
     "data": {
      "text/plain": [
       "0    24.0\n",
       "Name: age, dtype: float64"
      ]
     },
     "execution_count": 101,
     "metadata": {},
     "output_type": "execute_result"
    }
   ],
   "source": [
    "#8 cont\n",
    "\n",
    "bbs2[\"age\"].mode()\n",
    "\n",
    "#pretty close to the median and perfectly reasonable."
   ]
  },
  {
   "cell_type": "code",
   "execution_count": 102,
   "id": "f6974664",
   "metadata": {},
   "outputs": [
    {
     "data": {
      "text/plain": [
       "0    65.0\n",
       "Name: height, dtype: float64"
      ]
     },
     "execution_count": 102,
     "metadata": {},
     "output_type": "execute_result"
    }
   ],
   "source": [
    "#8 cont\n",
    "\n",
    "bbs2[\"height\"].mode()\n",
    "\n",
    "#large enough sameple so that this number isn't too far from the median."
   ]
  },
  {
   "cell_type": "code",
   "execution_count": 103,
   "id": "6a1a4ac0",
   "metadata": {},
   "outputs": [
    {
     "data": {
      "text/plain": [
       "0    130.0\n",
       "Name: weight, dtype: float64"
      ]
     },
     "execution_count": 103,
     "metadata": {},
     "output_type": "execute_result"
    }
   ],
   "source": [
    "#8 cont\n",
    "\n",
    "bbs2[\"weight\"].mode()\n",
    "\n",
    "#same with this. Close to the median as would be expected."
   ]
  },
  {
   "cell_type": "code",
   "execution_count": 104,
   "id": "98e1929d",
   "metadata": {},
   "outputs": [
    {
     "name": "stdout",
     "output_type": "stream",
     "text": [
      "90\n"
     ]
    }
   ],
   "source": [
    "#9\n",
    "\n",
    "#Describe the Measures of Variability of the numeric variables in the dataset.\n",
    "#Calculate the range, standard deviation, and 85th percentile for all 5 numeric variables.\n",
    "\n",
    "bwt_range = bbs2['bwt'].max() - bbs2['bwt'].min()\n",
    "\n",
    "print(bwt_range)\n"
   ]
  },
  {
   "cell_type": "code",
   "execution_count": 105,
   "id": "02c2f670",
   "metadata": {},
   "outputs": [
    {
     "name": "stdout",
     "output_type": "stream",
     "text": [
      "64.0\n"
     ]
    }
   ],
   "source": [
    "#9 cont\n",
    "\n",
    "gestation_range = bbs2['gestation'].max() - bbs2['gestation'].min()\n",
    "\n",
    "print(gestation_range)\n",
    "\n"
   ]
  },
  {
   "cell_type": "code",
   "execution_count": 106,
   "id": "e17870cf",
   "metadata": {},
   "outputs": [
    {
     "name": "stdout",
     "output_type": "stream",
     "text": [
      "28.0\n"
     ]
    }
   ],
   "source": [
    "#9 cont\n",
    "\n",
    "age_range = bbs2['age'].max() - bbs2['age'].min()\n",
    "\n",
    "print(age_range)"
   ]
  },
  {
   "cell_type": "code",
   "execution_count": 107,
   "id": "41f54397",
   "metadata": {},
   "outputs": [
    {
     "name": "stdout",
     "output_type": "stream",
     "text": [
      "16.0\n"
     ]
    }
   ],
   "source": [
    "#9 cont\n",
    "\n",
    "height_range = bbs2['height'].max() - bbs2['height'].min()\n",
    "\n",
    "print(height_range)"
   ]
  },
  {
   "cell_type": "code",
   "execution_count": 108,
   "id": "bbf08878",
   "metadata": {},
   "outputs": [
    {
     "name": "stdout",
     "output_type": "stream",
     "text": [
      "90.0\n"
     ]
    }
   ],
   "source": [
    "#9 cont\n",
    "\n",
    "weight_range = bbs2['weight'].max() - bbs2['weight'].min()\n",
    "\n",
    "print(weight_range)"
   ]
  },
  {
   "cell_type": "code",
   "execution_count": null,
   "id": "2ef3f765",
   "metadata": {},
   "outputs": [],
   "source": [
    "#bwt and weight both have the largest range. Makes sense. More of a spread in body weight than any other variable.\n",
    "#height has the smallest range. Also makes sense.\n",
    "#Most females are within a couple of feet or so of each other and this shows that"
   ]
  },
  {
   "cell_type": "code",
   "execution_count": 109,
   "id": "a06fc391",
   "metadata": {},
   "outputs": [
    {
     "data": {
      "text/plain": [
       "16.40437160501985"
      ]
     },
     "execution_count": 109,
     "metadata": {},
     "output_type": "execute_result"
    }
   ],
   "source": [
    "#9 cont\n",
    "\n",
    "bbs2[\"bwt\"].std()"
   ]
  },
  {
   "cell_type": "code",
   "execution_count": 110,
   "id": "7ff6013b",
   "metadata": {},
   "outputs": [
    {
     "data": {
      "text/plain": [
       "11.396403911826766"
      ]
     },
     "execution_count": 110,
     "metadata": {},
     "output_type": "execute_result"
    }
   ],
   "source": [
    "#9 cont\n",
    "\n",
    "bbs2[\"gestation\"].std()"
   ]
  },
  {
   "cell_type": "code",
   "execution_count": 111,
   "id": "86c62e54",
   "metadata": {},
   "outputs": [
    {
     "data": {
      "text/plain": [
       "5.723814227977458"
      ]
     },
     "execution_count": 111,
     "metadata": {},
     "output_type": "execute_result"
    }
   ],
   "source": [
    "#9 cont\n",
    "\n",
    "bbs2[\"age\"].std()"
   ]
  },
  {
   "cell_type": "code",
   "execution_count": 112,
   "id": "20f4a7c5",
   "metadata": {},
   "outputs": [
    {
     "data": {
      "text/plain": [
       "2.481215121299967"
      ]
     },
     "execution_count": 112,
     "metadata": {},
     "output_type": "execute_result"
    }
   ],
   "source": [
    "#9 cont\n",
    "\n",
    "bbs2[\"height\"].std()"
   ]
  },
  {
   "cell_type": "code",
   "execution_count": 113,
   "id": "9d9ca356",
   "metadata": {},
   "outputs": [
    {
     "data": {
      "text/plain": [
       "16.581045809853826"
      ]
     },
     "execution_count": 113,
     "metadata": {},
     "output_type": "execute_result"
    }
   ],
   "source": [
    "#9 cont\n",
    "\n",
    "bbs2[\"weight\"].std()"
   ]
  },
  {
   "cell_type": "code",
   "execution_count": null,
   "id": "86c3abb5",
   "metadata": {},
   "outputs": [],
   "source": [
    "#it follows that weight is farther from the mean for both mother and child. That's showed in the std values here.\n",
    "#height again is the lowest std. Most people are around the same height, as we discussed in class.\n"
   ]
  },
  {
   "cell_type": "code",
   "execution_count": 115,
   "id": "8ab6ed8e",
   "metadata": {},
   "outputs": [
    {
     "data": {
      "text/plain": [
       "137.0"
      ]
     },
     "execution_count": 115,
     "metadata": {},
     "output_type": "execute_result"
    }
   ],
   "source": [
    "#9 cont\n",
    "\n",
    "np.percentile(bbs2['bwt'], 85)"
   ]
  },
  {
   "cell_type": "code",
   "execution_count": 116,
   "id": "a0fd0586",
   "metadata": {},
   "outputs": [
    {
     "data": {
      "text/plain": [
       "292.0"
      ]
     },
     "execution_count": 116,
     "metadata": {},
     "output_type": "execute_result"
    }
   ],
   "source": [
    "#9 cont\n",
    "\n",
    "np.percentile(bbs2['gestation'], 85)"
   ]
  },
  {
   "cell_type": "code",
   "execution_count": 117,
   "id": "247042c1",
   "metadata": {},
   "outputs": [
    {
     "data": {
      "text/plain": [
       "34.0"
      ]
     },
     "execution_count": 117,
     "metadata": {},
     "output_type": "execute_result"
    }
   ],
   "source": [
    "#9 cont\n",
    "\n",
    "np.percentile(bbs2['age'], 85)"
   ]
  },
  {
   "cell_type": "code",
   "execution_count": 118,
   "id": "6df93739",
   "metadata": {},
   "outputs": [
    {
     "data": {
      "text/plain": [
       "67.0"
      ]
     },
     "execution_count": 118,
     "metadata": {},
     "output_type": "execute_result"
    }
   ],
   "source": [
    "#9 cont\n",
    "\n",
    "np.percentile(bbs2['height'], 85)"
   ]
  },
  {
   "cell_type": "code",
   "execution_count": 120,
   "id": "2999780a",
   "metadata": {},
   "outputs": [
    {
     "data": {
      "text/plain": [
       "145.0"
      ]
     },
     "execution_count": 120,
     "metadata": {},
     "output_type": "execute_result"
    }
   ],
   "source": [
    "#9 cont\n",
    "\n",
    "np.percentile(bbs2['weight'], 85)"
   ]
  }
 ],
 "metadata": {
  "kernelspec": {
   "display_name": "Python 3 (ipykernel)",
   "language": "python",
   "name": "python3"
  },
  "language_info": {
   "codemirror_mode": {
    "name": "ipython",
    "version": 3
   },
   "file_extension": ".py",
   "mimetype": "text/x-python",
   "name": "python",
   "nbconvert_exporter": "python",
   "pygments_lexer": "ipython3",
   "version": "3.9.13"
  }
 },
 "nbformat": 4,
 "nbformat_minor": 5
}
