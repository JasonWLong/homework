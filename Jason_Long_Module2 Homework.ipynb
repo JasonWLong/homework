{
 "cells": [
  {
   "cell_type": "markdown",
   "id": "c209b646",
   "metadata": {},
   "source": [
    "### Homework #2"
   ]
  },
  {
   "cell_type": "markdown",
   "id": "869ebfd6",
   "metadata": {},
   "source": [
    "1. Round 4.5667 to the nearest hundreth (2 decimals) using a build-in function, round()."
   ]
  },
  {
   "cell_type": "code",
   "execution_count": 21,
   "id": "123658aa",
   "metadata": {},
   "outputs": [
    {
     "data": {
      "text/plain": [
       "4.57"
      ]
     },
     "execution_count": 21,
     "metadata": {},
     "output_type": "execute_result"
    }
   ],
   "source": [
    "round(4.5667,2)"
   ]
  },
  {
   "cell_type": "markdown",
   "id": "9d3f352c",
   "metadata": {},
   "source": [
    "2. Convert \"657\" to an integer data type"
   ]
  },
  {
   "cell_type": "code",
   "execution_count": 2,
   "id": "d5a67683",
   "metadata": {},
   "outputs": [
    {
     "data": {
      "text/plain": [
       "657"
      ]
     },
     "execution_count": 2,
     "metadata": {},
     "output_type": "execute_result"
    }
   ],
   "source": [
    "int(\"657\")"
   ]
  },
  {
   "cell_type": "markdown",
   "id": "a36f06d4",
   "metadata": {},
   "source": [
    "3. Write a program to get two numbers from a user. Then, create a 6-digit code that is a series of randomly generated numbers between the two numbers given by the user. Print the 6-digit code so all digits are separated by a dash. "
   ]
  },
  {
   "cell_type": "code",
   "execution_count": 25,
   "id": "021c92d4",
   "metadata": {},
   "outputs": [
    {
     "name": "stdout",
     "output_type": "stream",
     "text": [
      "Please enter a number\n",
      "Enter a number: 6\n",
      "Enter another number: 7\n",
      "7-7-7-7-7-6\n"
     ]
    }
   ],
   "source": [
    "print(\"Please enter a number\")\n",
    "\n",
    "n1 = int(input(\"Enter a number: \"))\n",
    "n2 = int(input(\"Enter another number: \"))\n",
    "import random as rand\n",
    "d1 = rand.randint(n1, n2)\n",
    "d2 = rand.randint(n1, n2)\n",
    "d3 = rand.randint(n1, n2)\n",
    "d4 = rand.randint(n1, n2)\n",
    "d5 = rand.randint(n1, n2)\n",
    "d6 = rand.randint(n1, n2)\n",
    "print(f\"{d1}-{d2}-{d3}-{d4}-{d5}-{d6}\")"
   ]
  },
  {
   "cell_type": "markdown",
   "id": "ee1441a1",
   "metadata": {},
   "source": [
    "4. Write a program to remove ALL the white spaces from the following text:\n",
    "\n",
    "        Hickory, dickory, dock,     \n",
    "        The mouse ran up the clock.   \n",
    "        The clock struck one,   \n",
    "        The mouse ran down,                      \n",
    "        Hickory, dickory, dock                  "
   ]
  },
  {
   "cell_type": "code",
   "execution_count": 1,
   "id": "8bf680f1",
   "metadata": {},
   "outputs": [],
   "source": [
    " line1 = \"Hickory, dickory, dock, \"\n",
    " line2 = \"The mouse ran up the clock. \"  \n",
    " line3 = \"The clock struck one, \"  \n",
    " line4 = \"The mouse ran down, \"                     \n",
    " line5 = \"Hickory, dickory, dock\" "
   ]
  },
  {
   "cell_type": "code",
   "execution_count": 5,
   "id": "59d9c718",
   "metadata": {},
   "outputs": [
    {
     "name": "stdout",
     "output_type": "stream",
     "text": [
      "Hickory,dickory,dock,\n",
      "Themouseranuptheclock.\n",
      "Theclockstruckone,\n",
      "Themouserandown,\n",
      "Hickory,dickory,dock\n"
     ]
    }
   ],
   "source": [
    "line1 = line1.replace(\" \", \"\")\n",
    "line2 = line2.replace(\" \", \"\")\n",
    "line3 = line3.replace(\" \", \"\")\n",
    "line4 = line4.replace(\" \", \"\")\n",
    "line5 = line5.replace(\" \", \"\")\n",
    "\n",
    "print(line1)\n",
    "print(line2)\n",
    "print(line3)\n",
    "print(line4)\n",
    "print(line5)"
   ]
  },
  {
   "cell_type": "markdown",
   "id": "72d87b5b",
   "metadata": {},
   "source": [
    "5. Write a function to calculate the miles per gallon. Get a miles driven and gallons used from a user and call your function to calculate the miles per gallon."
   ]
  },
  {
   "cell_type": "code",
   "execution_count": 17,
   "id": "27be7372",
   "metadata": {},
   "outputs": [
    {
     "name": "stdout",
     "output_type": "stream",
     "text": [
      "We will calculate miles per gallon\n",
      "Enter number of miles driven: 8\n",
      "Enter number of gallons used: 7\n"
     ]
    },
    {
     "data": {
      "text/plain": [
       "1.1428571428571428"
      ]
     },
     "execution_count": 17,
     "metadata": {},
     "output_type": "execute_result"
    }
   ],
   "source": [
    "print(\"We will calculate miles per gallon\")\n",
    "\n",
    "n1 = int(input(\"Enter number of miles driven: \"))\n",
    "n2 = int(input(\"Enter number of gallons used: \"))\n",
    "\n",
    "def divide(n1, n2):\n",
    "    return n1 / n2 \n",
    "divide(n1, n2)"
   ]
  },
  {
   "cell_type": "code",
   "execution_count": null,
   "id": "ad148369",
   "metadata": {},
   "outputs": [],
   "source": [
    "# 6. Enhance the <b>compute()</b> function created during Module 2. Enhance the function to compute a circle's area and circumference where:\n",
    "\n",
    " - circle's area = 3.14 X (radius X radius)   \n",
    " - circle's circumference = 3.14 X diameter"
   ]
  },
  {
   "cell_type": "code",
   "execution_count": 39,
   "id": "df43daca",
   "metadata": {},
   "outputs": [
    {
     "name": "stdout",
     "output_type": "stream",
     "text": [
      "Enter the circle's radius : 7\n",
      "Enter the circle's diameter : 8\n",
      "The area is: 153.86\n",
      "The circumference is: 25.12\n"
     ]
    }
   ],
   "source": [
    "def compute(a, c):\n",
    "    a = (3.14 * (r * r))\n",
    "    c = 3.14 * d\n",
    "    print(f\"The area is: {a}\")\n",
    "    print(f\"The circumference is: {c}\")\n",
    "    \n",
    "r = int(input(\"Enter the circle's radius : \"))\n",
    "d = int(input(\"Enter the circle's diameter : \")) \n",
    "\n",
    "compute(r, d)"
   ]
  },
  {
   "cell_type": "markdown",
   "id": "4c5d83bb",
   "metadata": {},
   "source": [
    "7. Write a function called multiply_two() that accepts two parameters. The function should print a message like '15 * 2 = 30'.  Randomly generate two numbers between 1 and 100, then call the function with the two random numbers."
   ]
  },
  {
   "cell_type": "code",
   "execution_count": 21,
   "id": "fe5ca2dc",
   "metadata": {},
   "outputs": [
    {
     "name": "stdout",
     "output_type": "stream",
     "text": [
      "896\n"
     ]
    }
   ],
   "source": [
    "import random as rand\n",
    "def multiply_two():\n",
    "    x = rand.randint(1, 100)\n",
    "    y = rand.randint(1, 100)\n",
    "    print(x * y)\n",
    "    \n",
    "multiply_two()"
   ]
  },
  {
   "cell_type": "markdown",
   "id": "36865477",
   "metadata": {},
   "source": [
    "8. Create a function for a multiplication table.  Get a number from a user and then call you function which produces a multiplication table for that number.\n",
    "The output should look something like this:\n",
    "\n",
    "        Enter a number: 3\n",
    "        3 X 1 = 3\n",
    "        3 X 2 = 6\n",
    "        3 X 3 = 9\n",
    "        3 X 4 = 12\n",
    "        3 X 5 = 15\n",
    "        3 X 6 = 18\n",
    "        3 X 7 = 21\n",
    "        3 X 8 = 24\n",
    "        3 X 9 = 27"
   ]
  },
  {
   "cell_type": "code",
   "execution_count": 33,
   "id": "b023e863",
   "metadata": {},
   "outputs": [
    {
     "name": "stdout",
     "output_type": "stream",
     "text": [
      "Enter a number: 7\n",
      "7 X 1 = 7\n",
      "7 X 2 = 14\n",
      "7 X 3 = 21\n",
      "7 X 4 = 28\n",
      "7 X 5 = 35\n",
      "7 X 6 = 42\n",
      "7 X 7 = 49\n",
      "7 X 8 = 56\n",
      "7 X 9 = 63\n"
     ]
    }
   ],
   "source": [
    "num = int(input(\"Enter a number: \"))\n",
    "n1 = 1\n",
    "n2 = 2\n",
    "n3 = 3\n",
    "n4 = 4\n",
    "n5 = 5\n",
    "n6 = 6\n",
    "n7 = 7\n",
    "n8 = 8 \n",
    "n9 = 9\n",
    "one = num * n1\n",
    "two = num * n2\n",
    "thr = num * n3\n",
    "fou = num * n4\n",
    "fiv = num * n5\n",
    "six = num * n6\n",
    "sev = num * n7\n",
    "eig = num * n8\n",
    "nin = num * n9\n",
    "\n",
    "print(f\"{num} X {n1} = {one}\\n{num} X {n2} = {two}\\n{num} X {n3} = {thr}\\n{num} X {n4} = {fou}\\n{num} X {n5} = {fiv}\\n{num} X {n6} = {six}\\n{num} X {n7} = {sev}\\n{num} X {n8} = {eig}\\n{num} X {n9} = {nin}\")\n",
    "    \n"
   ]
  },
  {
   "cell_type": "code",
   "execution_count": null,
   "id": "563c8445",
   "metadata": {},
   "outputs": [],
   "source": []
  }
 ],
 "metadata": {
  "kernelspec": {
   "display_name": "Python 3 (ipykernel)",
   "language": "python",
   "name": "python3"
  },
  "language_info": {
   "codemirror_mode": {
    "name": "ipython",
    "version": 3
   },
   "file_extension": ".py",
   "mimetype": "text/x-python",
   "name": "python",
   "nbconvert_exporter": "python",
   "pygments_lexer": "ipython3",
   "version": "3.9.13"
  }
 },
 "nbformat": 4,
 "nbformat_minor": 5
}
